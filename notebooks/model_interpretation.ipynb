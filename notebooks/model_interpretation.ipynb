{
 "cells": [
  {
   "cell_type": "code",
   "execution_count": 2,
   "id": "initial_id",
   "metadata": {},
   "outputs": [],
   "source": [
    "import os\n",
    "import sys\n",
    "sys.path.append(os.path.abspath(\"../src\"))\n",
    "sys.path.append(os.path.abspath(\"../lightning_logs\"))"
   ]
  },
  {
   "cell_type": "code",
   "execution_count": 17,
   "id": "3f79a8e7-e0f2-4aae-9cd5-c9f66d2ab634",
   "metadata": {},
   "outputs": [],
   "source": [
    "from utils_result import get_loss,get_standardised_loss\n",
    "from plot import plot_bar_vertical\n",
    "import pandas as pd\n",
    "import numpy as np\n",
    "from sklearn.metrics import median_absolute_error\n",
    "\n",
    "from utils_result import *\n",
    "from plot import plot_bar_horizontal,plot_bar_vertical,vertical_boxplot,horizontal_boxplot,create_MAD_comparison_boxplot,create_MAD_comparison_violinplot"
   ]
  },
  {
   "cell_type": "code",
   "execution_count": 4,
   "id": "f00204c7-ffc1-4443-80ee-3ff906e35cfe",
   "metadata": {},
   "outputs": [],
   "source": [
    "model_predictions = \"../results/final_models/CONFIG=final_pool,MODE=supervised,PRETRAIN=own,LR=0.0003262821190296,BS=2048,OPTIM=adamw,LOSS=mae,CLIP=True,ACTIVATION=gelu,SCHED=warmup_decay_cos,SIZE=180,NUMLAYERS=9,HIDDENSIZEMLP=120,DROPOUTMLP=0.1,ACTIVATIONMLP=relu,TYPE=pool/version_0/predictions/t_loss=0.2482.csv\""
   ]
  },
  {
   "cell_type": "code",
   "execution_count": 5,
   "id": "6459ac6c-9758-4e0c-8e60-5a465e926b6e",
   "metadata": {},
   "outputs": [],
   "source": [
    "df = pd.read_csv(model_predictions, index_col=0)"
   ]
  },
  {
   "cell_type": "code",
   "execution_count": 15,
   "id": "64a3b157-ec3c-4a6e-a34e-16028239c8bd",
   "metadata": {},
   "outputs": [
    {
     "data": {
      "text/html": [
       "<div>\n",
       "<style scoped>\n",
       "    .dataframe tbody tr th:only-of-type {\n",
       "        vertical-align: middle;\n",
       "    }\n",
       "\n",
       "    .dataframe tbody tr th {\n",
       "        vertical-align: top;\n",
       "    }\n",
       "\n",
       "    .dataframe thead th {\n",
       "        text-align: right;\n",
       "    }\n",
       "</style>\n",
       "<table border=\"1\" class=\"dataframe\">\n",
       "  <thead>\n",
       "    <tr style=\"text-align: right;\">\n",
       "      <th></th>\n",
       "      <th>modified_sequence</th>\n",
       "      <th>label</th>\n",
       "      <th>filename</th>\n",
       "      <th>dataset</th>\n",
       "      <th>task</th>\n",
       "      <th>predictions</th>\n",
       "    </tr>\n",
       "  </thead>\n",
       "  <tbody>\n",
       "    <tr>\n",
       "      <th>11819239</th>\n",
       "      <td>IEDHLDEAIHVLR</td>\n",
       "      <td>72.695371</td>\n",
       "      <td>Grobi_20121105_CHS_IEF_20121025_pep_gradient_7...</td>\n",
       "      <td>MSV000080274</td>\n",
       "      <td>iRT</td>\n",
       "      <td>71.100396</td>\n",
       "    </tr>\n",
       "    <tr>\n",
       "      <th>8565202</th>\n",
       "      <td>LPIPRPGEVLGLVGTNGIGK</td>\n",
       "      <td>111.880875</td>\n",
       "      <td>Grobi_20130312_CHS_IEF100_20130309_3-10linear_...</td>\n",
       "      <td>MSV000080274</td>\n",
       "      <td>iRT</td>\n",
       "      <td>123.821908</td>\n",
       "    </tr>\n",
       "    <tr>\n",
       "      <th>11363042</th>\n",
       "      <td>VLAGQTLDINMAGEPKPDRPK</td>\n",
       "      <td>58.032409</td>\n",
       "      <td>Grobi_20130312_CHS_IEF100_20130309_3-10linear_...</td>\n",
       "      <td>MSV000080274</td>\n",
       "      <td>iRT</td>\n",
       "      <td>57.861598</td>\n",
       "    </tr>\n",
       "    <tr>\n",
       "      <th>11230880</th>\n",
       "      <td>HLEINPDHPIVETLR</td>\n",
       "      <td>64.505553</td>\n",
       "      <td>Grobi_20121105_CHS_IEF100_20121025_pep_gradien...</td>\n",
       "      <td>MSV000080274</td>\n",
       "      <td>iRT</td>\n",
       "      <td>62.304341</td>\n",
       "    </tr>\n",
       "    <tr>\n",
       "      <th>9928139</th>\n",
       "      <td>DLYANTVLSGGTTMYPGIADR</td>\n",
       "      <td>85.656998</td>\n",
       "      <td>Grobi_20121105_CHS_IEF100_20121025_pep_gradien...</td>\n",
       "      <td>MSV000080274</td>\n",
       "      <td>iRT</td>\n",
       "      <td>116.575044</td>\n",
       "    </tr>\n",
       "    <tr>\n",
       "      <th>...</th>\n",
       "      <td>...</td>\n",
       "      <td>...</td>\n",
       "      <td>...</td>\n",
       "      <td>...</td>\n",
       "      <td>...</td>\n",
       "      <td>...</td>\n",
       "    </tr>\n",
       "    <tr>\n",
       "      <th>9819793</th>\n",
       "      <td>SEAHTADGISIR</td>\n",
       "      <td>16.998720</td>\n",
       "      <td>Bibo_20130621_CHS_IEF_3-10linear_24slices_09.m...</td>\n",
       "      <td>MSV000080274</td>\n",
       "      <td>iRT</td>\n",
       "      <td>14.149623</td>\n",
       "    </tr>\n",
       "    <tr>\n",
       "      <th>10007939</th>\n",
       "      <td>EMDPVTQLYTMTSTLEYK</td>\n",
       "      <td>123.054974</td>\n",
       "      <td>Grobi_20130312_CHS_IEF100_20130309_3-10linear_...</td>\n",
       "      <td>MSV000080274</td>\n",
       "      <td>iRT</td>\n",
       "      <td>154.424906</td>\n",
       "    </tr>\n",
       "    <tr>\n",
       "      <th>10119775</th>\n",
       "      <td>SGLTTLVATSVNSVTGIR</td>\n",
       "      <td>139.892831</td>\n",
       "      <td>Kermit_20130417_CHS_20130123_IEF100_201303xx_3...</td>\n",
       "      <td>MSV000080274</td>\n",
       "      <td>iRT</td>\n",
       "      <td>131.299563</td>\n",
       "    </tr>\n",
       "    <tr>\n",
       "      <th>9960217</th>\n",
       "      <td>HFALDAAATVAAQR</td>\n",
       "      <td>61.419613</td>\n",
       "      <td>Grobi_20121105_CHS_IEF100_20121025_pep_gradien...</td>\n",
       "      <td>MSV000080274</td>\n",
       "      <td>iRT</td>\n",
       "      <td>65.985471</td>\n",
       "    </tr>\n",
       "    <tr>\n",
       "      <th>9818086</th>\n",
       "      <td>NLELLSVAR</td>\n",
       "      <td>83.603403</td>\n",
       "      <td>Bibo_20130621_CHS_IEF_3-10linear_24slices_09.m...</td>\n",
       "      <td>MSV000080274</td>\n",
       "      <td>iRT</td>\n",
       "      <td>84.085322</td>\n",
       "    </tr>\n",
       "  </tbody>\n",
       "</table>\n",
       "<p>242478 rows × 6 columns</p>\n",
       "</div>"
      ],
      "text/plain": [
       "              modified_sequence       label   \n",
       "11819239          IEDHLDEAIHVLR   72.695371  \\\n",
       "8565202    LPIPRPGEVLGLVGTNGIGK  111.880875   \n",
       "11363042  VLAGQTLDINMAGEPKPDRPK   58.032409   \n",
       "11230880        HLEINPDHPIVETLR   64.505553   \n",
       "9928139   DLYANTVLSGGTTMYPGIADR   85.656998   \n",
       "...                         ...         ...   \n",
       "9819793            SEAHTADGISIR   16.998720   \n",
       "10007939     EMDPVTQLYTMTSTLEYK  123.054974   \n",
       "10119775     SGLTTLVATSVNSVTGIR  139.892831   \n",
       "9960217          HFALDAAATVAAQR   61.419613   \n",
       "9818086               NLELLSVAR   83.603403   \n",
       "\n",
       "                                                   filename       dataset   \n",
       "11819239  Grobi_20121105_CHS_IEF_20121025_pep_gradient_7...  MSV000080274  \\\n",
       "8565202   Grobi_20130312_CHS_IEF100_20130309_3-10linear_...  MSV000080274   \n",
       "11363042  Grobi_20130312_CHS_IEF100_20130309_3-10linear_...  MSV000080274   \n",
       "11230880  Grobi_20121105_CHS_IEF100_20121025_pep_gradien...  MSV000080274   \n",
       "9928139   Grobi_20121105_CHS_IEF100_20121025_pep_gradien...  MSV000080274   \n",
       "...                                                     ...           ...   \n",
       "9819793   Bibo_20130621_CHS_IEF_3-10linear_24slices_09.m...  MSV000080274   \n",
       "10007939  Grobi_20130312_CHS_IEF100_20130309_3-10linear_...  MSV000080274   \n",
       "10119775  Kermit_20130417_CHS_20130123_IEF100_201303xx_3...  MSV000080274   \n",
       "9960217   Grobi_20121105_CHS_IEF100_20121025_pep_gradien...  MSV000080274   \n",
       "9818086   Bibo_20130621_CHS_IEF_3-10linear_24slices_09.m...  MSV000080274   \n",
       "\n",
       "         task  predictions  \n",
       "11819239  iRT    71.100396  \n",
       "8565202   iRT   123.821908  \n",
       "11363042  iRT    57.861598  \n",
       "11230880  iRT    62.304341  \n",
       "9928139   iRT   116.575044  \n",
       "...       ...          ...  \n",
       "9819793   iRT    14.149623  \n",
       "10007939  iRT   154.424906  \n",
       "10119775  iRT   131.299563  \n",
       "9960217   iRT    65.985471  \n",
       "9818086   iRT    84.085322  \n",
       "\n",
       "[242478 rows x 6 columns]"
      ]
     },
     "execution_count": 15,
     "metadata": {},
     "output_type": "execute_result"
    }
   ],
   "source": [
    "df"
   ]
  },
  {
   "cell_type": "markdown",
   "id": "e7021fc9-0f20-40b6-b25d-69e158821519",
   "metadata": {},
   "source": [
    "# Testing code"
   ]
  },
  {
   "cell_type": "code",
   "execution_count": 7,
   "id": "d1558bc3-d6d3-43e3-941e-5f4b8dbc3e64",
   "metadata": {},
   "outputs": [],
   "source": [
    "def median_absolute_deviation(series, threshold=None):\n",
    "    if threshold is not None and len(series) < threshold:\n",
    "        return None\n",
    "    \n",
    "    # Convert to numpy array if it's not already\n",
    "    if isinstance(series, pd.Series):\n",
    "        data = series.values\n",
    "    else:\n",
    "        data = np.asarray(series)\n",
    "    \n",
    "    # Calculate the median\n",
    "    median_value = np.median(data)\n",
    "    \n",
    "    # Calculate the absolute deviations from the median\n",
    "    abs_deviations = np.abs(data - median_value)\n",
    "    \n",
    "    # Calculate the median of the absolute deviations\n",
    "    mad = np.median(abs_deviations)\n",
    "    \n",
    "    return mad"
   ]
  },
  {
   "cell_type": "code",
   "execution_count": 8,
   "id": "0a49101a-f605-4ef9-834d-e84ce306feaa",
   "metadata": {},
   "outputs": [],
   "source": [
    "testing = df.groupby('modified_sequence')['label'].apply(lambda x: median_absolute_deviation(x))"
   ]
  },
  {
   "cell_type": "code",
   "execution_count": 9,
   "id": "f8d5d7a7-4bc0-434c-96e2-40270ffc878d",
   "metadata": {},
   "outputs": [
    {
     "data": {
      "image/png": "[encoded data removed]",
      "text/plain": [
       "<Figure size 600x800 with 1 Axes>"
      ]
     },
     "metadata": {},
     "output_type": "display_data"
    }
   ],
   "source": [
    "vertical_boxplot(testing,\"Count\",\"Unique filenames per peptide\")"
   ]
  },
  {
   "cell_type": "code",
   "execution_count": 12,
   "id": "e67e7ad7-fff6-4f7b-b440-e225d2412fe2",
   "metadata": {},
   "outputs": [],
   "source": [
    "values_under_p90 = testing[testing < testing.quantile(0.90)]"
   ]
  },
  {
   "cell_type": "code",
   "execution_count": 13,
   "id": "332aaba9-f930-4dcf-bb6b-96b0d76d6e17",
   "metadata": {},
   "outputs": [],
   "source": [
    "new_df = df[df['modified_sequence'].isin(values_under_p90.index)]"
   ]
  },
  {
   "cell_type": "code",
   "execution_count": 14,
   "id": "8c1c9b73-93d8-4819-b59a-79cf9c30d114",
   "metadata": {},
   "outputs": [
    {
     "data": {
      "text/html": [
       "<div>\n",
       "<style scoped>\n",
       "    .dataframe tbody tr th:only-of-type {\n",
       "        vertical-align: middle;\n",
       "    }\n",
       "\n",
       "    .dataframe tbody tr th {\n",
       "        vertical-align: top;\n",
       "    }\n",
       "\n",
       "    .dataframe thead th {\n",
       "        text-align: right;\n",
       "    }\n",
       "</style>\n",
       "<table border=\"1\" class=\"dataframe\">\n",
       "  <thead>\n",
       "    <tr style=\"text-align: right;\">\n",
       "      <th></th>\n",
       "      <th>modified_sequence</th>\n",
       "      <th>label</th>\n",
       "      <th>filename</th>\n",
       "      <th>dataset</th>\n",
       "      <th>task</th>\n",
       "      <th>predictions</th>\n",
       "    </tr>\n",
       "  </thead>\n",
       "  <tbody>\n",
       "    <tr>\n",
       "      <th>11819239</th>\n",
       "      <td>IEDHLDEAIHVLR</td>\n",
       "      <td>72.695371</td>\n",
       "      <td>Grobi_20121105_CHS_IEF_20121025_pep_gradient_7...</td>\n",
       "      <td>MSV000080274</td>\n",
       "      <td>iRT</td>\n",
       "      <td>71.100396</td>\n",
       "    </tr>\n",
       "    <tr>\n",
       "      <th>8565202</th>\n",
       "      <td>LPIPRPGEVLGLVGTNGIGK</td>\n",
       "      <td>111.880875</td>\n",
       "      <td>Grobi_20130312_CHS_IEF100_20130309_3-10linear_...</td>\n",
       "      <td>MSV000080274</td>\n",
       "      <td>iRT</td>\n",
       "      <td>123.821908</td>\n",
       "    </tr>\n",
       "    <tr>\n",
       "      <th>11363042</th>\n",
       "      <td>VLAGQTLDINMAGEPKPDRPK</td>\n",
       "      <td>58.032409</td>\n",
       "      <td>Grobi_20130312_CHS_IEF100_20130309_3-10linear_...</td>\n",
       "      <td>MSV000080274</td>\n",
       "      <td>iRT</td>\n",
       "      <td>57.861598</td>\n",
       "    </tr>\n",
       "    <tr>\n",
       "      <th>11230880</th>\n",
       "      <td>HLEINPDHPIVETLR</td>\n",
       "      <td>64.505553</td>\n",
       "      <td>Grobi_20121105_CHS_IEF100_20121025_pep_gradien...</td>\n",
       "      <td>MSV000080274</td>\n",
       "      <td>iRT</td>\n",
       "      <td>62.304341</td>\n",
       "    </tr>\n",
       "    <tr>\n",
       "      <th>11239389</th>\n",
       "      <td>EYFGGFGEVESIELPMDNK</td>\n",
       "      <td>123.573348</td>\n",
       "      <td>Grobi_20121105_CHS_IEF_20121025_pep_gradient_7...</td>\n",
       "      <td>MSV000080274</td>\n",
       "      <td>iRT</td>\n",
       "      <td>136.653934</td>\n",
       "    </tr>\n",
       "    <tr>\n",
       "      <th>...</th>\n",
       "      <td>...</td>\n",
       "      <td>...</td>\n",
       "      <td>...</td>\n",
       "      <td>...</td>\n",
       "      <td>...</td>\n",
       "      <td>...</td>\n",
       "    </tr>\n",
       "    <tr>\n",
       "      <th>9819793</th>\n",
       "      <td>SEAHTADGISIR</td>\n",
       "      <td>16.998720</td>\n",
       "      <td>Bibo_20130621_CHS_IEF_3-10linear_24slices_09.m...</td>\n",
       "      <td>MSV000080274</td>\n",
       "      <td>iRT</td>\n",
       "      <td>14.149623</td>\n",
       "    </tr>\n",
       "    <tr>\n",
       "      <th>10007939</th>\n",
       "      <td>EMDPVTQLYTMTSTLEYK</td>\n",
       "      <td>123.054974</td>\n",
       "      <td>Grobi_20130312_CHS_IEF100_20130309_3-10linear_...</td>\n",
       "      <td>MSV000080274</td>\n",
       "      <td>iRT</td>\n",
       "      <td>154.424906</td>\n",
       "    </tr>\n",
       "    <tr>\n",
       "      <th>10119775</th>\n",
       "      <td>SGLTTLVATSVNSVTGIR</td>\n",
       "      <td>139.892831</td>\n",
       "      <td>Kermit_20130417_CHS_20130123_IEF100_201303xx_3...</td>\n",
       "      <td>MSV000080274</td>\n",
       "      <td>iRT</td>\n",
       "      <td>131.299563</td>\n",
       "    </tr>\n",
       "    <tr>\n",
       "      <th>9960217</th>\n",
       "      <td>HFALDAAATVAAQR</td>\n",
       "      <td>61.419613</td>\n",
       "      <td>Grobi_20121105_CHS_IEF100_20121025_pep_gradien...</td>\n",
       "      <td>MSV000080274</td>\n",
       "      <td>iRT</td>\n",
       "      <td>65.985471</td>\n",
       "    </tr>\n",
       "    <tr>\n",
       "      <th>9818086</th>\n",
       "      <td>NLELLSVAR</td>\n",
       "      <td>83.603403</td>\n",
       "      <td>Bibo_20130621_CHS_IEF_3-10linear_24slices_09.m...</td>\n",
       "      <td>MSV000080274</td>\n",
       "      <td>iRT</td>\n",
       "      <td>84.085322</td>\n",
       "    </tr>\n",
       "  </tbody>\n",
       "</table>\n",
       "<p>186517 rows × 6 columns</p>\n",
       "</div>"
      ],
      "text/plain": [
       "              modified_sequence       label   \n",
       "11819239          IEDHLDEAIHVLR   72.695371  \\\n",
       "8565202    LPIPRPGEVLGLVGTNGIGK  111.880875   \n",
       "11363042  VLAGQTLDINMAGEPKPDRPK   58.032409   \n",
       "11230880        HLEINPDHPIVETLR   64.505553   \n",
       "11239389    EYFGGFGEVESIELPMDNK  123.573348   \n",
       "...                         ...         ...   \n",
       "9819793            SEAHTADGISIR   16.998720   \n",
       "10007939     EMDPVTQLYTMTSTLEYK  123.054974   \n",
       "10119775     SGLTTLVATSVNSVTGIR  139.892831   \n",
       "9960217          HFALDAAATVAAQR   61.419613   \n",
       "9818086               NLELLSVAR   83.603403   \n",
       "\n",
       "                                                   filename       dataset   \n",
       "11819239  Grobi_20121105_CHS_IEF_20121025_pep_gradient_7...  MSV000080274  \\\n",
       "8565202   Grobi_20130312_CHS_IEF100_20130309_3-10linear_...  MSV000080274   \n",
       "11363042  Grobi_20130312_CHS_IEF100_20130309_3-10linear_...  MSV000080274   \n",
       "11230880  Grobi_20121105_CHS_IEF100_20121025_pep_gradien...  MSV000080274   \n",
       "11239389  Grobi_20121105_CHS_IEF_20121025_pep_gradient_7...  MSV000080274   \n",
       "...                                                     ...           ...   \n",
       "9819793   Bibo_20130621_CHS_IEF_3-10linear_24slices_09.m...  MSV000080274   \n",
       "10007939  Grobi_20130312_CHS_IEF100_20130309_3-10linear_...  MSV000080274   \n",
       "10119775  Kermit_20130417_CHS_20130123_IEF100_201303xx_3...  MSV000080274   \n",
       "9960217   Grobi_20121105_CHS_IEF100_20121025_pep_gradien...  MSV000080274   \n",
       "9818086   Bibo_20130621_CHS_IEF_3-10linear_24slices_09.m...  MSV000080274   \n",
       "\n",
       "         task  predictions  \n",
       "11819239  iRT    71.100396  \n",
       "8565202   iRT   123.821908  \n",
       "11363042  iRT    57.861598  \n",
       "11230880  iRT    62.304341  \n",
       "11239389  iRT   136.653934  \n",
       "...       ...          ...  \n",
       "9819793   iRT    14.149623  \n",
       "10007939  iRT   154.424906  \n",
       "10119775  iRT   131.299563  \n",
       "9960217   iRT    65.985471  \n",
       "9818086   iRT    84.085322  \n",
       "\n",
       "[186517 rows x 6 columns]"
      ]
     },
     "execution_count": 14,
     "metadata": {},
     "output_type": "execute_result"
    }
   ],
   "source": [
    "new_df"
   ]
  },
  {
   "cell_type": "markdown",
   "id": "1f27f6e7-6df6-4275-87f1-b8dbaac0ca31",
   "metadata": {},
   "source": [
    "# Good code"
   ]
  },
  {
   "cell_type": "code",
   "execution_count": 327,
   "id": "02b7672e-1529-485c-973d-3528eba9f505",
   "metadata": {},
   "outputs": [],
   "source": [
    "heterogenous_peptides = df.groupby('modified_sequence')['filename'].nunique()\n",
    "heterogenous_peptides = heterogenous_peptides[heterogenous_peptides > 12].index\n",
    "heterogenous_peptides = df[df['modified_sequence'].isin(heterogenous_peptides)]"
   ]
  },
  {
   "cell_type": "code",
   "execution_count": 328,
   "id": "0e58a801-b2a8-41a4-9f02-601f64ca3189",
   "metadata": {},
   "outputs": [],
   "source": [
    "def median_absolute_deviation(series, threshold=None):\n",
    "    if threshold is not None and len(series) < threshold:\n",
    "        return None\n",
    "    \n",
    "    # Convert to numpy array if it's not already\n",
    "    if isinstance(series, pd.Series):\n",
    "        data = series.values\n",
    "    else:\n",
    "        data = np.asarray(series)\n",
    "    \n",
    "    # Calculate the median\n",
    "    median_value = np.median(data)\n",
    "    \n",
    "    # Calculate the absolute deviations from the median\n",
    "    abs_deviations = np.abs(data - median_value)\n",
    "    \n",
    "    # Calculate the median of the absolute deviations\n",
    "    mad = np.median(abs_deviations)\n",
    "    \n",
    "    return mad"
   ]
  },
  {
   "cell_type": "code",
   "execution_count": 329,
   "id": "31b1ed7d-e1a4-42e8-91d5-84f66a2cdbb8",
   "metadata": {},
   "outputs": [],
   "source": [
    "#heterogenous_peptides.groupby('filename','predictions')['predictions'].apply(lambda x: median_absolute_deviation(x))\n",
    "heterogenous_peptides = heterogenous_peptides.groupby(['modified_sequence','filename'])['predictions'].median().reset_index()"
   ]
  },
  {
   "cell_type": "code",
   "execution_count": 330,
   "id": "e1e5853b-8d31-4f07-b06b-19b1fdd8b747",
   "metadata": {},
   "outputs": [
    {
     "data": {
      "text/html": [
       "<div>\n",
       "<style scoped>\n",
       "    .dataframe tbody tr th:only-of-type {\n",
       "        vertical-align: middle;\n",
       "    }\n",
       "\n",
       "    .dataframe tbody tr th {\n",
       "        vertical-align: top;\n",
       "    }\n",
       "\n",
       "    .dataframe thead th {\n",
       "        text-align: right;\n",
       "    }\n",
       "</style>\n",
       "<table border=\"1\" class=\"dataframe\">\n",
       "  <thead>\n",
       "    <tr style=\"text-align: right;\">\n",
       "      <th></th>\n",
       "      <th>modified_sequence</th>\n",
       "      <th>filename</th>\n",
       "      <th>predictions</th>\n",
       "    </tr>\n",
       "  </thead>\n",
       "  <tbody>\n",
       "    <tr>\n",
       "      <th>0</th>\n",
       "      <td>AAAAAAAAAAGAAGGR</td>\n",
       "      <td>Bibo_20121204_CHS_IEF100_20121129_3-10linear_S...</td>\n",
       "      <td>20.611795</td>\n",
       "    </tr>\n",
       "    <tr>\n",
       "      <th>1</th>\n",
       "      <td>AAAAAAAAAAGAAGGR</td>\n",
       "      <td>Bibo_20130621_CHS_IEF_3-10linear_24slices_14.m...</td>\n",
       "      <td>11.195487</td>\n",
       "    </tr>\n",
       "    <tr>\n",
       "      <th>2</th>\n",
       "      <td>AAAAAAAAAAGAAGGR</td>\n",
       "      <td>Bibo_20130621_CHS_IEF_3-10linear_24slices_15.m...</td>\n",
       "      <td>17.519184</td>\n",
       "    </tr>\n",
       "    <tr>\n",
       "      <th>3</th>\n",
       "      <td>AAAAAAAAAAGAAGGR</td>\n",
       "      <td>Bibo_20130621_CHS_IEF_3-10linear_24slices_16.m...</td>\n",
       "      <td>21.119537</td>\n",
       "    </tr>\n",
       "    <tr>\n",
       "      <th>4</th>\n",
       "      <td>AAAAAAAAAAGAAGGR</td>\n",
       "      <td>Bibo_20130621_CHS_IEF_3-10linear_24slices_21.m...</td>\n",
       "      <td>17.980768</td>\n",
       "    </tr>\n",
       "    <tr>\n",
       "      <th>...</th>\n",
       "      <td>...</td>\n",
       "      <td>...</td>\n",
       "      <td>...</td>\n",
       "    </tr>\n",
       "    <tr>\n",
       "      <th>30323</th>\n",
       "      <td>YYVTIIDAPGHR</td>\n",
       "      <td>Kermit_20130412_CHS_20130123_IEF100_201303xx_3...</td>\n",
       "      <td>62.708227</td>\n",
       "    </tr>\n",
       "    <tr>\n",
       "      <th>30324</th>\n",
       "      <td>YYVTIIDAPGHR</td>\n",
       "      <td>Kermit_20130417_CHS_20130123_IEF100_201303xx_2...</td>\n",
       "      <td>60.434927</td>\n",
       "    </tr>\n",
       "    <tr>\n",
       "      <th>30325</th>\n",
       "      <td>YYVTIIDAPGHR</td>\n",
       "      <td>Kermit_20130417_CHS_20130123_IEF100_201303xx_3...</td>\n",
       "      <td>60.665719</td>\n",
       "    </tr>\n",
       "    <tr>\n",
       "      <th>30326</th>\n",
       "      <td>YYVTIIDAPGHR</td>\n",
       "      <td>Kermit_20130417_CHS_20130123_IEF100_201303xx_3...</td>\n",
       "      <td>61.646585</td>\n",
       "    </tr>\n",
       "    <tr>\n",
       "      <th>30327</th>\n",
       "      <td>YYVTIIDAPGHR</td>\n",
       "      <td>Kermit_20130417_CHS_20130123_IEF100_201303xx_3...</td>\n",
       "      <td>60.919590</td>\n",
       "    </tr>\n",
       "  </tbody>\n",
       "</table>\n",
       "<p>30328 rows × 3 columns</p>\n",
       "</div>"
      ],
      "text/plain": [
       "      modified_sequence                                           filename   \n",
       "0      AAAAAAAAAAGAAGGR  Bibo_20121204_CHS_IEF100_20121129_3-10linear_S...  \\\n",
       "1      AAAAAAAAAAGAAGGR  Bibo_20130621_CHS_IEF_3-10linear_24slices_14.m...   \n",
       "2      AAAAAAAAAAGAAGGR  Bibo_20130621_CHS_IEF_3-10linear_24slices_15.m...   \n",
       "3      AAAAAAAAAAGAAGGR  Bibo_20130621_CHS_IEF_3-10linear_24slices_16.m...   \n",
       "4      AAAAAAAAAAGAAGGR  Bibo_20130621_CHS_IEF_3-10linear_24slices_21.m...   \n",
       "...                 ...                                                ...   \n",
       "30323      YYVTIIDAPGHR  Kermit_20130412_CHS_20130123_IEF100_201303xx_3...   \n",
       "30324      YYVTIIDAPGHR  Kermit_20130417_CHS_20130123_IEF100_201303xx_2...   \n",
       "30325      YYVTIIDAPGHR  Kermit_20130417_CHS_20130123_IEF100_201303xx_3...   \n",
       "30326      YYVTIIDAPGHR  Kermit_20130417_CHS_20130123_IEF100_201303xx_3...   \n",
       "30327      YYVTIIDAPGHR  Kermit_20130417_CHS_20130123_IEF100_201303xx_3...   \n",
       "\n",
       "       predictions  \n",
       "0        20.611795  \n",
       "1        11.195487  \n",
       "2        17.519184  \n",
       "3        21.119537  \n",
       "4        17.980768  \n",
       "...            ...  \n",
       "30323    62.708227  \n",
       "30324    60.434927  \n",
       "30325    60.665719  \n",
       "30326    61.646585  \n",
       "30327    60.919590  \n",
       "\n",
       "[30328 rows x 3 columns]"
      ]
     },
     "execution_count": 330,
     "metadata": {},
     "output_type": "execute_result"
    }
   ],
   "source": [
    "heterogenous_peptides"
   ]
  },
  {
   "cell_type": "code",
   "execution_count": 331,
   "id": "5633d9eb-093d-4b64-a23e-4a8abf198675",
   "metadata": {},
   "outputs": [],
   "source": [
    "heterogenous_peptides=heterogenous_peptides.groupby('modified_sequence')['predictions'].apply(lambda x: median_absolute_deviation(x))"
   ]
  },
  {
   "cell_type": "code",
   "execution_count": 332,
   "id": "1da6393c-bf41-4658-b667-5c6a0196ef76",
   "metadata": {},
   "outputs": [
    {
     "data": {
      "image/png": "[encoded data removed]",
      "text/plain": [
       "<Figure size 640x480 with 1 Axes>"
      ]
     },
     "metadata": {},
     "output_type": "display_data"
    }
   ],
   "source": [
    "plt.violinplot(heterogenous_peptides)\n",
    "plt.show()"
   ]
  },
  {
   "cell_type": "code",
   "execution_count": 333,
   "id": "28e29a91-e9a0-472f-bbdf-818160f803da",
   "metadata": {},
   "outputs": [],
   "source": [
    "homogene_peptides = df.groupby('modified_sequence')['filename'].nunique()\n",
    "homogene_peptides = homogene_peptides[homogene_peptides == 1].index\n",
    "homogene_peptides = df[df['modified_sequence'].isin(homogene_peptides)]\n",
    "homogene_peptides = homogene_peptides.drop_duplicates(subset=['modified_sequence'])"
   ]
  },
  {
   "cell_type": "code",
   "execution_count": 334,
   "id": "01166595-79e8-40ea-8f21-b64b0d183743",
   "metadata": {},
   "outputs": [],
   "source": [
    "mad = np.median(np.abs(homogene_peptides['label'] - homogene_peptides['predictions']))"
   ]
  },
  {
   "cell_type": "code",
   "execution_count": 335,
   "id": "d5d96471-de45-4c3e-bee2-bee2c7dfd8a2",
   "metadata": {},
   "outputs": [
    {
     "data": {
      "text/plain": [
       "6.759795901999002"
      ]
     },
     "execution_count": 335,
     "metadata": {},
     "output_type": "execute_result"
    }
   ],
   "source": [
    "mad"
   ]
  },
  {
   "cell_type": "code",
   "execution_count": 336,
   "id": "6f8267a1-a936-4627-aea3-c90e8857a15f",
   "metadata": {},
   "outputs": [],
   "source": [
    "heterogenous_peptides = df.groupby('modified_sequence')['filename'].nunique()\n",
    "heterogenous_peptides = heterogenous_peptides[heterogenous_peptides > 10].index\n",
    "heterogenous_peptides = df[df['modified_sequence'].isin(heterogenous_peptides)]\n",
    "heterogenous_peptides = heterogenous_peptides.drop_duplicates(subset=['modified_sequence'])"
   ]
  },
  {
   "cell_type": "code",
   "execution_count": 337,
   "id": "544c2ca0-9168-4822-87a9-0d5ca475e831",
   "metadata": {},
   "outputs": [],
   "source": [
    "mad = np.median(np.abs(heterogenous_peptides['label'] - heterogenous_peptides['predictions']))"
   ]
  },
  {
   "cell_type": "code",
   "execution_count": 338,
   "id": "390d788c-3ac7-4e43-ace3-74962365cb62",
   "metadata": {},
   "outputs": [
    {
     "data": {
      "text/plain": [
       "8.517666006378406"
      ]
     },
     "execution_count": 338,
     "metadata": {},
     "output_type": "execute_result"
    }
   ],
   "source": [
    "mad"
   ]
  },
  {
   "cell_type": "code",
   "execution_count": 339,
   "id": "ff33a7fa-c71f-4b42-86ec-693260ed08d6",
   "metadata": {},
   "outputs": [],
   "source": [
    "testing = df.groupby('modified_sequence')['label'].apply(lambda x: median_absolute_deviation(x))"
   ]
  },
  {
   "cell_type": "code",
   "execution_count": 340,
   "id": "a1df05ab-b658-4dbf-9472-42724a0b3d86",
   "metadata": {},
   "outputs": [
    {
     "data": {
      "text/plain": [
       "{'bodies': [<matplotlib.collections.PolyCollection at 0x2e42f613bb0>],\n",
       " 'cmaxes': <matplotlib.collections.LineCollection at 0x2e42f613310>,\n",
       " 'cmins': <matplotlib.collections.LineCollection at 0x2e42f613820>,\n",
       " 'cbars': <matplotlib.collections.LineCollection at 0x2e42f613e50>}"
      ]
     },
     "execution_count": 340,
     "metadata": {},
     "output_type": "execute_result"
    },
    {
     "data": {
      "image/png": "[encoded data removed]",
      "text/plain": [
       "<Figure size 640x480 with 1 Axes>"
      ]
     },
     "metadata": {},
     "output_type": "display_data"
    }
   ],
   "source": [
    "plt.violinplot(testing)"
   ]
  },
  {
   "cell_type": "code",
   "execution_count": 341,
   "id": "ef47055b-f531-4514-acce-7f8fe646623b",
   "metadata": {},
   "outputs": [
    {
     "data": {
      "image/png": "[encoded data removed]",
      "text/plain": [
       "<Figure size 600x800 with 1 Axes>"
      ]
     },
     "metadata": {},
     "output_type": "display_data"
    }
   ],
   "source": [
    "vertical_boxplot(testing,\"Count\",\"Unique filenames per peptide\")"
   ]
  }
 ],
 "metadata": {
  "kernelspec": {
   "display_name": "Python (mtl-pep-prop)",
   "language": "python",
   "name": "mtl-pep-prop"
  },
  "language_info": {
   "codemirror_mode": {
    "name": "ipython",
    "version": 3
   },
   "file_extension": ".py",
   "mimetype": "text/x-python",
   "name": "python",
   "nbconvert_exporter": "python",
   "pygments_lexer": "ipython3",
   "version": "3.9.16"
  }
 },
 "nbformat": 4,
 "nbformat_minor": 5
}
