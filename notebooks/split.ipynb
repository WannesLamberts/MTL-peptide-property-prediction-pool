{
 "cells": [
  {
   "cell_type": "code",
   "execution_count": 2,
   "id": "69717a6c-e24b-48ea-b797-65227c17ab73",
   "metadata": {},
   "outputs": [],
   "source": [
    "import sys\n",
    "import os\n",
    "sys.path.append(os.path.abspath(\"../\"))  # Adds 'src' to the module search path\n",
    "sys.path.append(os.path.abspath(\"../src\"))  # Adds 'src' to the module search path"
   ]
  },
  {
   "cell_type": "code",
   "execution_count": 4,
   "id": "06a3af79-3f9e-4028-96ba-80e5d9c0c3e7",
   "metadata": {},
   "outputs": [],
   "source": [
    "import pandas as pd\n",
    "import numpy as np\n",
    "from utils_data import create_dataset,create_dataset_df"
   ]
  },
  {
   "cell_type": "markdown",
   "id": "9892c3bb-8a08-451e-bca4-a2887b00e771",
   "metadata": {},
   "source": []
  },
  {
   "cell_type": "markdown",
   "id": "63f34ca3-6872-41f4-bb12-436b0e998622",
   "metadata": {},
   "source": [
    "# Split"
   ]
  },
  {
   "cell_type": "code",
   "execution_count": 4,
   "id": "9b63eaac-ba87-4cd1-8036-e29ed4628ac7",
   "metadata": {},
   "outputs": [],
   "source": [
    "np.random.seed(42)\n",
    "RAW_DATA = \"../raw_data/\""
   ]
  },
  {
   "cell_type": "code",
   "execution_count": 5,
   "id": "6e63388c-84e6-4853-beba-fbd4ec513b22",
   "metadata": {},
   "outputs": [],
   "source": [
    "df = pd.read_parquet(f\"{RAW_DATA}80_tasks.parquet\",engine=\"pyarrow\")"
   ]
  },
  {
   "cell_type": "code",
   "execution_count": 6,
   "id": "initial_id",
   "metadata": {},
   "outputs": [],
   "source": [
    "all_datasets = df['dataset'].unique()\n",
    "test_datasets = ['MSV000080274']\n",
    "val_datasets = ['MSV000079550']\n",
    "train_datasets = [d for d in all_datasets if d not in test_datasets + val_datasets]"
   ]
  },
  {
   "cell_type": "code",
   "execution_count": 7,
   "id": "cdd741f5-acb3-4507-bbb6-cca0535a2fb8",
   "metadata": {},
   "outputs": [],
   "source": [
    "test_df = df[df['dataset'].isin(test_datasets)].sample(350000, random_state=42) \n",
    "val_df = df[df['dataset'].isin(val_datasets)].sample(350000, random_state=42) "
   ]
  },
  {
   "cell_type": "code",
   "execution_count": 8,
   "id": "05df4b1c-7d5f-463c-9350-905c9b9dda81",
   "metadata": {},
   "outputs": [],
   "source": [
    "test_sequences_with_intersection = set(test_df['sequence'])\n",
    "val_sequences_with_intersection = set(val_df['sequence'])\n",
    "common_sequences = test_sequences_with_intersection.intersection(val_sequences_with_intersection)\n",
    "common_sequences_list = list(common_sequences)"
   ]
  },
  {
   "cell_type": "code",
   "execution_count": 9,
   "id": "9240eaf4-070f-477a-96a1-a89ad00f6f46",
   "metadata": {},
   "outputs": [],
   "source": [
    "np.random.shuffle(common_sequences_list)\n",
    "half_point = len(common_sequences_list) // 2\n",
    "test_keep_sequences = set(common_sequences_list[:half_point])\n",
    "val_keep_sequences = set(common_sequences_list[half_point:])\n",
    "\n",
    "test_df = test_df[~test_df['sequence'].isin(val_keep_sequences)]\n",
    "val_df = val_df[~val_df['sequence'].isin(test_keep_sequences)]"
   ]
  },
  {
   "cell_type": "code",
   "execution_count": 10,
   "id": "cd0a617e-c673-427d-b256-f6dd78fe5e69",
   "metadata": {},
   "outputs": [
    {
     "name": "stdout",
     "output_type": "stream",
     "text": [
      "Cleaned test dataset size: 241921\n",
      "Cleaned validation dataset size: 249897\n"
     ]
    }
   ],
   "source": [
    "print(f\"Cleaned test dataset size: {len(test_df)}\")\n",
    "print(f\"Cleaned validation dataset size: {len(val_df)}\")"
   ]
  },
  {
   "cell_type": "code",
   "execution_count": 11,
   "id": "93685e83-a98a-4353-96da-fabeb10ca334",
   "metadata": {},
   "outputs": [],
   "source": [
    "test_sequences = set(test_df[\"sequence\"].unique())\n",
    "val_sequences = set(val_df[\"sequence\"].unique())\n",
    "test_val_sequences = test_sequences | val_sequences"
   ]
  },
  {
   "cell_type": "code",
   "execution_count": 12,
   "id": "becee473-621b-4574-9bb2-a4a364d4f333",
   "metadata": {},
   "outputs": [],
   "source": [
    "train_df = df[df['dataset'].isin(train_datasets)]"
   ]
  },
  {
   "cell_type": "code",
   "execution_count": 13,
   "id": "097e79ac-4cad-4cbd-906b-8da774976b0a",
   "metadata": {},
   "outputs": [],
   "source": [
    "train_df = train_df[~train_df['sequence'].isin(test_val_sequences)]"
   ]
  },
  {
   "cell_type": "code",
   "execution_count": 14,
   "id": "bf8329e9-b796-4713-b043-b70aee63da52",
   "metadata": {},
   "outputs": [],
   "source": [
    "train_sequences = set(train_df[\"sequence\"].unique())"
   ]
  },
  {
   "cell_type": "code",
   "execution_count": 15,
   "id": "3f9415b4-9855-4313-809b-499ff08efdd4",
   "metadata": {},
   "outputs": [
    {
     "name": "stdout",
     "output_type": "stream",
     "text": [
      "No sequence overlap between the sets\n"
     ]
    }
   ],
   "source": [
    "if not (test_sequences & val_sequences or test_sequences & train_sequences or val_sequences & train_sequences):\n",
    "    print(\"No sequence overlap between the sets\")\n",
    "else:\n",
    "    print(\"There is an overlap in sequences between the sets.\")"
   ]
  },
  {
   "cell_type": "code",
   "execution_count": 16,
   "id": "be96e113-c8dd-42b1-a380-04e9a80597fc",
   "metadata": {},
   "outputs": [],
   "source": [
    "out_dir = \"../data/\"\n"
   ]
  },
  {
   "cell_type": "code",
   "execution_count": 17,
   "id": "c38cb51b-3e84-4ba1-a91d-61de7648e7e8",
   "metadata": {},
   "outputs": [],
   "source": [
    "create_dataset_df(val_df,f\"{out_dir}val.parquet\")\n",
    "create_dataset_df(test_df,f\"{out_dir}test.parquet\")\n",
    "create_dataset_df(train_df,f\"{out_dir}train.parquet\")"
   ]
  },
  {
   "cell_type": "markdown",
   "id": "7906523a-38cd-42ff-899f-3c736abb13e8",
   "metadata": {},
   "source": [
    "## increasing train data split"
   ]
  },
  {
   "cell_type": "code",
   "execution_count": 19,
   "id": "065fa96e-435a-4216-85aa-ff6a784eac15",
   "metadata": {},
   "outputs": [],
   "source": [
    "DATA = \"../data/\""
   ]
  },
  {
   "cell_type": "code",
   "execution_count": 20,
   "id": "05bbe4e8-02fb-4081-93a5-04adecc25f38",
   "metadata": {},
   "outputs": [],
   "source": [
    "train_df = pd.read_parquet(f\"{DATA}train.parquet\",engine=\"pyarrow\")"
   ]
  },
  {
   "cell_type": "code",
   "execution_count": 21,
   "id": "422bc3da-b091-49e3-80d4-4feb253c8dfc",
   "metadata": {},
   "outputs": [],
   "source": [
    "output = \"../data/increasing_data/\"\n",
    "os.makedirs(output, exist_ok=True)\n",
    "unique_filenames = train_df['filename'].unique()\n",
    "subsets=[]\n",
    "for x in range(150,len(unique_filenames),150):\n",
    "    subset = unique_filenames[:x]\n",
    "    train_df[train_df['filename'].isin(subset)].index.to_series().to_csv(f'{output}train_indices_{x}.csv', index=False,header=False)\n",
    "subset = unique_filenames[0:len(unique_filenames)]\n",
    "train_df[train_df['filename'].isin(subset)].index.to_series().to_csv(f'{output}train_indices_{len(unique_filenames)}.csv', index=False,header=False)"
   ]
  },
  {
   "cell_type": "markdown",
   "id": "1939f2f6-e3b1-4839-ae30-ab3ddea1c798",
   "metadata": {},
   "source": [
    "### Small test set"
   ]
  },
  {
   "cell_type": "code",
   "execution_count": 8,
   "id": "19fc77e3-7356-4155-b900-4d10358956c4",
   "metadata": {},
   "outputs": [],
   "source": [
    "DATA = \"../data/\""
   ]
  },
  {
   "cell_type": "code",
   "execution_count": 10,
   "id": "e5482098-d40a-42d3-b9fa-d3cbaf41ba67",
   "metadata": {},
   "outputs": [],
   "source": [
    "train_df = pd.read_parquet(f\"{DATA}train.parquet\",engine=\"pyarrow\")"
   ]
  },
  {
   "cell_type": "code",
   "execution_count": 24,
   "id": "bee04a4f-8a01-49bb-bece-d6965fb3b91c",
   "metadata": {},
   "outputs": [],
   "source": [
    "output = \"../data/increasing_data_small/\"\n",
    "os.makedirs(output, exist_ok=True)\n",
    "\n",
    "unique_filenames = train_df['filename'].unique()\n",
    "subsets=[]\n",
    "for x in range(1,6,1):\n",
    "    subset = unique_filenames[:x]\n",
    "    train_df[train_df['filename'].isin(subset)].index.to_series().to_csv(f'{output}train_indices_{x}.csv', index=False,header=False)"
   ]
  },
  {
   "cell_type": "markdown",
   "id": "d80378b3-6942-4207-8a71-20dc020f2e1f",
   "metadata": {},
   "source": [
    "## MSV000080814 train indices"
   ]
  },
  {
   "cell_type": "code",
   "execution_count": 12,
   "id": "65645fde-0fbf-44bf-b187-4de39911d011",
   "metadata": {},
   "outputs": [],
   "source": [
    "DATA = \"../data/\""
   ]
  },
  {
   "cell_type": "code",
   "execution_count": 14,
   "id": "a2d24a69-47a4-48d6-bcf3-70f7a810269d",
   "metadata": {},
   "outputs": [],
   "source": [
    "train_df = pd.read_parquet(f\"{DATA}train.parquet\",engine=\"pyarrow\")"
   ]
  },
  {
   "cell_type": "code",
   "execution_count": 20,
   "id": "7b660f2f-f581-47ad-a40f-41a40462c611",
   "metadata": {},
   "outputs": [
    {
     "name": "stdout",
     "output_type": "stream",
     "text": [
      "4427698    4427698\n",
      "4427699    4427699\n",
      "4427700    4427700\n",
      "4427701    4427701\n",
      "4427702    4427702\n",
      "            ...   \n",
      "5904518    5904518\n",
      "5904519    5904519\n",
      "5904520    5904520\n",
      "5904521    5904521\n",
      "5904522    5904522\n",
      "Length: 1476825, dtype: int64\n"
     ]
    }
   ],
   "source": [
    "output = \"../data/increasing_data/\"\n",
    "os.makedirs(output, exist_ok=True)\n",
    "MSV80814_indices = train_df[train_df['dataset']==\"MSV000080814\"].index.to_series()\n",
    "MSV80814_indices.to_csv(f'{output}train_indices_MSV000080814.csv', index=False,header=False)"
   ]
  },
  {
   "cell_type": "markdown",
   "id": "eafc3491-0bbf-4621-b475-e04a00a418c6",
   "metadata": {},
   "source": [
    "## Train two datasets comparison split"
   ]
  },
  {
   "cell_type": "code",
   "execution_count": 26,
   "id": "d193acea-bdc4-4c24-88e9-cabda0768136",
   "metadata": {},
   "outputs": [],
   "source": [
    "DATA = \"../data/\""
   ]
  },
  {
   "cell_type": "code",
   "execution_count": 27,
   "id": "07633f41-ebc3-4a58-87a9-198a16040c32",
   "metadata": {},
   "outputs": [],
   "source": [
    "train_df = pd.read_parquet(f\"{DATA}train.parquet\",engine=\"pyarrow\")"
   ]
  },
  {
   "cell_type": "code",
   "execution_count": 28,
   "id": "8fc820ce-0f08-4d03-ab19-8188bad47443",
   "metadata": {},
   "outputs": [],
   "source": [
    "all_datasets = train_df[\"dataset\"].unique()\n",
    "low_variety_datasets = [\"MSV000080814\"]\n",
    "high_variety_datasets = [d for d in all_datasets if d not in low_variety_datasets]"
   ]
  },
  {
   "cell_type": "code",
   "execution_count": 29,
   "id": "0485af0b-081a-4ab0-b612-bbce7369cffa",
   "metadata": {},
   "outputs": [],
   "source": [
    "low_variety_df = train_df[train_df['dataset'].isin(low_variety_datasets)]\n",
    "high_variety_df = train_df[train_df['dataset'].isin(high_variety_datasets)]"
   ]
  },
  {
   "cell_type": "code",
   "execution_count": 30,
   "id": "e79fb853-3b70-48cd-a9d1-4f036b736464",
   "metadata": {},
   "outputs": [
    {
     "name": "stdout",
     "output_type": "stream",
     "text": [
      "low variety df size is: 1476825\n",
      "high variety df size is: 4427698\n",
      "Ratio is: 0.3335423960712768\n"
     ]
    }
   ],
   "source": [
    "low_len = len(low_variety_df)\n",
    "high_len = len(high_variety_df)\n",
    "ratio = low_len / high_len\n",
    "print(f\"low variety df size is: {low_len}\")\n",
    "print(f\"high variety df size is: {high_len}\")\n",
    "print(f\"Ratio is: {ratio}\")"
   ]
  },
  {
   "cell_type": "code",
   "execution_count": 31,
   "id": "37028c40-b62e-49a7-bacb-689ee97ddede",
   "metadata": {},
   "outputs": [
    {
     "name": "stderr",
     "output_type": "stream",
     "text": [
      "C:\\Users\\lambe\\AppData\\Local\\Temp\\ipykernel_16964\\1504092114.py:1: DeprecationWarning: DataFrameGroupBy.apply operated on the grouping columns. This behavior is deprecated, and in a future version of pandas the grouping columns will be excluded from the operation. Either pass `include_groups=False` to exclude the groupings or explicitly select the grouping columns after groupby to silence this warning.\n",
      "  high_variety_df = high_variety_df.groupby('filename').apply(lambda x: x.sample(frac=ratio, random_state=42)).reset_index(drop=True)\n"
     ]
    }
   ],
   "source": [
    "high_variety_df = high_variety_df.groupby('filename').apply(lambda x: x.sample(frac=ratio, random_state=42)).reset_index(drop=True)"
   ]
  },
  {
   "cell_type": "code",
   "execution_count": 32,
   "id": "cb4d4cd1-8d0f-43bc-aa7b-56083854243f",
   "metadata": {},
   "outputs": [],
   "source": [
    "out_dir = \"../data/\"\n",
    "os.makedirs(f\"{out_dir}/low_variety/\", exist_ok=True)\n",
    "os.makedirs(f\"{out_dir}/high_variety/\", exist_ok=True)\n",
    "\n",
    "low_variety_df.to_parquet(f\"{out_dir}low_variety/all.parquet\", index=False)\n",
    "high_variety_df.to_parquet(f\"{out_dir}high_variety/all.parquet\", index=False)"
   ]
  },
  {
   "cell_type": "markdown",
   "id": "36ec7935-c656-4c77-a21f-2d9718c0bf07",
   "metadata": {
    "jp-MarkdownHeadingCollapsed": true
   },
   "source": [
    "# Pre process"
   ]
  }
 ],
 "metadata": {
  "kernelspec": {
   "display_name": "Python [conda env:base] *",
   "language": "python",
   "name": "conda-base-py"
  },
  "language_info": {
   "codemirror_mode": {
    "name": "ipython",
    "version": 3
   },
   "file_extension": ".py",
   "mimetype": "text/x-python",
   "name": "python",
   "nbconvert_exporter": "python",
   "pygments_lexer": "ipython3",
   "version": "3.12.3"
  }
 },
 "nbformat": 4,
 "nbformat_minor": 5
}
