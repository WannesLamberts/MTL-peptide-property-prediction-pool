{
 "cells": [
  {
   "cell_type": "code",
   "execution_count": 1,
   "id": "initial_id",
   "metadata": {},
   "outputs": [],
   "source": [
    "import sys\n",
    "import os\n",
    "sys.path.append(os.path.abspath(\"../src\"))  # Adds 'src' to the module search path"
   ]
  },
  {
   "cell_type": "code",
   "execution_count": 5,
   "id": "e3d13ff4-c66c-4122-8024-fb3f72f20da6",
   "metadata": {},
   "outputs": [],
   "source": [
    "import pandas as pd\n",
    "DATA = \"../data/\"\n",
    "RAW_DATA= \"../raw_data/\""
   ]
  },
  {
   "cell_type": "code",
   "execution_count": 7,
   "id": "e0ecc133-02de-4e08-adbf-094892e3d86d",
   "metadata": {},
   "outputs": [],
   "source": [
    "df_wout = pd.read_parquet(f\"{RAW_DATA}wout.parquet\")"
   ]
  },
  {
   "cell_type": "code",
   "execution_count": 9,
   "id": "8490ac40-5f56-4883-a11d-9b9c68d09096",
   "metadata": {},
   "outputs": [
    {
     "data": {
      "text/html": [
       "<div>\n",
       "<style scoped>\n",
       "    .dataframe tbody tr th:only-of-type {\n",
       "        vertical-align: middle;\n",
       "    }\n",
       "\n",
       "    .dataframe tbody tr th {\n",
       "        vertical-align: top;\n",
       "    }\n",
       "\n",
       "    .dataframe thead th {\n",
       "        text-align: right;\n",
       "    }\n",
       "</style>\n",
       "<table border=\"1\" class=\"dataframe\">\n",
       "  <thead>\n",
       "    <tr style=\"text-align: right;\">\n",
       "      <th></th>\n",
       "      <th>dataset</th>\n",
       "      <th>filename</th>\n",
       "      <th>scan</th>\n",
       "      <th>sequence</th>\n",
       "      <th>charge</th>\n",
       "      <th>mz</th>\n",
       "    </tr>\n",
       "  </thead>\n",
       "  <tbody>\n",
       "    <tr>\n",
       "      <th>0</th>\n",
       "      <td>MSV000078777</td>\n",
       "      <td>SulfenM_RKO_LCA_A01.mzXML.gz</td>\n",
       "      <td>562</td>\n",
       "      <td>HAVSEGTK</td>\n",
       "      <td>2</td>\n",
       "      <td>414.713509</td>\n",
       "    </tr>\n",
       "    <tr>\n",
       "      <th>1</th>\n",
       "      <td>MSV000078777</td>\n",
       "      <td>SulfenM_RKO_LCA_A01.mzXML.gz</td>\n",
       "      <td>631</td>\n",
       "      <td>HAVSEGTK</td>\n",
       "      <td>2</td>\n",
       "      <td>414.713831</td>\n",
       "    </tr>\n",
       "    <tr>\n",
       "      <th>2</th>\n",
       "      <td>MSV000078777</td>\n",
       "      <td>SulfenM_RKO_LCA_A01.mzXML.gz</td>\n",
       "      <td>713</td>\n",
       "      <td>HAVSEGTK</td>\n",
       "      <td>2</td>\n",
       "      <td>414.713978</td>\n",
       "    </tr>\n",
       "    <tr>\n",
       "      <th>3</th>\n",
       "      <td>MSV000078777</td>\n",
       "      <td>SulfenM_RKO_LCA_A01.mzXML.gz</td>\n",
       "      <td>818</td>\n",
       "      <td>HAVSEGTK</td>\n",
       "      <td>2</td>\n",
       "      <td>414.713923</td>\n",
       "    </tr>\n",
       "    <tr>\n",
       "      <th>4</th>\n",
       "      <td>MSV000078777</td>\n",
       "      <td>SulfenM_RKO_LCA_A01.mzXML.gz</td>\n",
       "      <td>901</td>\n",
       "      <td>HAVSEGTK</td>\n",
       "      <td>2</td>\n",
       "      <td>414.714803</td>\n",
       "    </tr>\n",
       "  </tbody>\n",
       "</table>\n",
       "</div>"
      ],
      "text/plain": [
       "        dataset                      filename  scan  sequence  charge  \\\n",
       "0  MSV000078777  SulfenM_RKO_LCA_A01.mzXML.gz   562  HAVSEGTK       2   \n",
       "1  MSV000078777  SulfenM_RKO_LCA_A01.mzXML.gz   631  HAVSEGTK       2   \n",
       "2  MSV000078777  SulfenM_RKO_LCA_A01.mzXML.gz   713  HAVSEGTK       2   \n",
       "3  MSV000078777  SulfenM_RKO_LCA_A01.mzXML.gz   818  HAVSEGTK       2   \n",
       "4  MSV000078777  SulfenM_RKO_LCA_A01.mzXML.gz   901  HAVSEGTK       2   \n",
       "\n",
       "           mz  \n",
       "0  414.713509  \n",
       "1  414.713831  \n",
       "2  414.713978  \n",
       "3  414.713923  \n",
       "4  414.714803  "
      ]
     },
     "execution_count": 9,
     "metadata": {},
     "output_type": "execute_result"
    }
   ],
   "source": [
    "df_wout.head()"
   ]
  },
  {
   "cell_type": "code",
   "execution_count": 11,
   "id": "e88a6c2d-ac92-4801-864a-f469d17807fd",
   "metadata": {},
   "outputs": [
    {
     "data": {
      "text/plain": [
       "185305412"
      ]
     },
     "execution_count": 11,
     "metadata": {},
     "output_type": "execute_result"
    }
   ],
   "source": [
    "len(df_wout)"
   ]
  },
  {
   "cell_type": "code",
   "execution_count": 15,
   "id": "af999031-e3a2-4a5a-b10d-284a9e51a234",
   "metadata": {},
   "outputs": [
    {
     "data": {
      "text/plain": [
       "219"
      ]
     },
     "execution_count": 15,
     "metadata": {},
     "output_type": "execute_result"
    }
   ],
   "source": [
    "df_wout['dataset'].nunique()"
   ]
  },
  {
   "cell_type": "code",
   "execution_count": 17,
   "id": "1ad7a0dd-1bf6-464b-b8b5-8315bd6c87ee",
   "metadata": {},
   "outputs": [
    {
     "data": {
      "text/plain": [
       "26813"
      ]
     },
     "execution_count": 17,
     "metadata": {},
     "output_type": "execute_result"
    }
   ],
   "source": [
    "df_wout['filename'].nunique()"
   ]
  },
  {
   "cell_type": "code",
   "execution_count": 19,
   "id": "18eb07b6-c6ca-49f3-b964-c7a40669071f",
   "metadata": {},
   "outputs": [
    {
     "data": {
      "text/plain": [
       "4209326"
      ]
     },
     "execution_count": 19,
     "metadata": {},
     "output_type": "execute_result"
    }
   ],
   "source": [
    "df_wout['sequence'].nunique()"
   ]
  },
  {
   "cell_type": "code",
   "execution_count": 21,
   "id": "f905c2fd-882d-4829-ad16-8d1b3f2185d3",
   "metadata": {},
   "outputs": [
    {
     "data": {
      "text/plain": [
       "sequence    4209326\n",
       "charge           17\n",
       "dtype: int64"
      ]
     },
     "execution_count": 21,
     "metadata": {},
     "output_type": "execute_result"
    }
   ],
   "source": [
    "df_wout[['sequence','charge']].nunique()"
   ]
  }
 ],
 "metadata": {
  "kernelspec": {
   "display_name": "Python [conda env:base] *",
   "language": "python",
   "name": "conda-base-py"
  },
  "language_info": {
   "codemirror_mode": {
    "name": "ipython",
    "version": 3
   },
   "file_extension": ".py",
   "mimetype": "text/x-python",
   "name": "python",
   "nbconvert_exporter": "python",
   "pygments_lexer": "ipython3",
   "version": "3.12.3"
  }
 },
 "nbformat": 4,
 "nbformat_minor": 5
}
