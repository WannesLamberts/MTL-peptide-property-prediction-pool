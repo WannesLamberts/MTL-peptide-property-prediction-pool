{
 "cells": [
  {
   "cell_type": "code",
   "execution_count": 15,
   "id": "initial_id",
   "metadata": {},
   "outputs": [],
   "source": [
    "import sys\n",
    "import os\n",
    "import pandas as pd\n",
    "import matplotlib.pyplot as plt\n",
    "import seaborn as sns\n",
    "import numpy as np\n",
    "import itertools\n",
    "from scipy.stats import wasserstein_distance\n",
    "sys.path.append(os.path.abspath(\"../../src\"))  # Adds 'src' to the module search path"
   ]
  },
  {
   "cell_type": "code",
   "execution_count": 16,
   "id": "336b6825-f46e-4d1a-9267-b4359795c648",
   "metadata": {},
   "outputs": [],
   "source": [
    "from plot import plot_bar_horizontal,plot_bar_vertical,vertical_boxplot,horizontal_boxplot,create_MAD_comparison_boxplot,create_MAD_comparison_violinplot\n",
    "from read_data import apply_index_file"
   ]
  },
  {
   "cell_type": "code",
   "execution_count": 17,
   "id": "b442a561-41a9-43b9-bb1d-6317c1baed78",
   "metadata": {},
   "outputs": [],
   "source": [
    "np.random.seed(42)\n",
    "DATASET = \"../../raw_data/massive.parquet\""
   ]
  },
  {
   "cell_type": "code",
   "execution_count": 18,
   "id": "b3c94ae3-cb1b-4f0e-be3b-ca44d1c2726d",
   "metadata": {},
   "outputs": [],
   "source": [
    "df =pd.read_parquet(DATASET)"
   ]
  },
  {
   "cell_type": "code",
   "execution_count": 19,
   "id": "5d78d57b-b04f-431c-b77a-0941a2efb285",
   "metadata": {},
   "outputs": [],
   "source": [
    "def median_absolute_deviation(series, threshold=None):\n",
    "    if threshold is not None and len(series) < threshold:\n",
    "        return None\n",
    "    \n",
    "    # Convert to numpy array if it's not already\n",
    "    if isinstance(series, pd.Series):\n",
    "        data = series.values\n",
    "    else:\n",
    "        data = np.asarray(series)\n",
    "    \n",
    "    # Calculate the median\n",
    "    median_value = np.median(data)\n",
    "    \n",
    "    # Calculate the absolute deviations from the median\n",
    "    abs_deviations = np.abs(data - median_value)\n",
    "    \n",
    "    # Calculate the median of the absolute deviations\n",
    "    mad = np.median(abs_deviations)\n",
    "    \n",
    "    return mad"
   ]
  },
  {
   "cell_type": "code",
   "execution_count": 29,
   "id": "efdacbbb-0b92-4668-a8b8-67c62c4b560f",
   "metadata": {},
   "outputs": [],
   "source": [
    "testing = df.groupby('modified_sequence')['label'].apply(lambda x: median_absolute_deviation(x))"
   ]
  },
  {
   "cell_type": "code",
   "execution_count": 57,
   "id": "f7b7bdc9-797e-4bdd-8920-86193899c566",
   "metadata": {},
   "outputs": [
    {
     "data": {
      "image/png": "[encoded data removed]",
      "text/plain": [
       "<Figure size 600x800 with 1 Axes>"
      ]
     },
     "metadata": {},
     "output_type": "display_data"
    }
   ],
   "source": [
    "vertical_boxplot(testing,\"\",\"\")"
   ]
  },
  {
   "cell_type": "code",
   "execution_count": 31,
   "id": "af1db991-6ad3-4842-9b6d-452b63cdc486",
   "metadata": {},
   "outputs": [
    {
     "data": {
      "text/plain": [
       "count    964395.000000\n",
       "mean          1.854237\n",
       "std           4.166261\n",
       "min           0.000000\n",
       "25%           0.000000\n",
       "50%           0.581978\n",
       "75%           2.315275\n",
       "90%           4.503693\n",
       "max         170.183026\n",
       "Name: label, dtype: float64"
      ]
     },
     "execution_count": 31,
     "metadata": {},
     "output_type": "execute_result"
    }
   ],
   "source": [
    "testing.describe(percentiles=[0.25, 0.5, 0.75, 0.90])"
   ]
  },
  {
   "cell_type": "code",
   "execution_count": 38,
   "id": "9a29a473-0e70-4895-964f-28469aebb8d7",
   "metadata": {},
   "outputs": [],
   "source": [
    "values_above_p90 = testing[testing > testing.quantile(0.95)]\n",
    "values_under_p90 = testing[testing < testing.quantile(0.95)]"
   ]
  },
  {
   "cell_type": "code",
   "execution_count": 46,
   "id": "bb73036a-8943-4bc7-a695-3022a16d0610",
   "metadata": {},
   "outputs": [
    {
     "data": {
      "text/plain": [
       "916175"
      ]
     },
     "execution_count": 46,
     "metadata": {},
     "output_type": "execute_result"
    }
   ],
   "source": [
    "len(values_under_p90)"
   ]
  },
  {
   "cell_type": "code",
   "execution_count": 39,
   "id": "fe21ee28-5e4a-44df-adfd-19d45438ab66",
   "metadata": {},
   "outputs": [
    {
     "data": {
      "text/plain": [
       "count    916175.000000\n",
       "mean          1.198444\n",
       "std           1.550221\n",
       "min           0.000000\n",
       "25%           0.000000\n",
       "50%           0.465627\n",
       "75%           2.000262\n",
       "max           6.745660\n",
       "Name: label, dtype: float64"
      ]
     },
     "execution_count": 39,
     "metadata": {},
     "output_type": "execute_result"
    }
   ],
   "source": [
    "values_under_p90.describe()"
   ]
  },
  {
   "cell_type": "code",
   "execution_count": 40,
   "id": "5c7c9f3e-ad60-4bfa-a473-271e6ab6c6e5",
   "metadata": {},
   "outputs": [],
   "source": [
    "df_test = df[df[\"dataset\"]==\"MSV000080274\"]"
   ]
  },
  {
   "cell_type": "code",
   "execution_count": 41,
   "id": "a954f92d-a474-47d6-a8ec-6a4571532077",
   "metadata": {},
   "outputs": [
    {
     "data": {
      "text/plain": [
       "1318265"
      ]
     },
     "execution_count": 41,
     "metadata": {},
     "output_type": "execute_result"
    }
   ],
   "source": [
    "len(df_test)"
   ]
  },
  {
   "cell_type": "code",
   "execution_count": 47,
   "id": "266d780b-2607-417b-9688-3421a61dc96d",
   "metadata": {},
   "outputs": [],
   "source": [
    "new_df = df[df['modified_sequence'].isin(values_under_p90.index)]"
   ]
  },
  {
   "cell_type": "code",
   "execution_count": 58,
   "id": "fdf7d3ff-2b54-479f-aea7-25885c5440cd",
   "metadata": {},
   "outputs": [],
   "source": [
    "df_test = new_df[new_df[\"dataset\"]==\"MSV000080274\"]"
   ]
  },
  {
   "cell_type": "code",
   "execution_count": 59,
   "id": "75b1a1fc-8dc6-4ea4-b36c-a90a1515b1a9",
   "metadata": {},
   "outputs": [],
   "source": [
    "testing2 = df_test.groupby('modified_sequence')['label'].apply(lambda x: median_absolute_deviation(x))"
   ]
  },
  {
   "cell_type": "code",
   "execution_count": 60,
   "id": "4adbf1fb-f426-447d-81f7-d414e2d07cea",
   "metadata": {},
   "outputs": [
    {
     "data": {
      "text/plain": [
       "count    117828.000000\n",
       "mean          2.616994\n",
       "std           3.695032\n",
       "min           0.000000\n",
       "25%           0.000000\n",
       "50%           1.228453\n",
       "75%           3.876324\n",
       "max          63.600572\n",
       "Name: label, dtype: float64"
      ]
     },
     "execution_count": 60,
     "metadata": {},
     "output_type": "execute_result"
    }
   ],
   "source": [
    "testing2.describe()"
   ]
  },
  {
   "cell_type": "code",
   "execution_count": 61,
   "id": "88dfd3a1-6531-4d3c-950b-a7568d70cadb",
   "metadata": {},
   "outputs": [
    {
     "data": {
      "image/png": "[encoded data removed]",
      "text/plain": [
       "<Figure size 600x800 with 1 Axes>"
      ]
     },
     "metadata": {},
     "output_type": "display_data"
    }
   ],
   "source": [
    "vertical_boxplot(testing2,\"Count\",\"Unique filenames per peptide\")"
   ]
  },
  {
   "cell_type": "markdown",
   "id": "eb1ea049-572d-49e4-9563-4c35101b563d",
   "metadata": {},
   "source": [
    "# Different attempt"
   ]
  },
  {
   "cell_type": "code",
   "execution_count": 11,
   "id": "d7983574-773c-4868-a2ea-460bd4aa3d5e",
   "metadata": {},
   "outputs": [],
   "source": [
    "df =pd.read_parquet(DATASET)"
   ]
  },
  {
   "cell_type": "code",
   "execution_count": 20,
   "id": "ee9b961e-a8e2-461c-9d98-478897133809",
   "metadata": {},
   "outputs": [],
   "source": [
    "datasets = df['dataset'].unique()"
   ]
  },
  {
   "cell_type": "code",
   "execution_count": 21,
   "id": "f9ec09f6-2056-4d50-9083-2fd7b1f64f2f",
   "metadata": {},
   "outputs": [
    {
     "data": {
      "text/plain": [
       "array(['MSV000080692', 'MSV000080744', 'MSV000080255', 'MSV000080757',\n",
       "       'MSV000081649', 'MSV000080703', 'MSV000080254', 'MSV000080836',\n",
       "       'MSV000079830', 'MSV000080873', 'MSV000080075', 'MSV000080701',\n",
       "       'MSV000080841', 'MSV000079514', 'MSV000080077', 'MSV000079014',\n",
       "       'MSV000080791', 'MSV000080813', 'MSV000080274', 'MSV000080834',\n",
       "       'MSV000080643', 'MSV000080795', 'MSV000080225', 'MSV000079942',\n",
       "       'MSV000080769', 'MSV000079943', 'MSV000079969', 'MSV000080774',\n",
       "       'MSV000080762', 'MSV000080730', 'MSV000079550', 'MSV000080826',\n",
       "       'MSV000078831', 'MSV000079841', 'MSV000080773', 'MSV000080843',\n",
       "       'MSV000080688', 'MSV000080810', 'MSV000080849', 'MSV000079958',\n",
       "       'MSV000080268', 'MSV000079644', 'MSV000080846', 'MSV000080076',\n",
       "       'MSV000080845', 'MSV000080276', 'MSV000079944', 'MSV000079970',\n",
       "       'MSV000080085', 'MSV000079971', 'MSV000080865', 'MSV000080088',\n",
       "       'MSV000080226', 'MSV000080063', 'MSV000079539', 'MSV000080844',\n",
       "       'MSV000080087', 'MSV000080065', 'MSV000080825', 'MSV000080069',\n",
       "       'MSV000080814', 'MSV000080771'], dtype=object)"
      ]
     },
     "execution_count": 21,
     "metadata": {},
     "output_type": "execute_result"
    }
   ],
   "source": [
    "datasets"
   ]
  },
  {
   "cell_type": "code",
   "execution_count": 22,
   "id": "eec8010b-e9f7-4276-8c3f-4352e94e9ea2",
   "metadata": {},
   "outputs": [
    {
     "name": "stderr",
     "output_type": "stream",
     "text": [
      "\n",
      "Processing datasets:   0%|                                                                                                                                                                                  | 0/62 [00:00<?, ?it/s]\u001B[A\n",
      "Processing datasets:  32%|██████████████████████████████████████████████████████▌                                                                                                                  | 20/62 [01:24<02:57,  4.23s/it]\u001B[A\n",
      "Processing datasets:  34%|█████████████████████████████████████████████████████████▏                                                                                                               | 21/62 [01:24<02:42,  3.97s/it]\u001B[A\n",
      "Processing datasets:  48%|█████████████████████████████████████████████████████████████████████████████████▊                                                                                       | 30/62 [03:15<04:09,  7.80s/it]\u001B[A\n",
      "Processing datasets:  50%|████████████████████████████████████████████████████████████████████████████████████▌                                                                                    | 31/62 [03:15<03:45,  7.28s/it]\u001B[A\n",
      "Processing datasets:  65%|█████████████████████████████████████████████████████████████████████████████████████████████████████████████                                                            | 40/62 [05:04<03:29,  9.50s/it]\u001B[A\n",
      "Processing datasets:  66%|███████████████████████████████████████████████████████████████████████████████████████████████████████████████▊                                                         | 41/62 [05:04<03:06,  8.86s/it]\u001B[A\n",
      "Processing datasets:  81%|████████████████████████████████████████████████████████████████████████████████████████████████████████████████████████████████████████▎                                | 50/62 [06:33<01:52,  9.35s/it]\u001B[A\n",
      "Processing datasets: 100%|█████████████████████████████████████████████████████████████████████████████████████████████████████████████████████████████████████████████████████████████████████████| 62/62 [08:25<00:00,  8.15s/it]\u001B[A\n"
     ]
    }
   ],
   "source": [
    "from joblib import Parallel, delayed\n",
    "from tqdm import tqdm\n",
    "\n",
    "def process_dataset(dataset, df):\n",
    "    print(f\"running for {dataset}\")\n",
    "    temp_df = df[df['dataset'] == dataset]\n",
    "    mad = temp_df.groupby('modified_sequence')['label'].apply(lambda x: median_absolute_deviation(x))\n",
    "    values_under_p95 = mad[mad < mad.quantile(0.95)]\n",
    "    temp_df = temp_df[temp_df['modified_sequence'].isin(values_under_p95.index)]\n",
    "    return temp_df\n",
    "\n",
    "# Run in parallel with progress bar\n",
    "dfs = Parallel(n_jobs=10)(\n",
    "    delayed(process_dataset)(dataset, df) \n",
    "    for dataset in tqdm(datasets, desc=\"Processing datasets\")\n",
    ")"
   ]
  },
  {
   "cell_type": "code",
   "execution_count": 23,
   "id": "abb240dd-f3b2-42eb-a1e8-17c96839e257",
   "metadata": {},
   "outputs": [],
   "source": [
    "big  = pd.concat(dfs, ignore_index=True)"
   ]
  },
  {
   "cell_type": "code",
   "execution_count": 25,
   "id": "18d72eee-de8a-4d5b-9206-c63ecfcafa00",
   "metadata": {},
   "outputs": [],
   "source": [
    "testing = big.groupby('modified_sequence')['label'].apply(lambda x: median_absolute_deviation(x))"
   ]
  },
  {
   "cell_type": "code",
   "execution_count": 26,
   "id": "cffbe78f-8b82-4ab1-8a5c-b8a1a863ec27",
   "metadata": {},
   "outputs": [
    {
     "data": {
      "text/plain": [
       "count    954791.000000\n",
       "mean          1.673386\n",
       "std           3.942696\n",
       "min           0.000000\n",
       "25%           0.000000\n",
       "50%           0.523809\n",
       "75%           2.130703\n",
       "max         170.183026\n",
       "Name: label, dtype: float64"
      ]
     },
     "execution_count": 26,
     "metadata": {},
     "output_type": "execute_result"
    }
   ],
   "source": [
    "testing.describe()"
   ]
  },
  {
   "cell_type": "code",
   "execution_count": 28,
   "id": "ae0392f3-21aa-4a2b-a314-61af664e7115",
   "metadata": {},
   "outputs": [],
   "source": [
    "df_test = big[big[\"dataset\"]==\"MSV000080274\"]\n",
    "testing2 = df_test.groupby('modified_sequence')['label'].apply(lambda x: median_absolute_deviation(x))"
   ]
  },
  {
   "cell_type": "code",
   "execution_count": 29,
   "id": "ce429c07-1569-4f99-bdfe-4a46b5f94fd2",
   "metadata": {},
   "outputs": [
    {
     "data": {
      "text/plain": [
       "count    121944.000000\n",
       "mean          2.149964\n",
       "std           2.600202\n",
       "min           0.000000\n",
       "25%           0.000000\n",
       "50%           1.081087\n",
       "75%           3.599833\n",
       "max          10.272665\n",
       "Name: label, dtype: float64"
      ]
     },
     "execution_count": 29,
     "metadata": {},
     "output_type": "execute_result"
    }
   ],
   "source": [
    "testing2.describe()"
   ]
  },
  {
   "cell_type": "code",
   "execution_count": 32,
   "id": "daeda48b-597b-4a93-aef7-671c2afde9f9",
   "metadata": {},
   "outputs": [],
   "source": [
    "df_test = df[df[\"dataset\"]==\"MSV000080274\"]\n",
    "testing3 = df_test.groupby('modified_sequence')['label'].apply(lambda x: median_absolute_deviation(x))"
   ]
  },
  {
   "cell_type": "code",
   "execution_count": 33,
   "id": "99f55c30-1220-41de-b719-42d7c1d1843e",
   "metadata": {},
   "outputs": [
    {
     "data": {
      "text/plain": [
       "count    128363.000000\n",
       "mean          2.781289\n",
       "std           3.909067\n",
       "min           0.000000\n",
       "25%           0.000000\n",
       "50%           1.304733\n",
       "75%           4.141786\n",
       "max          76.970037\n",
       "Name: label, dtype: float64"
      ]
     },
     "execution_count": 33,
     "metadata": {},
     "output_type": "execute_result"
    }
   ],
   "source": [
    "testing3.describe()"
   ]
  },
  {
   "cell_type": "code",
   "execution_count": 34,
   "id": "bdb33da3-d11c-4275-9857-4da3c5361e4d",
   "metadata": {},
   "outputs": [],
   "source": [
    "testing_big_2=big.groupby('modified_sequence')['label'].apply(lambda x: median_absolute_deviation(x))"
   ]
  },
  {
   "cell_type": "code",
   "execution_count": 35,
   "id": "2b13ff8f-36b7-460c-9c35-5de3fa46c45d",
   "metadata": {},
   "outputs": [],
   "source": [
    "values_under_p90 = testing_big_2[testing_big_2 < testing_big_2.quantile(0.95)]"
   ]
  },
  {
   "cell_type": "code",
   "execution_count": 36,
   "id": "3a88ac98-738d-43ac-8ded-848421e76112",
   "metadata": {},
   "outputs": [],
   "source": [
    "big_better = big[big['modified_sequence'].isin(values_under_p90.index)]"
   ]
  },
  {
   "cell_type": "code",
   "execution_count": 38,
   "id": "d55a7a54-ba92-4f9d-86f2-a7c732cdafd6",
   "metadata": {},
   "outputs": [],
   "source": [
    "big_better_testing=big_better.groupby('modified_sequence')['label'].apply(lambda x: median_absolute_deviation(x))"
   ]
  },
  {
   "cell_type": "code",
   "execution_count": 39,
   "id": "f79fcd6c-5161-4725-8230-0f823e4078dd",
   "metadata": {},
   "outputs": [
    {
     "data": {
      "text/plain": [
       "count    907051.000000\n",
       "mean          1.076688\n",
       "std           1.375908\n",
       "min           0.000000\n",
       "25%           0.000000\n",
       "50%           0.415651\n",
       "75%           1.841773\n",
       "max           5.815608\n",
       "Name: label, dtype: float64"
      ]
     },
     "execution_count": 39,
     "metadata": {},
     "output_type": "execute_result"
    }
   ],
   "source": [
    "big_better_testing.describe()"
   ]
  }
 ],
 "metadata": {
  "kernelspec": {
   "display_name": "Python (mtl-pep-prop)",
   "language": "python",
   "name": "mtl-pep-prop"
  },
  "language_info": {
   "codemirror_mode": {
    "name": "ipython",
    "version": 3
   },
   "file_extension": ".py",
   "mimetype": "text/x-python",
   "name": "python",
   "nbconvert_exporter": "python",
   "pygments_lexer": "ipython3",
   "version": "3.9.16"
  }
 },
 "nbformat": 4,
 "nbformat_minor": 5
}
