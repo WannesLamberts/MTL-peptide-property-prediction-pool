{
 "cells": [
  {
   "cell_type": "code",
   "execution_count": 1,
   "id": "initial_id",
   "metadata": {},
   "outputs": [],
   "source": [
    "import sys\n",
    "import os\n",
    "import pandas as pd\n",
    "import matplotlib.pyplot as plt\n",
    "import seaborn as sns\n",
    "import numpy as np\n",
    "import itertools\n",
    "from scipy.stats import wasserstein_distance\n",
    "sys.path.append(os.path.abspath(\"../../src\"))  # Adds 'src' to the module search path"
   ]
  },
  {
   "cell_type": "code",
   "execution_count": 2,
   "id": "8a5304bd-a162-4ef0-bfa5-302cf846996e",
   "metadata": {},
   "outputs": [],
   "source": [
    "from plot import plot_wasserstein_comparison"
   ]
  },
  {
   "cell_type": "code",
   "execution_count": 3,
   "id": "d7e8f044-1471-4323-bad9-763c2a6a6ceb",
   "metadata": {},
   "outputs": [],
   "source": [
    "DATASET_1 = \"../../raw_data/massive_complete.parquet\"\n",
    "DATASET_2 = \"../../raw_data/proteome.parquet\""
   ]
  },
  {
   "cell_type": "code",
   "execution_count": 4,
   "id": "e9387c35-80d0-47ef-b6db-31b594555a83",
   "metadata": {},
   "outputs": [],
   "source": [
    "def compute_mean_wasserstein_distance(df,min_files,col='filename'):\n",
    "    grouped = df.groupby('sequence')\n",
    "    mean_distances = {}\n",
    "\n",
    "    for sequence, group in grouped:\n",
    "        distributions = group.groupby(col)['iRT'].apply(list)\n",
    "        distributions_dict = {k: v for k, v in distributions.to_dict().items() if len(v) >= min_files}  # Exclude single-value distributions\n",
    "        filenames = list(distributions_dict.keys())\n",
    "\n",
    "        distances = [\n",
    "            wasserstein_distance(distributions_dict[file1], distributions_dict[file2])\n",
    "            for file1, file2 in itertools.combinations(filenames, 2)\n",
    "        ]\n",
    "\n",
    "        if distances:\n",
    "            mean_distances[sequence] = sum(distances) / len(distances)\n",
    "\n",
    "    return mean_distances\n"
   ]
  },
  {
   "cell_type": "code",
   "execution_count": 5,
   "id": "33045d0b-0e64-4f53-996e-945fd8d1ed73",
   "metadata": {},
   "outputs": [],
   "source": [
    "# Load your datasets\n",
    "df1 = pd.read_parquet(DATASET_1)\n",
    "df2 = pd.read_parquet(DATASET_2)"
   ]
  },
  {
   "cell_type": "code",
   "execution_count": null,
   "id": "332aa137-90a3-4c02-bc02-6cc3012ffe59",
   "metadata": {},
   "outputs": [],
   "source": [
    "mean_wasserstein1 = compute_mean_wasserstein_distance(df1, 1,'filename')\n",
    "mean_wasserstein2 = compute_mean_wasserstein_distance(df2, 1,'pool')"
   ]
  },
  {
   "cell_type": "code",
   "execution_count": null,
   "id": "63a8b82d-2326-4dfa-b167-5195108e99da",
   "metadata": {},
   "outputs": [],
   "source": [
    "# Plot the comparison\n",
    "plot_wasserstein_comparison(\n",
    "    mean_wasserstein1, \n",
    "    mean_wasserstein2,\n",
    "    label1=\"MassiveKB\", \n",
    "    label2=\"Proteome\"\n",
    ")"
   ]
  }
 ],
 "metadata": {
  "kernelspec": {
   "display_name": "Python [conda env:base] *",
   "language": "python",
   "name": "conda-base-py"
  },
  "language_info": {
   "codemirror_mode": {
    "name": "ipython",
    "version": 3
   },
   "file_extension": ".py",
   "mimetype": "text/x-python",
   "name": "python",
   "nbconvert_exporter": "python",
   "pygments_lexer": "ipython3",
   "version": "3.12.3"
  }
 },
 "nbformat": 4,
 "nbformat_minor": 5
}
