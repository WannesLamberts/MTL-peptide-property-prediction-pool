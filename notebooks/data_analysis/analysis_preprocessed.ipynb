{
 "cells": [
  {
   "cell_type": "code",
   "execution_count": 1,
   "id": "initial_id",
   "metadata": {},
   "outputs": [],
   "source": [
    "import sys\n",
    "import os\n",
    "import pandas as pd\n",
    "import matplotlib.pyplot as plt\n",
    "import seaborn as sns\n",
    "import numpy as np\n",
    "import itertools\n",
    "from scipy.stats import wasserstein_distance,median_abs_deviation\n",
    "from scipy import stats\n",
    "from tqdm.auto import tqdm\n",
    "sys.path.append(os.path.abspath(\"../../src\"))  # Adds 'src' to the module search path"
   ]
  },
  {
   "cell_type": "code",
   "execution_count": 2,
   "id": "336b6825-f46e-4d1a-9267-b4359795c648",
   "metadata": {},
   "outputs": [],
   "source": [
    "from plot import plot_dataset_distributions,horizontal_boxplot,create_MAD_comparison_violinplot,plot_kde_grouped,plot_bar_vertical,plot_scatter,combined_plot\n",
    "from read_data import apply_index_file\n",
    "tqdm.pandas()"
   ]
  },
  {
   "cell_type": "code",
   "execution_count": 3,
   "id": "b442a561-41a9-43b9-bb1d-6317c1baed78",
   "metadata": {},
   "outputs": [],
   "source": [
    "np.random.seed(42)\n",
    "DATASET = \"../../raw_data/dataset_preprocessed.parquet\""
   ]
  },
  {
   "cell_type": "markdown",
   "id": "1c168e69-0794-4a17-9734-a0210beb679b",
   "metadata": {},
   "source": [
    "# Distribution analysis"
   ]
  },
  {
   "cell_type": "code",
   "execution_count": null,
   "id": "2d137eb5-4402-4c64-bf7a-0a504383c8b8",
   "metadata": {},
   "outputs": [],
   "source": [
    "df = pd.read_parquet(DATASET,engine=\"pyarrow\")"
   ]
  },
  {
   "cell_type": "code",
   "execution_count": null,
   "id": "0170be43-ccfc-41c4-b612-d06d8a01f413",
   "metadata": {},
   "outputs": [],
   "source": [
    "df.head()"
   ]
  },
  {
   "cell_type": "code",
   "execution_count": null,
   "id": "a305388a-8c18-4370-b8b8-a8cbfddb650c",
   "metadata": {},
   "outputs": [],
   "source": [
    "print(f\"length of the dataset is {len(df)}\")"
   ]
  },
  {
   "cell_type": "code",
   "execution_count": null,
   "id": "373ed341-0987-400b-8511-383f94cd5e7b",
   "metadata": {},
   "outputs": [],
   "source": [
    "df[['filename','dataset','modified_sequence']].nunique()"
   ]
  },
  {
   "cell_type": "markdown",
   "id": "d1fa0e7f-9a2b-4508-80a2-0aa1a20fbb3d",
   "metadata": {},
   "source": [
    "## Dataset distributions"
   ]
  },
  {
   "cell_type": "code",
   "execution_count": null,
   "id": "82ea29e0-f488-4269-b3cf-8c88c05028c9",
   "metadata": {},
   "outputs": [],
   "source": [
    "sequences_dataset = df.groupby('dataset')['modified_sequence'].count()\n",
    "plot_dataset_distributions(sequences_dataset,'Dataset size (#rows)','Dataset')"
   ]
  },
  {
   "cell_type": "code",
   "execution_count": null,
   "id": "ad91019e-6abf-45f5-9655-f611b445d3c7",
   "metadata": {},
   "outputs": [],
   "source": [
    "unique_sequences_dataset = df.groupby('dataset')['modified_sequence'].nunique()\n",
    "plot_dataset_distributions(unique_sequences_dataset,'Unique peptides count','Dataset')"
   ]
  },
  {
   "cell_type": "code",
   "execution_count": null,
   "id": "0458354e-6a02-47c0-9d5c-351fc9dac925",
   "metadata": {},
   "outputs": [],
   "source": [
    "unique_filenames_dataset = df.groupby('dataset')['filename'].nunique()\n",
    "plot_dataset_distributions(unique_filenames_dataset,'Unique runs count','Dataset')"
   ]
  },
  {
   "cell_type": "markdown",
   "id": "6833a484-2eed-4c5b-b63e-c19f1099374e",
   "metadata": {},
   "source": [
    "## Peptide distributions"
   ]
  },
  {
   "cell_type": "code",
   "execution_count": null,
   "id": "deb5c6f4-b638-4f19-bfc2-3a9cc39ca477",
   "metadata": {},
   "outputs": [],
   "source": [
    "df = pd.read_parquet(DATASET,engine=\"pyarrow\")"
   ]
  },
  {
   "cell_type": "code",
   "execution_count": null,
   "id": "ace6214c-dc74-4908-8d0b-17942157412a",
   "metadata": {},
   "outputs": [],
   "source": [
    "overlap_in_file = df.groupby(['modified_sequence','filename'])['filename'].count()"
   ]
  },
  {
   "cell_type": "code",
   "execution_count": null,
   "id": "5083e24d-c6e3-472c-b1c5-971020b2aa18",
   "metadata": {},
   "outputs": [],
   "source": [
    "combined_plot(overlap_in_file, \"Count\",range=(0,30))"
   ]
  },
  {
   "cell_type": "code",
   "execution_count": null,
   "id": "930ac3c7-8aa8-4331-9dcf-c12401520629",
   "metadata": {},
   "outputs": [],
   "source": [
    "overlap_across_file = df.groupby('modified_sequence')['filename'].nunique()"
   ]
  },
  {
   "cell_type": "code",
   "execution_count": null,
   "id": "d5bea3d0-ae01-493e-bddd-d75a757acd22",
   "metadata": {},
   "outputs": [],
   "source": [
    "combined_plot(overlap_across_file, \"Count\",range=(0,100))"
   ]
  },
  {
   "cell_type": "markdown",
   "id": "b34b7274-4004-4e19-aa4d-d36bfdd2d597",
   "metadata": {},
   "source": [
    "# Retention time analysis"
   ]
  },
  {
   "cell_type": "code",
   "execution_count": 9,
   "id": "8ec690dc-7554-4895-b350-d51509aa16b2",
   "metadata": {},
   "outputs": [],
   "source": [
    "def median_absolute_deviation(series, threshold=None):\n",
    "    if threshold is not None and len(series) < threshold:\n",
    "        return None\n",
    "    return stats.median_abs_deviation(series.values)"
   ]
  },
  {
   "cell_type": "markdown",
   "id": "948467b9-7d41-4dfe-99a1-efec8c3cebf7",
   "metadata": {},
   "source": [
    "## MAD comparison"
   ]
  },
  {
   "cell_type": "code",
   "execution_count": null,
   "id": "939a3fb4-c1bd-4845-93a7-3982e80925ef",
   "metadata": {},
   "outputs": [],
   "source": [
    "df = pd.read_parquet(DATASET,engine=\"pyarrow\")"
   ]
  },
  {
   "cell_type": "code",
   "execution_count": null,
   "id": "c91b957e-4cf6-4d54-8dc2-2fbdc91fc68f",
   "metadata": {},
   "outputs": [],
   "source": [
    "mad_msrun = df.groupby(['modified_sequence', 'filename'])['label'].progress_apply(\n",
    "    lambda x: median_absolute_deviation(x, 2)\n",
    ").dropna()"
   ]
  },
  {
   "cell_type": "code",
   "execution_count": null,
   "id": "32a9e814-7c67-4d3b-9b73-42463549ef64",
   "metadata": {},
   "outputs": [],
   "source": [
    "mad_dataset = df.groupby(['modified_sequence', 'dataset'])['label'].progress_apply(\n",
    "    lambda x: median_absolute_deviation(x, 2)\n",
    ").dropna()"
   ]
  },
  {
   "cell_type": "code",
   "execution_count": null,
   "id": "15bc3d03-f2a4-4bc6-ac6d-e4b9a11ed1da",
   "metadata": {},
   "outputs": [],
   "source": [
    "mad_all = df.groupby(['modified_sequence'])['label'].progress_apply(\n",
    "    lambda x: median_absolute_deviation(x, 2)\n",
    ").dropna()"
   ]
  },
  {
   "cell_type": "code",
   "execution_count": null,
   "id": "95ea944c-5593-4fd0-97cf-65f64310f7c5",
   "metadata": {},
   "outputs": [],
   "source": [
    "create_MAD_comparison_violinplot([mad_msrun,mad_dataset,mad_all],[\"Same MS run\",\"Same dataset\",\"Across all\"],title=\"\")"
   ]
  },
  {
   "cell_type": "markdown",
   "id": "c96ba6cb-2717-42a5-8dcf-f168e9101442",
   "metadata": {},
   "source": [
    "## MAD outliers"
   ]
  },
  {
   "cell_type": "code",
   "execution_count": null,
   "id": "95108d76-a72b-4743-8194-bfd24857d4df",
   "metadata": {},
   "outputs": [],
   "source": [
    "plot_scatter(mad_dataset,'mad')"
   ]
  },
  {
   "cell_type": "markdown",
   "id": "dcdcb1e6-2ec8-4c3c-a1a2-d7d140963f5f",
   "metadata": {},
   "source": [
    "## Find good validation and test set"
   ]
  },
  {
   "cell_type": "code",
   "execution_count": null,
   "id": "6384ce6b-1645-4733-b9b0-75829aafa5b3",
   "metadata": {},
   "outputs": [],
   "source": [
    "df = pd.read_parquet(DATASET,engine=\"pyarrow\")"
   ]
  },
  {
   "cell_type": "code",
   "execution_count": null,
   "id": "8e048fef-1fcb-49c7-98da-543d0e951237",
   "metadata": {},
   "outputs": [],
   "source": [
    "# Get the size of each dataset\n",
    "dataset_sizes = df.groupby('dataset').size()\n",
    "large_datasets = dataset_sizes[dataset_sizes >= 400000].index\n",
    "\n",
    "# Filter to only include rows from datasets with >= 50,000 entries\n",
    "df_filtered = df[df['dataset'].isin(large_datasets)]\n",
    "\n",
    "# Now apply your groupby operation on the filtered data\n",
    "grouped = df_filtered.groupby(['modified_sequence', 'dataset'])['label'].progress_apply(\n",
    "    lambda x: median_absolute_deviation(x,2)\n",
    ").dropna()\n",
    "\n",
    "plot_data = grouped.reset_index()\n",
    "plot_data.columns = ['modified_sequence', 'dataset', 'mad_value']"
   ]
  },
  {
   "cell_type": "code",
   "execution_count": null,
   "id": "cef49bca-9719-4cfe-9644-1162ea82fc57",
   "metadata": {},
   "outputs": [],
   "source": [
    "# KDE plot for x by category with median and dataset size in legend\n",
    "plt.figure(figsize=(12, 6))\n",
    "# Plot x distribution for each category\n",
    "for category in plot_data['dataset'].unique():\n",
    "    subset = plot_data[plot_data['dataset'] == category]\n",
    "    median_val = subset['mad_value'].median()\n",
    "    dataset_size = len(subset)\n",
    "    \n",
    "    sns.kdeplot(x=subset['mad_value'], \n",
    "                label=f'Category {category} (median: {median_val:.2f}, n={dataset_size})', \n",
    "                fill=False, alpha=0.6)\n",
    "plt.xlabel('MAD')\n",
    "plt.ylabel('Density')\n",
    "plt.legend()\n",
    "plt.xlim(-5, 5)\n",
    "plt.grid(True, alpha=0.3)\n",
    "plt.show()"
   ]
  },
  {
   "cell_type": "code",
   "execution_count": null,
   "id": "18d6ca82-5ce0-40a3-a20f-d7111c346aab",
   "metadata": {},
   "outputs": [],
   "source": [
    "df1 = df[df[\"dataset\"]==\"MSV000080813\"]"
   ]
  },
  {
   "cell_type": "code",
   "execution_count": null,
   "id": "1412a521-47d5-4df3-80b0-34d1055e210a",
   "metadata": {},
   "outputs": [],
   "source": [
    "df2 = df[df[\"dataset\"]==\"MSV000080845\"]"
   ]
  },
  {
   "cell_type": "code",
   "execution_count": null,
   "id": "4cc2ba0e-abc2-41bf-b65e-54985e10791b",
   "metadata": {},
   "outputs": [],
   "source": [
    "m1=df1.groupby('modified_sequence')['label'].apply(lambda x: median_absolute_deviation(x,2)).dropna()\n",
    "m2=df2.groupby('modified_sequence')['label'].apply(lambda x: median_absolute_deviation(x,2)).dropna()"
   ]
  },
  {
   "cell_type": "code",
   "execution_count": null,
   "id": "da7a7397-9a07-4098-8e77-1087355f3c3e",
   "metadata": {},
   "outputs": [],
   "source": [
    "create_MAD_comparison_violinplot([m1,m2],[\"proposed_validation\",\"proposed_test\"],title=\"\")"
   ]
  },
  {
   "cell_type": "markdown",
   "id": "867426fd-5f95-4a8f-ad80-360c1f3f39b5",
   "metadata": {},
   "source": [
    "# Analysis split"
   ]
  },
  {
   "cell_type": "code",
   "execution_count": 6,
   "id": "cccb87f9-5a5f-44c9-9b99-2af910298380",
   "metadata": {},
   "outputs": [],
   "source": [
    "DATA = \"../../data/\"\n",
    "DATASET = \"../../data/dataset.parquet\"\n",
    "VAL = \"../../data/val.csv\"\n",
    "TEST = \"../../data/test.csv\"\n",
    "TRAIN = \"../../data/train.csv\""
   ]
  },
  {
   "cell_type": "code",
   "execution_count": null,
   "id": "8f5baf85-1d61-41b1-9305-a165933e4826",
   "metadata": {},
   "outputs": [],
   "source": [
    "df = pd.read_parquet(DATASET,engine=\"pyarrow\")\n",
    "val_df = apply_index_file(df,VAL)\n",
    "test_df = apply_index_file(df,TEST)\n",
    "train_df = apply_index_file(df,TRAIN)"
   ]
  },
  {
   "cell_type": "code",
   "execution_count": null,
   "id": "f2d93600-8425-450b-8684-a9c0a5ba4ef5",
   "metadata": {},
   "outputs": [],
   "source": [
    "print(f\"length of train is {len(train_df)}\")\n",
    "print(f\"length of val is {len(val_df)}\")\n",
    "print(f\"length of test is {len(test_df)}\")\n",
    "print(f\"sum is  {len(test_df)+len(val_df)+len(train_df)}\")"
   ]
  },
  {
   "cell_type": "code",
   "execution_count": null,
   "id": "b09e3a43-7823-4689-a9c7-173e966642d3",
   "metadata": {},
   "outputs": [],
   "source": [
    "train_df['dataset'].nunique()"
   ]
  },
  {
   "cell_type": "markdown",
   "id": "f34482b7-22e8-4909-854e-cf3a391d5940",
   "metadata": {},
   "source": [
    "## validation split"
   ]
  },
  {
   "cell_type": "code",
   "execution_count": 7,
   "id": "d4812ef5-fa67-4777-bd70-c33f527347ca",
   "metadata": {},
   "outputs": [],
   "source": [
    "df = pd.read_parquet(DATASET,engine=\"pyarrow\")\n",
    "val_df = apply_index_file(df,VAL)\n",
    "test_df = apply_index_file(df,TEST)"
   ]
  },
  {
   "cell_type": "code",
   "execution_count": 10,
   "id": "704603fb-6d5b-4763-a4cc-15a67187c47f",
   "metadata": {},
   "outputs": [],
   "source": [
    "mad_all_val=val_df.groupby('modified_sequence')['label'].apply(lambda x: median_absolute_deviation(x,2)).dropna()\n",
    "mad_all_test=test_df.groupby('modified_sequence')['label'].apply(lambda x: median_absolute_deviation(x,2)).dropna()"
   ]
  },
  {
   "cell_type": "code",
   "execution_count": 13,
   "id": "5842af11-0678-4967-ba7d-15f2c6efe597",
   "metadata": {},
   "outputs": [
    {
     "data": {
      "image/png": "[encoded data removed]",
      "text/plain": [
       "<Figure size 1000x600 with 1 Axes>"
      ]
     },
     "metadata": {},
     "output_type": "display_data"
    }
   ],
   "source": [
    "create_MAD_comparison_violinplot([mad_all_val,mad_all_test],[\"validation\",\"test\"],title=\"\",percentile_cutoff=0.995)"
   ]
  }
 ],
 "metadata": {
  "kernelspec": {
   "display_name": "Python (mtl-pep-prop)",
   "language": "python",
   "name": "mtl-pep-prop"
  },
  "language_info": {
   "codemirror_mode": {
    "name": "ipython",
    "version": 3
   },
   "file_extension": ".py",
   "mimetype": "text/x-python",
   "name": "python",
   "nbconvert_exporter": "python",
   "pygments_lexer": "ipython3",
   "version": "3.9.16"
  }
 },
 "nbformat": 4,
 "nbformat_minor": 5
}
