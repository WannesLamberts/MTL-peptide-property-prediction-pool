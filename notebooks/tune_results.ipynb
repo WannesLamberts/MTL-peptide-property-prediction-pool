{
 "cells": [
  {
   "cell_type": "code",
   "execution_count": 1,
   "id": "dffd89d4-930b-47a6-9cb8-c2e61df4dddc",
   "metadata": {},
   "outputs": [],
   "source": [
    "import pandas\n",
    "import optuna"
   ]
  },
  {
   "cell_type": "code",
   "execution_count": 2,
   "id": "1ac0f436-97d5-4ae2-90cb-d928b5d838f5",
   "metadata": {},
   "outputs": [],
   "source": [
    "from optuna.visualization import (\n",
    "    plot_optimization_history,\n",
    "    plot_param_importances,\n",
    "    plot_contour,\n",
    "    plot_slice,\n",
    "    plot_parallel_coordinate,\n",
    "    plot_intermediate_values,\n",
    "    plot_edf,\n",
    "    plot_timeline\n",
    ")"
   ]
  },
  {
   "cell_type": "code",
   "execution_count": 3,
   "id": "initial_id",
   "metadata": {},
   "outputs": [],
   "source": [
    "study = optuna.load_study(\n",
    "    study_name=\"pool_HPC\", \n",
    "    storage=\"sqlite:///../results/hpt/pool_HPC.db\"\n",
    ")"
   ]
  },
  {
   "cell_type": "code",
   "execution_count": 8,
   "id": "40430634-5fda-42fb-bcb1-d08f49f948ec",
   "metadata": {},
   "outputs": [],
   "source": [
    "df = study.trials_dataframe()"
   ]
  },
  {
   "cell_type": "code",
   "execution_count": 10,
   "id": "8c9ccae4-a221-402c-951e-6db6eac3fda3",
   "metadata": {},
   "outputs": [
    {
     "data": {
      "text/html": [
       "<div>\n",
       "<style scoped>\n",
       "    .dataframe tbody tr th:only-of-type {\n",
       "        vertical-align: middle;\n",
       "    }\n",
       "\n",
       "    .dataframe tbody tr th {\n",
       "        vertical-align: top;\n",
       "    }\n",
       "\n",
       "    .dataframe thead th {\n",
       "        text-align: right;\n",
       "    }\n",
       "</style>\n",
       "<table border=\"1\" class=\"dataframe\">\n",
       "  <thead>\n",
       "    <tr style=\"text-align: right;\">\n",
       "      <th></th>\n",
       "      <th>number</th>\n",
       "      <th>value</th>\n",
       "      <th>datetime_start</th>\n",
       "      <th>datetime_complete</th>\n",
       "      <th>duration</th>\n",
       "      <th>params_activation_mlp</th>\n",
       "      <th>params_dropout_mlp</th>\n",
       "      <th>params_hidden_size_mlp</th>\n",
       "      <th>params_lr</th>\n",
       "      <th>params_optim</th>\n",
       "      <th>params_scheduler</th>\n",
       "      <th>state</th>\n",
       "    </tr>\n",
       "  </thead>\n",
       "  <tbody>\n",
       "    <tr>\n",
       "      <th>0</th>\n",
       "      <td>0</td>\n",
       "      <td>0.108496</td>\n",
       "      <td>2025-05-30 23:37:35.771407</td>\n",
       "      <td>2025-05-31 02:45:36.942838</td>\n",
       "      <td>0 days 03:08:01.171431</td>\n",
       "      <td>tanh</td>\n",
       "      <td>0.3</td>\n",
       "      <td>512-256-128</td>\n",
       "      <td>0.00033</td>\n",
       "      <td>adam</td>\n",
       "      <td>warmup</td>\n",
       "      <td>COMPLETE</td>\n",
       "    </tr>\n",
       "    <tr>\n",
       "      <th>1</th>\n",
       "      <td>1</td>\n",
       "      <td>0.141480</td>\n",
       "      <td>2025-05-31 00:20:32.714533</td>\n",
       "      <td>2025-05-31 03:27:17.898365</td>\n",
       "      <td>0 days 03:06:45.183832</td>\n",
       "      <td>relu</td>\n",
       "      <td>0.3</td>\n",
       "      <td>128</td>\n",
       "      <td>0.00033</td>\n",
       "      <td>SGD</td>\n",
       "      <td>warmup_decay_cos</td>\n",
       "      <td>COMPLETE</td>\n",
       "    </tr>\n",
       "    <tr>\n",
       "      <th>2</th>\n",
       "      <td>2</td>\n",
       "      <td>0.148416</td>\n",
       "      <td>2025-05-31 02:45:37.099479</td>\n",
       "      <td>2025-05-31 05:55:16.673987</td>\n",
       "      <td>0 days 03:09:39.574508</td>\n",
       "      <td>relu</td>\n",
       "      <td>0.3</td>\n",
       "      <td>128-64-32</td>\n",
       "      <td>0.00033</td>\n",
       "      <td>SGD</td>\n",
       "      <td>warmup_decay_cos</td>\n",
       "      <td>COMPLETE</td>\n",
       "    </tr>\n",
       "    <tr>\n",
       "      <th>3</th>\n",
       "      <td>3</td>\n",
       "      <td>0.102258</td>\n",
       "      <td>2025-05-31 03:27:18.016384</td>\n",
       "      <td>2025-05-31 06:35:47.604244</td>\n",
       "      <td>0 days 03:08:29.587860</td>\n",
       "      <td>tanh</td>\n",
       "      <td>0.0</td>\n",
       "      <td>128-64-32</td>\n",
       "      <td>0.00100</td>\n",
       "      <td>adamw</td>\n",
       "      <td>none</td>\n",
       "      <td>COMPLETE</td>\n",
       "    </tr>\n",
       "    <tr>\n",
       "      <th>4</th>\n",
       "      <td>4</td>\n",
       "      <td>0.158890</td>\n",
       "      <td>2025-05-31 05:55:16.855220</td>\n",
       "      <td>2025-05-31 09:06:31.171085</td>\n",
       "      <td>0 days 03:11:14.315865</td>\n",
       "      <td>tanh</td>\n",
       "      <td>0.1</td>\n",
       "      <td>512-256-128</td>\n",
       "      <td>0.00010</td>\n",
       "      <td>SGD</td>\n",
       "      <td>warmup</td>\n",
       "      <td>COMPLETE</td>\n",
       "    </tr>\n",
       "    <tr>\n",
       "      <th>5</th>\n",
       "      <td>5</td>\n",
       "      <td>0.109814</td>\n",
       "      <td>2025-05-31 06:35:47.758828</td>\n",
       "      <td>2025-05-31 09:46:53.819517</td>\n",
       "      <td>0 days 03:11:06.060689</td>\n",
       "      <td>relu</td>\n",
       "      <td>0.3</td>\n",
       "      <td>512-256-128</td>\n",
       "      <td>0.00100</td>\n",
       "      <td>adamw</td>\n",
       "      <td>none</td>\n",
       "      <td>COMPLETE</td>\n",
       "    </tr>\n",
       "    <tr>\n",
       "      <th>6</th>\n",
       "      <td>6</td>\n",
       "      <td>0.121989</td>\n",
       "      <td>2025-05-31 09:06:31.328732</td>\n",
       "      <td>2025-05-31 12:18:32.831722</td>\n",
       "      <td>0 days 03:12:01.502990</td>\n",
       "      <td>relu</td>\n",
       "      <td>0.1</td>\n",
       "      <td>512-256-128</td>\n",
       "      <td>0.00100</td>\n",
       "      <td>SGD</td>\n",
       "      <td>none</td>\n",
       "      <td>COMPLETE</td>\n",
       "    </tr>\n",
       "    <tr>\n",
       "      <th>7</th>\n",
       "      <td>7</td>\n",
       "      <td>0.174366</td>\n",
       "      <td>2025-05-31 09:46:53.948706</td>\n",
       "      <td>2025-05-31 12:57:49.112277</td>\n",
       "      <td>0 days 03:10:55.163571</td>\n",
       "      <td>relu</td>\n",
       "      <td>0.1</td>\n",
       "      <td>128-64-32</td>\n",
       "      <td>0.00010</td>\n",
       "      <td>SGD</td>\n",
       "      <td>warmup</td>\n",
       "      <td>COMPLETE</td>\n",
       "    </tr>\n",
       "    <tr>\n",
       "      <th>8</th>\n",
       "      <td>8</td>\n",
       "      <td>0.103674</td>\n",
       "      <td>2025-05-31 12:18:33.000900</td>\n",
       "      <td>2025-05-31 15:31:19.876621</td>\n",
       "      <td>0 days 03:12:46.875721</td>\n",
       "      <td>tanh</td>\n",
       "      <td>0.0</td>\n",
       "      <td>128-64-32</td>\n",
       "      <td>0.00033</td>\n",
       "      <td>adamw</td>\n",
       "      <td>none</td>\n",
       "      <td>COMPLETE</td>\n",
       "    </tr>\n",
       "    <tr>\n",
       "      <th>9</th>\n",
       "      <td>9</td>\n",
       "      <td>0.105615</td>\n",
       "      <td>2025-05-31 12:57:49.239518</td>\n",
       "      <td>2025-05-31 16:08:52.690252</td>\n",
       "      <td>0 days 03:11:03.450734</td>\n",
       "      <td>tanh</td>\n",
       "      <td>0.0</td>\n",
       "      <td>512-256-128</td>\n",
       "      <td>0.00033</td>\n",
       "      <td>adamw</td>\n",
       "      <td>none</td>\n",
       "      <td>COMPLETE</td>\n",
       "    </tr>\n",
       "    <tr>\n",
       "      <th>10</th>\n",
       "      <td>10</td>\n",
       "      <td>0.109222</td>\n",
       "      <td>2025-06-01 00:08:47.699777</td>\n",
       "      <td>2025-06-01 03:17:29.203561</td>\n",
       "      <td>0 days 03:08:41.503784</td>\n",
       "      <td>sigmoid</td>\n",
       "      <td>0.0</td>\n",
       "      <td>256-128</td>\n",
       "      <td>0.00100</td>\n",
       "      <td>adam</td>\n",
       "      <td>none</td>\n",
       "      <td>COMPLETE</td>\n",
       "    </tr>\n",
       "    <tr>\n",
       "      <th>11</th>\n",
       "      <td>11</td>\n",
       "      <td>0.111713</td>\n",
       "      <td>2025-06-01 00:14:13.472674</td>\n",
       "      <td>2025-06-01 03:23:05.102894</td>\n",
       "      <td>0 days 03:08:51.630220</td>\n",
       "      <td>sigmoid</td>\n",
       "      <td>0.0</td>\n",
       "      <td>128-64-32</td>\n",
       "      <td>0.00100</td>\n",
       "      <td>adamw</td>\n",
       "      <td>none</td>\n",
       "      <td>COMPLETE</td>\n",
       "    </tr>\n",
       "    <tr>\n",
       "      <th>12</th>\n",
       "      <td>12</td>\n",
       "      <td>0.106311</td>\n",
       "      <td>2025-06-01 03:17:29.416461</td>\n",
       "      <td>2025-06-01 06:25:36.735109</td>\n",
       "      <td>0 days 03:08:07.318648</td>\n",
       "      <td>tanh</td>\n",
       "      <td>0.0</td>\n",
       "      <td>128-64-32</td>\n",
       "      <td>0.00010</td>\n",
       "      <td>adamw</td>\n",
       "      <td>none</td>\n",
       "      <td>COMPLETE</td>\n",
       "    </tr>\n",
       "    <tr>\n",
       "      <th>13</th>\n",
       "      <td>13</td>\n",
       "      <td>0.110122</td>\n",
       "      <td>2025-06-01 03:23:05.281364</td>\n",
       "      <td>2025-06-01 06:32:48.764272</td>\n",
       "      <td>0 days 03:09:43.482908</td>\n",
       "      <td>tanh</td>\n",
       "      <td>0.0</td>\n",
       "      <td>128</td>\n",
       "      <td>0.00010</td>\n",
       "      <td>adamw</td>\n",
       "      <td>warmup_decay_cos</td>\n",
       "      <td>COMPLETE</td>\n",
       "    </tr>\n",
       "    <tr>\n",
       "      <th>14</th>\n",
       "      <td>14</td>\n",
       "      <td>0.110067</td>\n",
       "      <td>2025-06-01 06:25:36.882825</td>\n",
       "      <td>2025-06-01 09:36:34.044810</td>\n",
       "      <td>0 days 03:10:57.161985</td>\n",
       "      <td>tanh</td>\n",
       "      <td>0.0</td>\n",
       "      <td>128</td>\n",
       "      <td>0.00033</td>\n",
       "      <td>adamw</td>\n",
       "      <td>warmup_decay_cos</td>\n",
       "      <td>COMPLETE</td>\n",
       "    </tr>\n",
       "    <tr>\n",
       "      <th>15</th>\n",
       "      <td>15</td>\n",
       "      <td>0.107052</td>\n",
       "      <td>2025-06-01 09:36:34.196118</td>\n",
       "      <td>2025-06-01 12:49:02.740539</td>\n",
       "      <td>0 days 03:12:28.544421</td>\n",
       "      <td>tanh</td>\n",
       "      <td>0.1</td>\n",
       "      <td>128-64-32</td>\n",
       "      <td>0.00100</td>\n",
       "      <td>adamw</td>\n",
       "      <td>warmup</td>\n",
       "      <td>COMPLETE</td>\n",
       "    </tr>\n",
       "    <tr>\n",
       "      <th>16</th>\n",
       "      <td>16</td>\n",
       "      <td>0.106571</td>\n",
       "      <td>2025-06-01 10:46:55.061414</td>\n",
       "      <td>2025-06-01 13:53:20.225778</td>\n",
       "      <td>0 days 03:06:25.164364</td>\n",
       "      <td>tanh</td>\n",
       "      <td>0.0</td>\n",
       "      <td>256-128</td>\n",
       "      <td>0.00033</td>\n",
       "      <td>adamw</td>\n",
       "      <td>none</td>\n",
       "      <td>COMPLETE</td>\n",
       "    </tr>\n",
       "    <tr>\n",
       "      <th>17</th>\n",
       "      <td>17</td>\n",
       "      <td>0.135297</td>\n",
       "      <td>2025-06-01 15:13:45.981861</td>\n",
       "      <td>2025-06-01 18:26:28.847215</td>\n",
       "      <td>0 days 03:12:42.865354</td>\n",
       "      <td>tanh</td>\n",
       "      <td>0.0</td>\n",
       "      <td>128-64-32</td>\n",
       "      <td>0.00033</td>\n",
       "      <td>SGD</td>\n",
       "      <td>none</td>\n",
       "      <td>COMPLETE</td>\n",
       "    </tr>\n",
       "    <tr>\n",
       "      <th>18</th>\n",
       "      <td>18</td>\n",
       "      <td>0.111906</td>\n",
       "      <td>2025-06-01 15:20:00.785119</td>\n",
       "      <td>2025-06-01 18:30:53.528614</td>\n",
       "      <td>0 days 03:10:52.743495</td>\n",
       "      <td>tanh</td>\n",
       "      <td>0.3</td>\n",
       "      <td>128-64-32</td>\n",
       "      <td>0.00033</td>\n",
       "      <td>adamw</td>\n",
       "      <td>none</td>\n",
       "      <td>COMPLETE</td>\n",
       "    </tr>\n",
       "    <tr>\n",
       "      <th>19</th>\n",
       "      <td>19</td>\n",
       "      <td>0.105446</td>\n",
       "      <td>2025-06-01 18:26:30.033552</td>\n",
       "      <td>2025-06-01 21:38:13.439884</td>\n",
       "      <td>0 days 03:11:43.406332</td>\n",
       "      <td>relu</td>\n",
       "      <td>0.0</td>\n",
       "      <td>128</td>\n",
       "      <td>0.00033</td>\n",
       "      <td>adam</td>\n",
       "      <td>none</td>\n",
       "      <td>COMPLETE</td>\n",
       "    </tr>\n",
       "    <tr>\n",
       "      <th>20</th>\n",
       "      <td>20</td>\n",
       "      <td>0.107106</td>\n",
       "      <td>2025-06-01 18:30:54.135195</td>\n",
       "      <td>2025-06-01 21:40:36.782319</td>\n",
       "      <td>0 days 03:09:42.647124</td>\n",
       "      <td>tanh</td>\n",
       "      <td>0.0</td>\n",
       "      <td>128</td>\n",
       "      <td>0.00100</td>\n",
       "      <td>adamw</td>\n",
       "      <td>none</td>\n",
       "      <td>COMPLETE</td>\n",
       "    </tr>\n",
       "    <tr>\n",
       "      <th>21</th>\n",
       "      <td>21</td>\n",
       "      <td>0.105975</td>\n",
       "      <td>2025-06-01 21:38:13.655340</td>\n",
       "      <td>2025-06-02 00:56:37.004234</td>\n",
       "      <td>0 days 03:18:23.348894</td>\n",
       "      <td>relu</td>\n",
       "      <td>0.0</td>\n",
       "      <td>128-64-32</td>\n",
       "      <td>0.00033</td>\n",
       "      <td>adam</td>\n",
       "      <td>none</td>\n",
       "      <td>COMPLETE</td>\n",
       "    </tr>\n",
       "    <tr>\n",
       "      <th>22</th>\n",
       "      <td>22</td>\n",
       "      <td>0.105821</td>\n",
       "      <td>2025-06-01 21:40:37.925466</td>\n",
       "      <td>2025-06-02 00:56:56.685511</td>\n",
       "      <td>0 days 03:16:18.760045</td>\n",
       "      <td>relu</td>\n",
       "      <td>0.0</td>\n",
       "      <td>128-64-32</td>\n",
       "      <td>0.00033</td>\n",
       "      <td>adamw</td>\n",
       "      <td>none</td>\n",
       "      <td>COMPLETE</td>\n",
       "    </tr>\n",
       "    <tr>\n",
       "      <th>23</th>\n",
       "      <td>23</td>\n",
       "      <td>0.102360</td>\n",
       "      <td>2025-06-02 00:56:37.135028</td>\n",
       "      <td>2025-06-02 04:21:34.596734</td>\n",
       "      <td>0 days 03:24:57.461706</td>\n",
       "      <td>tanh</td>\n",
       "      <td>0.0</td>\n",
       "      <td>128-64-32</td>\n",
       "      <td>0.00100</td>\n",
       "      <td>adam</td>\n",
       "      <td>none</td>\n",
       "      <td>COMPLETE</td>\n",
       "    </tr>\n",
       "    <tr>\n",
       "      <th>24</th>\n",
       "      <td>24</td>\n",
       "      <td>0.106565</td>\n",
       "      <td>2025-06-02 00:56:56.824097</td>\n",
       "      <td>2025-06-02 04:21:22.362264</td>\n",
       "      <td>0 days 03:24:25.538167</td>\n",
       "      <td>tanh</td>\n",
       "      <td>0.0</td>\n",
       "      <td>512-256-128</td>\n",
       "      <td>0.00100</td>\n",
       "      <td>adam</td>\n",
       "      <td>none</td>\n",
       "      <td>COMPLETE</td>\n",
       "    </tr>\n",
       "    <tr>\n",
       "      <th>25</th>\n",
       "      <td>25</td>\n",
       "      <td>0.132729</td>\n",
       "      <td>2025-06-02 04:21:22.538865</td>\n",
       "      <td>2025-06-02 07:45:30.414518</td>\n",
       "      <td>0 days 03:24:07.875653</td>\n",
       "      <td>tanh</td>\n",
       "      <td>0.0</td>\n",
       "      <td>128-64-32</td>\n",
       "      <td>0.00100</td>\n",
       "      <td>SGD</td>\n",
       "      <td>warmup_decay_cos</td>\n",
       "      <td>COMPLETE</td>\n",
       "    </tr>\n",
       "    <tr>\n",
       "      <th>26</th>\n",
       "      <td>26</td>\n",
       "      <td>0.106629</td>\n",
       "      <td>2025-06-02 04:21:34.763108</td>\n",
       "      <td>2025-06-02 07:46:11.742682</td>\n",
       "      <td>0 days 03:24:36.979574</td>\n",
       "      <td>tanh</td>\n",
       "      <td>0.3</td>\n",
       "      <td>128-64-32</td>\n",
       "      <td>0.00100</td>\n",
       "      <td>adam</td>\n",
       "      <td>none</td>\n",
       "      <td>COMPLETE</td>\n",
       "    </tr>\n",
       "    <tr>\n",
       "      <th>27</th>\n",
       "      <td>27</td>\n",
       "      <td>0.127273</td>\n",
       "      <td>2025-06-02 10:24:30.584209</td>\n",
       "      <td>2025-06-02 14:05:10.656942</td>\n",
       "      <td>0 days 03:40:40.072733</td>\n",
       "      <td>tanh</td>\n",
       "      <td>0.1</td>\n",
       "      <td>128-64-32</td>\n",
       "      <td>0.00100</td>\n",
       "      <td>SGD</td>\n",
       "      <td>none</td>\n",
       "      <td>COMPLETE</td>\n",
       "    </tr>\n",
       "    <tr>\n",
       "      <th>28</th>\n",
       "      <td>28</td>\n",
       "      <td>0.105367</td>\n",
       "      <td>2025-06-02 14:05:10.857913</td>\n",
       "      <td>2025-06-02 17:23:59.681839</td>\n",
       "      <td>0 days 03:18:48.823926</td>\n",
       "      <td>tanh</td>\n",
       "      <td>0.0</td>\n",
       "      <td>128-64-32</td>\n",
       "      <td>0.00033</td>\n",
       "      <td>adam</td>\n",
       "      <td>warmup</td>\n",
       "      <td>COMPLETE</td>\n",
       "    </tr>\n",
       "    <tr>\n",
       "      <th>29</th>\n",
       "      <td>29</td>\n",
       "      <td>0.109992</td>\n",
       "      <td>2025-06-02 14:58:08.939657</td>\n",
       "      <td>2025-06-02 18:16:58.144980</td>\n",
       "      <td>0 days 03:18:49.205323</td>\n",
       "      <td>tanh</td>\n",
       "      <td>0.0</td>\n",
       "      <td>128-64-32</td>\n",
       "      <td>0.00010</td>\n",
       "      <td>adam</td>\n",
       "      <td>warmup_decay_cos</td>\n",
       "      <td>COMPLETE</td>\n",
       "    </tr>\n",
       "    <tr>\n",
       "      <th>30</th>\n",
       "      <td>30</td>\n",
       "      <td>0.111411</td>\n",
       "      <td>2025-06-02 17:24:00.386080</td>\n",
       "      <td>2025-06-02 20:57:55.172213</td>\n",
       "      <td>0 days 03:33:54.786133</td>\n",
       "      <td>sigmoid</td>\n",
       "      <td>0.0</td>\n",
       "      <td>128-64-32</td>\n",
       "      <td>0.00010</td>\n",
       "      <td>adam</td>\n",
       "      <td>warmup_decay_cos</td>\n",
       "      <td>COMPLETE</td>\n",
       "    </tr>\n",
       "    <tr>\n",
       "      <th>31</th>\n",
       "      <td>31</td>\n",
       "      <td>0.108165</td>\n",
       "      <td>2025-06-02 18:16:59.044089</td>\n",
       "      <td>2025-06-02 21:53:21.807381</td>\n",
       "      <td>0 days 03:36:22.763292</td>\n",
       "      <td>relu</td>\n",
       "      <td>0.0</td>\n",
       "      <td>128-64-32</td>\n",
       "      <td>0.00100</td>\n",
       "      <td>adam</td>\n",
       "      <td>none</td>\n",
       "      <td>COMPLETE</td>\n",
       "    </tr>\n",
       "    <tr>\n",
       "      <th>32</th>\n",
       "      <td>32</td>\n",
       "      <td>0.110243</td>\n",
       "      <td>2025-06-02 21:53:22.621461</td>\n",
       "      <td>2025-06-03 01:37:13.714033</td>\n",
       "      <td>0 days 03:43:51.092572</td>\n",
       "      <td>tanh</td>\n",
       "      <td>0.1</td>\n",
       "      <td>128</td>\n",
       "      <td>0.00100</td>\n",
       "      <td>adam</td>\n",
       "      <td>none</td>\n",
       "      <td>COMPLETE</td>\n",
       "    </tr>\n",
       "    <tr>\n",
       "      <th>33</th>\n",
       "      <td>33</td>\n",
       "      <td>0.108585</td>\n",
       "      <td>2025-06-03 01:37:14.618460</td>\n",
       "      <td>2025-06-03 05:20:28.632423</td>\n",
       "      <td>0 days 03:43:14.013963</td>\n",
       "      <td>tanh</td>\n",
       "      <td>0.0</td>\n",
       "      <td>128</td>\n",
       "      <td>0.00010</td>\n",
       "      <td>adam</td>\n",
       "      <td>none</td>\n",
       "      <td>COMPLETE</td>\n",
       "    </tr>\n",
       "    <tr>\n",
       "      <th>34</th>\n",
       "      <td>34</td>\n",
       "      <td>0.110731</td>\n",
       "      <td>2025-06-03 05:20:29.420749</td>\n",
       "      <td>2025-06-03 09:10:20.505996</td>\n",
       "      <td>0 days 03:49:51.085247</td>\n",
       "      <td>sigmoid</td>\n",
       "      <td>0.0</td>\n",
       "      <td>128-64-32</td>\n",
       "      <td>0.00100</td>\n",
       "      <td>adam</td>\n",
       "      <td>warmup</td>\n",
       "      <td>COMPLETE</td>\n",
       "    </tr>\n",
       "    <tr>\n",
       "      <th>35</th>\n",
       "      <td>35</td>\n",
       "      <td>0.102517</td>\n",
       "      <td>2025-06-03 09:10:21.992988</td>\n",
       "      <td>2025-06-03 13:14:28.926648</td>\n",
       "      <td>0 days 04:04:06.933660</td>\n",
       "      <td>tanh</td>\n",
       "      <td>0.0</td>\n",
       "      <td>512-256-128</td>\n",
       "      <td>0.00100</td>\n",
       "      <td>adamw</td>\n",
       "      <td>warmup</td>\n",
       "      <td>COMPLETE</td>\n",
       "    </tr>\n",
       "  </tbody>\n",
       "</table>\n",
       "</div>"
      ],
      "text/plain": [
       "    number     value             datetime_start          datetime_complete   \n",
       "0        0  0.108496 2025-05-30 23:37:35.771407 2025-05-31 02:45:36.942838  \\\n",
       "1        1  0.141480 2025-05-31 00:20:32.714533 2025-05-31 03:27:17.898365   \n",
       "2        2  0.148416 2025-05-31 02:45:37.099479 2025-05-31 05:55:16.673987   \n",
       "3        3  0.102258 2025-05-31 03:27:18.016384 2025-05-31 06:35:47.604244   \n",
       "4        4  0.158890 2025-05-31 05:55:16.855220 2025-05-31 09:06:31.171085   \n",
       "5        5  0.109814 2025-05-31 06:35:47.758828 2025-05-31 09:46:53.819517   \n",
       "6        6  0.121989 2025-05-31 09:06:31.328732 2025-05-31 12:18:32.831722   \n",
       "7        7  0.174366 2025-05-31 09:46:53.948706 2025-05-31 12:57:49.112277   \n",
       "8        8  0.103674 2025-05-31 12:18:33.000900 2025-05-31 15:31:19.876621   \n",
       "9        9  0.105615 2025-05-31 12:57:49.239518 2025-05-31 16:08:52.690252   \n",
       "10      10  0.109222 2025-06-01 00:08:47.699777 2025-06-01 03:17:29.203561   \n",
       "11      11  0.111713 2025-06-01 00:14:13.472674 2025-06-01 03:23:05.102894   \n",
       "12      12  0.106311 2025-06-01 03:17:29.416461 2025-06-01 06:25:36.735109   \n",
       "13      13  0.110122 2025-06-01 03:23:05.281364 2025-06-01 06:32:48.764272   \n",
       "14      14  0.110067 2025-06-01 06:25:36.882825 2025-06-01 09:36:34.044810   \n",
       "15      15  0.107052 2025-06-01 09:36:34.196118 2025-06-01 12:49:02.740539   \n",
       "16      16  0.106571 2025-06-01 10:46:55.061414 2025-06-01 13:53:20.225778   \n",
       "17      17  0.135297 2025-06-01 15:13:45.981861 2025-06-01 18:26:28.847215   \n",
       "18      18  0.111906 2025-06-01 15:20:00.785119 2025-06-01 18:30:53.528614   \n",
       "19      19  0.105446 2025-06-01 18:26:30.033552 2025-06-01 21:38:13.439884   \n",
       "20      20  0.107106 2025-06-01 18:30:54.135195 2025-06-01 21:40:36.782319   \n",
       "21      21  0.105975 2025-06-01 21:38:13.655340 2025-06-02 00:56:37.004234   \n",
       "22      22  0.105821 2025-06-01 21:40:37.925466 2025-06-02 00:56:56.685511   \n",
       "23      23  0.102360 2025-06-02 00:56:37.135028 2025-06-02 04:21:34.596734   \n",
       "24      24  0.106565 2025-06-02 00:56:56.824097 2025-06-02 04:21:22.362264   \n",
       "25      25  0.132729 2025-06-02 04:21:22.538865 2025-06-02 07:45:30.414518   \n",
       "26      26  0.106629 2025-06-02 04:21:34.763108 2025-06-02 07:46:11.742682   \n",
       "27      27  0.127273 2025-06-02 10:24:30.584209 2025-06-02 14:05:10.656942   \n",
       "28      28  0.105367 2025-06-02 14:05:10.857913 2025-06-02 17:23:59.681839   \n",
       "29      29  0.109992 2025-06-02 14:58:08.939657 2025-06-02 18:16:58.144980   \n",
       "30      30  0.111411 2025-06-02 17:24:00.386080 2025-06-02 20:57:55.172213   \n",
       "31      31  0.108165 2025-06-02 18:16:59.044089 2025-06-02 21:53:21.807381   \n",
       "32      32  0.110243 2025-06-02 21:53:22.621461 2025-06-03 01:37:13.714033   \n",
       "33      33  0.108585 2025-06-03 01:37:14.618460 2025-06-03 05:20:28.632423   \n",
       "34      34  0.110731 2025-06-03 05:20:29.420749 2025-06-03 09:10:20.505996   \n",
       "35      35  0.102517 2025-06-03 09:10:21.992988 2025-06-03 13:14:28.926648   \n",
       "\n",
       "                 duration params_activation_mlp  params_dropout_mlp   \n",
       "0  0 days 03:08:01.171431                  tanh                 0.3  \\\n",
       "1  0 days 03:06:45.183832                  relu                 0.3   \n",
       "2  0 days 03:09:39.574508                  relu                 0.3   \n",
       "3  0 days 03:08:29.587860                  tanh                 0.0   \n",
       "4  0 days 03:11:14.315865                  tanh                 0.1   \n",
       "5  0 days 03:11:06.060689                  relu                 0.3   \n",
       "6  0 days 03:12:01.502990                  relu                 0.1   \n",
       "7  0 days 03:10:55.163571                  relu                 0.1   \n",
       "8  0 days 03:12:46.875721                  tanh                 0.0   \n",
       "9  0 days 03:11:03.450734                  tanh                 0.0   \n",
       "10 0 days 03:08:41.503784               sigmoid                 0.0   \n",
       "11 0 days 03:08:51.630220               sigmoid                 0.0   \n",
       "12 0 days 03:08:07.318648                  tanh                 0.0   \n",
       "13 0 days 03:09:43.482908                  tanh                 0.0   \n",
       "14 0 days 03:10:57.161985                  tanh                 0.0   \n",
       "15 0 days 03:12:28.544421                  tanh                 0.1   \n",
       "16 0 days 03:06:25.164364                  tanh                 0.0   \n",
       "17 0 days 03:12:42.865354                  tanh                 0.0   \n",
       "18 0 days 03:10:52.743495                  tanh                 0.3   \n",
       "19 0 days 03:11:43.406332                  relu                 0.0   \n",
       "20 0 days 03:09:42.647124                  tanh                 0.0   \n",
       "21 0 days 03:18:23.348894                  relu                 0.0   \n",
       "22 0 days 03:16:18.760045                  relu                 0.0   \n",
       "23 0 days 03:24:57.461706                  tanh                 0.0   \n",
       "24 0 days 03:24:25.538167                  tanh                 0.0   \n",
       "25 0 days 03:24:07.875653                  tanh                 0.0   \n",
       "26 0 days 03:24:36.979574                  tanh                 0.3   \n",
       "27 0 days 03:40:40.072733                  tanh                 0.1   \n",
       "28 0 days 03:18:48.823926                  tanh                 0.0   \n",
       "29 0 days 03:18:49.205323                  tanh                 0.0   \n",
       "30 0 days 03:33:54.786133               sigmoid                 0.0   \n",
       "31 0 days 03:36:22.763292                  relu                 0.0   \n",
       "32 0 days 03:43:51.092572                  tanh                 0.1   \n",
       "33 0 days 03:43:14.013963                  tanh                 0.0   \n",
       "34 0 days 03:49:51.085247               sigmoid                 0.0   \n",
       "35 0 days 04:04:06.933660                  tanh                 0.0   \n",
       "\n",
       "   params_hidden_size_mlp  params_lr params_optim  params_scheduler     state  \n",
       "0             512-256-128    0.00033         adam            warmup  COMPLETE  \n",
       "1                     128    0.00033          SGD  warmup_decay_cos  COMPLETE  \n",
       "2               128-64-32    0.00033          SGD  warmup_decay_cos  COMPLETE  \n",
       "3               128-64-32    0.00100        adamw              none  COMPLETE  \n",
       "4             512-256-128    0.00010          SGD            warmup  COMPLETE  \n",
       "5             512-256-128    0.00100        adamw              none  COMPLETE  \n",
       "6             512-256-128    0.00100          SGD              none  COMPLETE  \n",
       "7               128-64-32    0.00010          SGD            warmup  COMPLETE  \n",
       "8               128-64-32    0.00033        adamw              none  COMPLETE  \n",
       "9             512-256-128    0.00033        adamw              none  COMPLETE  \n",
       "10                256-128    0.00100         adam              none  COMPLETE  \n",
       "11              128-64-32    0.00100        adamw              none  COMPLETE  \n",
       "12              128-64-32    0.00010        adamw              none  COMPLETE  \n",
       "13                    128    0.00010        adamw  warmup_decay_cos  COMPLETE  \n",
       "14                    128    0.00033        adamw  warmup_decay_cos  COMPLETE  \n",
       "15              128-64-32    0.00100        adamw            warmup  COMPLETE  \n",
       "16                256-128    0.00033        adamw              none  COMPLETE  \n",
       "17              128-64-32    0.00033          SGD              none  COMPLETE  \n",
       "18              128-64-32    0.00033        adamw              none  COMPLETE  \n",
       "19                    128    0.00033         adam              none  COMPLETE  \n",
       "20                    128    0.00100        adamw              none  COMPLETE  \n",
       "21              128-64-32    0.00033         adam              none  COMPLETE  \n",
       "22              128-64-32    0.00033        adamw              none  COMPLETE  \n",
       "23              128-64-32    0.00100         adam              none  COMPLETE  \n",
       "24            512-256-128    0.00100         adam              none  COMPLETE  \n",
       "25              128-64-32    0.00100          SGD  warmup_decay_cos  COMPLETE  \n",
       "26              128-64-32    0.00100         adam              none  COMPLETE  \n",
       "27              128-64-32    0.00100          SGD              none  COMPLETE  \n",
       "28              128-64-32    0.00033         adam            warmup  COMPLETE  \n",
       "29              128-64-32    0.00010         adam  warmup_decay_cos  COMPLETE  \n",
       "30              128-64-32    0.00010         adam  warmup_decay_cos  COMPLETE  \n",
       "31              128-64-32    0.00100         adam              none  COMPLETE  \n",
       "32                    128    0.00100         adam              none  COMPLETE  \n",
       "33                    128    0.00010         adam              none  COMPLETE  \n",
       "34              128-64-32    0.00100         adam            warmup  COMPLETE  \n",
       "35            512-256-128    0.00100        adamw            warmup  COMPLETE  "
      ]
     },
     "execution_count": 10,
     "metadata": {},
     "output_type": "execute_result"
    }
   ],
   "source": [
    "df.head(50)"
   ]
  },
  {
   "cell_type": "code",
   "execution_count": 5,
   "id": "ee5255de-083b-4266-9010-98d4c81d6099",
   "metadata": {},
   "outputs": [
    {
     "name": "stdout",
     "output_type": "stream",
     "text": [
      "Best parameters: {'lr': 0.001, 'optim': 'adamw', 'scheduler': 'none', 'dropout_mlp': 0, 'hidden_size_mlp': '128-64-32', 'activation_mlp': 'tanh'}\n",
      "Best value: 0.10225827991962433\n",
      "Best trial number: 3\n"
     ]
    }
   ],
   "source": [
    "best_params = study.best_params\n",
    "print(\"Best parameters:\", best_params)\n",
    "\n",
    "print(\"Best value:\", study.best_value)\n",
    "print(\"Best trial number:\", study.best_trial.number)"
   ]
  },
  {
   "cell_type": "code",
   "execution_count": 4,
   "id": "3d412d74-afa6-4c84-9a0e-8dcb1264c3d4",
   "metadata": {},
   "outputs": [
    {
     "data": {
      "application/vnd.plotly.v1+json": {
       "config": {
        "plotlyServerURL": "https://plot.ly"
       },
       "data": [
        {
         "mode": "markers",
         "name": "Objective Value",
         "type": "scatter",
         "x": [
          0,
          1,
          2,
          3,
          4,
          5,
          6,
          7,
          8,
          9,
          10,
          11,
          12,
          13,
          14,
          15,
          16,
          17,
          18,
          19,
          20,
          21,
          22,
          23,
          24,
          25,
          26,
          27,
          28,
          29,
          30,
          31,
          32,
          33,
          34,
          35
         ],
         "y": [
          0.10849607735872269,
          0.14147961139678955,
          0.14841584861278534,
          0.10225827991962433,
          0.15889029204845428,
          0.10981424152851105,
          0.12198865413665771,
          0.174366295337677,
          0.10367405414581299,
          0.1056150421500206,
          0.10922171920537949,
          0.11171307414770126,
          0.10631066560745239,
          0.11012180149555206,
          0.11006674915552139,
          0.10705174505710602,
          0.10657066106796265,
          0.13529716432094574,
          0.11190564185380936,
          0.10544633865356445,
          0.10710615664720535,
          0.10597499459981918,
          0.10582134872674942,
          0.10235967487096786,
          0.1065652072429657,
          0.13272850215435028,
          0.10662908852100372,
          0.12727271020412445,
          0.10536712408065796,
          0.10999231785535812,
          0.11141107231378555,
          0.10816462337970734,
          0.11024318635463715,
          0.10858513414859772,
          0.11073146015405655,
          0.10251719504594803
         ]
        },
        {
         "mode": "lines",
         "name": "Best Value",
         "type": "scatter",
         "x": [
          0,
          1,
          2,
          3,
          4,
          5,
          6,
          7,
          8,
          9,
          10,
          11,
          12,
          13,
          14,
          15,
          16,
          17,
          18,
          19,
          20,
          21,
          22,
          23,
          24,
          25,
          26,
          27,
          28,
          29,
          30,
          31,
          32,
          33,
          34,
          35
         ],
         "y": [
          0.10849607735872269,
          0.10849607735872269,
          0.10849607735872269,
          0.10225827991962433,
          0.10225827991962433,
          0.10225827991962433,
          0.10225827991962433,
          0.10225827991962433,
          0.10225827991962433,
          0.10225827991962433,
          0.10225827991962433,
          0.10225827991962433,
          0.10225827991962433,
          0.10225827991962433,
          0.10225827991962433,
          0.10225827991962433,
          0.10225827991962433,
          0.10225827991962433,
          0.10225827991962433,
          0.10225827991962433,
          0.10225827991962433,
          0.10225827991962433,
          0.10225827991962433,
          0.10225827991962433,
          0.10225827991962433,
          0.10225827991962433,
          0.10225827991962433,
          0.10225827991962433,
          0.10225827991962433,
          0.10225827991962433,
          0.10225827991962433,
          0.10225827991962433,
          0.10225827991962433,
          0.10225827991962433,
          0.10225827991962433,
          0.10225827991962433
         ]
        },
        {
         "marker": {
          "color": "#cccccc"
         },
         "mode": "markers",
         "name": "Infeasible Trial",
         "showlegend": false,
         "type": "scatter",
         "x": [],
         "y": []
        }
       ],
       "layout": {
        "template": {
         "data": {
          "bar": [
           {
            "error_x": {
             "color": "#2a3f5f"
            },
            "error_y": {
             "color": "#2a3f5f"
            },
            "marker": {
             "line": {
              "color": "#E5ECF6",
              "width": 0.5
             },
             "pattern": {
              "fillmode": "overlay",
              "size": 10,
              "solidity": 0.2
             }
            },
            "type": "bar"
           }
          ],
          "barpolar": [
           {
            "marker": {
             "line": {
              "color": "#E5ECF6",
              "width": 0.5
             },
             "pattern": {
              "fillmode": "overlay",
              "size": 10,
              "solidity": 0.2
             }
            },
            "type": "barpolar"
           }
          ],
          "carpet": [
           {
            "aaxis": {
             "endlinecolor": "#2a3f5f",
             "gridcolor": "white",
             "linecolor": "white",
             "minorgridcolor": "white",
             "startlinecolor": "#2a3f5f"
            },
            "baxis": {
             "endlinecolor": "#2a3f5f",
             "gridcolor": "white",
             "linecolor": "white",
             "minorgridcolor": "white",
             "startlinecolor": "#2a3f5f"
            },
            "type": "carpet"
           }
          ],
          "choropleth": [
           {
            "colorbar": {
             "outlinewidth": 0,
             "ticks": ""
            },
            "type": "choropleth"
           }
          ],
          "contour": [
           {
            "colorbar": {
             "outlinewidth": 0,
             "ticks": ""
            },
            "colorscale": [
             [
              0,
              "#0d0887"
             ],
             [
              0.1111111111111111,
              "#46039f"
             ],
             [
              0.2222222222222222,
              "#7201a8"
             ],
             [
              0.3333333333333333,
              "#9c179e"
             ],
             [
              0.4444444444444444,
              "#bd3786"
             ],
             [
              0.5555555555555556,
              "#d8576b"
             ],
             [
              0.6666666666666666,
              "#ed7953"
             ],
             [
              0.7777777777777778,
              "#fb9f3a"
             ],
             [
              0.8888888888888888,
              "#fdca26"
             ],
             [
              1,
              "#f0f921"
             ]
            ],
            "type": "contour"
           }
          ],
          "contourcarpet": [
           {
            "colorbar": {
             "outlinewidth": 0,
             "ticks": ""
            },
            "type": "contourcarpet"
           }
          ],
          "heatmap": [
           {
            "colorbar": {
             "outlinewidth": 0,
             "ticks": ""
            },
            "colorscale": [
             [
              0,
              "#0d0887"
             ],
             [
              0.1111111111111111,
              "#46039f"
             ],
             [
              0.2222222222222222,
              "#7201a8"
             ],
             [
              0.3333333333333333,
              "#9c179e"
             ],
             [
              0.4444444444444444,
              "#bd3786"
             ],
             [
              0.5555555555555556,
              "#d8576b"
             ],
             [
              0.6666666666666666,
              "#ed7953"
             ],
             [
              0.7777777777777778,
              "#fb9f3a"
             ],
             [
              0.8888888888888888,
              "#fdca26"
             ],
             [
              1,
              "#f0f921"
             ]
            ],
            "type": "heatmap"
           }
          ],
          "histogram": [
           {
            "marker": {
             "pattern": {
              "fillmode": "overlay",
              "size": 10,
              "solidity": 0.2
             }
            },
            "type": "histogram"
           }
          ],
          "histogram2d": [
           {
            "colorbar": {
             "outlinewidth": 0,
             "ticks": ""
            },
            "colorscale": [
             [
              0,
              "#0d0887"
             ],
             [
              0.1111111111111111,
              "#46039f"
             ],
             [
              0.2222222222222222,
              "#7201a8"
             ],
             [
              0.3333333333333333,
              "#9c179e"
             ],
             [
              0.4444444444444444,
              "#bd3786"
             ],
             [
              0.5555555555555556,
              "#d8576b"
             ],
             [
              0.6666666666666666,
              "#ed7953"
             ],
             [
              0.7777777777777778,
              "#fb9f3a"
             ],
             [
              0.8888888888888888,
              "#fdca26"
             ],
             [
              1,
              "#f0f921"
             ]
            ],
            "type": "histogram2d"
           }
          ],
          "histogram2dcontour": [
           {
            "colorbar": {
             "outlinewidth": 0,
             "ticks": ""
            },
            "colorscale": [
             [
              0,
              "#0d0887"
             ],
             [
              0.1111111111111111,
              "#46039f"
             ],
             [
              0.2222222222222222,
              "#7201a8"
             ],
             [
              0.3333333333333333,
              "#9c179e"
             ],
             [
              0.4444444444444444,
              "#bd3786"
             ],
             [
              0.5555555555555556,
              "#d8576b"
             ],
             [
              0.6666666666666666,
              "#ed7953"
             ],
             [
              0.7777777777777778,
              "#fb9f3a"
             ],
             [
              0.8888888888888888,
              "#fdca26"
             ],
             [
              1,
              "#f0f921"
             ]
            ],
            "type": "histogram2dcontour"
           }
          ],
          "mesh3d": [
           {
            "colorbar": {
             "outlinewidth": 0,
             "ticks": ""
            },
            "type": "mesh3d"
           }
          ],
          "parcoords": [
           {
            "line": {
             "colorbar": {
              "outlinewidth": 0,
              "ticks": ""
             }
            },
            "type": "parcoords"
           }
          ],
          "pie": [
           {
            "automargin": true,
            "type": "pie"
           }
          ],
          "scatter": [
           {
            "fillpattern": {
             "fillmode": "overlay",
             "size": 10,
             "solidity": 0.2
            },
            "type": "scatter"
           }
          ],
          "scatter3d": [
           {
            "line": {
             "colorbar": {
              "outlinewidth": 0,
              "ticks": ""
             }
            },
            "marker": {
             "colorbar": {
              "outlinewidth": 0,
              "ticks": ""
             }
            },
            "type": "scatter3d"
           }
          ],
          "scattercarpet": [
           {
            "marker": {
             "colorbar": {
              "outlinewidth": 0,
              "ticks": ""
             }
            },
            "type": "scattercarpet"
           }
          ],
          "scattergeo": [
           {
            "marker": {
             "colorbar": {
              "outlinewidth": 0,
              "ticks": ""
             }
            },
            "type": "scattergeo"
           }
          ],
          "scattergl": [
           {
            "marker": {
             "colorbar": {
              "outlinewidth": 0,
              "ticks": ""
             }
            },
            "type": "scattergl"
           }
          ],
          "scattermap": [
           {
            "marker": {
             "colorbar": {
              "outlinewidth": 0,
              "ticks": ""
             }
            },
            "type": "scattermap"
           }
          ],
          "scattermapbox": [
           {
            "marker": {
             "colorbar": {
              "outlinewidth": 0,
              "ticks": ""
             }
            },
            "type": "scattermapbox"
           }
          ],
          "scatterpolar": [
           {
            "marker": {
             "colorbar": {
              "outlinewidth": 0,
              "ticks": ""
             }
            },
            "type": "scatterpolar"
           }
          ],
          "scatterpolargl": [
           {
            "marker": {
             "colorbar": {
              "outlinewidth": 0,
              "ticks": ""
             }
            },
            "type": "scatterpolargl"
           }
          ],
          "scatterternary": [
           {
            "marker": {
             "colorbar": {
              "outlinewidth": 0,
              "ticks": ""
             }
            },
            "type": "scatterternary"
           }
          ],
          "surface": [
           {
            "colorbar": {
             "outlinewidth": 0,
             "ticks": ""
            },
            "colorscale": [
             [
              0,
              "#0d0887"
             ],
             [
              0.1111111111111111,
              "#46039f"
             ],
             [
              0.2222222222222222,
              "#7201a8"
             ],
             [
              0.3333333333333333,
              "#9c179e"
             ],
             [
              0.4444444444444444,
              "#bd3786"
             ],
             [
              0.5555555555555556,
              "#d8576b"
             ],
             [
              0.6666666666666666,
              "#ed7953"
             ],
             [
              0.7777777777777778,
              "#fb9f3a"
             ],
             [
              0.8888888888888888,
              "#fdca26"
             ],
             [
              1,
              "#f0f921"
             ]
            ],
            "type": "surface"
           }
          ],
          "table": [
           {
            "cells": {
             "fill": {
              "color": "#EBF0F8"
             },
             "line": {
              "color": "white"
             }
            },
            "header": {
             "fill": {
              "color": "#C8D4E3"
             },
             "line": {
              "color": "white"
             }
            },
            "type": "table"
           }
          ]
         },
         "layout": {
          "annotationdefaults": {
           "arrowcolor": "#2a3f5f",
           "arrowhead": 0,
           "arrowwidth": 1
          },
          "autotypenumbers": "strict",
          "coloraxis": {
           "colorbar": {
            "outlinewidth": 0,
            "ticks": ""
           }
          },
          "colorscale": {
           "diverging": [
            [
             0,
             "#8e0152"
            ],
            [
             0.1,
             "#c51b7d"
            ],
            [
             0.2,
             "#de77ae"
            ],
            [
             0.3,
             "#f1b6da"
            ],
            [
             0.4,
             "#fde0ef"
            ],
            [
             0.5,
             "#f7f7f7"
            ],
            [
             0.6,
             "#e6f5d0"
            ],
            [
             0.7,
             "#b8e186"
            ],
            [
             0.8,
             "#7fbc41"
            ],
            [
             0.9,
             "#4d9221"
            ],
            [
             1,
             "#276419"
            ]
           ],
           "sequential": [
            [
             0,
             "#0d0887"
            ],
            [
             0.1111111111111111,
             "#46039f"
            ],
            [
             0.2222222222222222,
             "#7201a8"
            ],
            [
             0.3333333333333333,
             "#9c179e"
            ],
            [
             0.4444444444444444,
             "#bd3786"
            ],
            [
             0.5555555555555556,
             "#d8576b"
            ],
            [
             0.6666666666666666,
             "#ed7953"
            ],
            [
             0.7777777777777778,
             "#fb9f3a"
            ],
            [
             0.8888888888888888,
             "#fdca26"
            ],
            [
             1,
             "#f0f921"
            ]
           ],
           "sequentialminus": [
            [
             0,
             "#0d0887"
            ],
            [
             0.1111111111111111,
             "#46039f"
            ],
            [
             0.2222222222222222,
             "#7201a8"
            ],
            [
             0.3333333333333333,
             "#9c179e"
            ],
            [
             0.4444444444444444,
             "#bd3786"
            ],
            [
             0.5555555555555556,
             "#d8576b"
            ],
            [
             0.6666666666666666,
             "#ed7953"
            ],
            [
             0.7777777777777778,
             "#fb9f3a"
            ],
            [
             0.8888888888888888,
             "#fdca26"
            ],
            [
             1,
             "#f0f921"
            ]
           ]
          },
          "colorway": [
           "#636efa",
           "#EF553B",
           "#00cc96",
           "#ab63fa",
           "#FFA15A",
           "#19d3f3",
           "#FF6692",
           "#B6E880",
           "#FF97FF",
           "#FECB52"
          ],
          "font": {
           "color": "#2a3f5f"
          },
          "geo": {
           "bgcolor": "white",
           "lakecolor": "white",
           "landcolor": "#E5ECF6",
           "showlakes": true,
           "showland": true,
           "subunitcolor": "white"
          },
          "hoverlabel": {
           "align": "left"
          },
          "hovermode": "closest",
          "mapbox": {
           "style": "light"
          },
          "paper_bgcolor": "white",
          "plot_bgcolor": "#E5ECF6",
          "polar": {
           "angularaxis": {
            "gridcolor": "white",
            "linecolor": "white",
            "ticks": ""
           },
           "bgcolor": "#E5ECF6",
           "radialaxis": {
            "gridcolor": "white",
            "linecolor": "white",
            "ticks": ""
           }
          },
          "scene": {
           "xaxis": {
            "backgroundcolor": "#E5ECF6",
            "gridcolor": "white",
            "gridwidth": 2,
            "linecolor": "white",
            "showbackground": true,
            "ticks": "",
            "zerolinecolor": "white"
           },
           "yaxis": {
            "backgroundcolor": "#E5ECF6",
            "gridcolor": "white",
            "gridwidth": 2,
            "linecolor": "white",
            "showbackground": true,
            "ticks": "",
            "zerolinecolor": "white"
           },
           "zaxis": {
            "backgroundcolor": "#E5ECF6",
            "gridcolor": "white",
            "gridwidth": 2,
            "linecolor": "white",
            "showbackground": true,
            "ticks": "",
            "zerolinecolor": "white"
           }
          },
          "shapedefaults": {
           "line": {
            "color": "#2a3f5f"
           }
          },
          "ternary": {
           "aaxis": {
            "gridcolor": "white",
            "linecolor": "white",
            "ticks": ""
           },
           "baxis": {
            "gridcolor": "white",
            "linecolor": "white",
            "ticks": ""
           },
           "bgcolor": "#E5ECF6",
           "caxis": {
            "gridcolor": "white",
            "linecolor": "white",
            "ticks": ""
           }
          },
          "title": {
           "x": 0.05
          },
          "xaxis": {
           "automargin": true,
           "gridcolor": "white",
           "linecolor": "white",
           "ticks": "",
           "title": {
            "standoff": 15
           },
           "zerolinecolor": "white",
           "zerolinewidth": 2
          },
          "yaxis": {
           "automargin": true,
           "gridcolor": "white",
           "linecolor": "white",
           "ticks": "",
           "title": {
            "standoff": 15
           },
           "zerolinecolor": "white",
           "zerolinewidth": 2
          }
         }
        },
        "title": {
         "text": "Optimization History Plot"
        },
        "xaxis": {
         "title": {
          "text": "Trial"
         }
        },
        "yaxis": {
         "title": {
          "text": "Objective Value"
         }
        }
       }
      },
      "image/png": "[encoded data removed]"
     },
     "metadata": {},
     "output_type": "display_data"
    }
   ],
   "source": [
    "fig = plot_optimization_history(study)\n",
    "fig.show()"
   ]
  },
  {
   "cell_type": "code",
   "execution_count": 5,
   "id": "2cdb745c-c939-4871-b857-cb183d648074",
   "metadata": {},
   "outputs": [
    {
     "data": {
      "application/vnd.plotly.v1+json": {
       "config": {
        "plotlyServerURL": "https://plot.ly"
       },
       "data": [
        {
         "cliponaxis": false,
         "hovertemplate": [
          "hidden_size_mlp (CategoricalDistribution): 0.005051140729086619<extra></extra>",
          "activation_mlp (CategoricalDistribution): 0.00506957200605395<extra></extra>",
          "dropout_mlp (CategoricalDistribution): 0.014411564573677283<extra></extra>",
          "scheduler (CategoricalDistribution): 0.05437301733438316<extra></extra>",
          "lr (CategoricalDistribution): 0.05622079811050794<extra></extra>",
          "optim (CategoricalDistribution): 0.8648739072462911<extra></extra>"
         ],
         "name": "Objective Value",
         "orientation": "h",
         "text": [
          "<0.01",
          "<0.01",
          "0.01",
          "0.05",
          "0.06",
          "0.86"
         ],
         "textposition": "outside",
         "type": "bar",
         "x": [
          0.005051140729086619,
          0.00506957200605395,
          0.014411564573677283,
          0.05437301733438316,
          0.05622079811050794,
          0.8648739072462911
         ],
         "y": [
          "hidden_size_mlp",
          "activation_mlp",
          "dropout_mlp",
          "scheduler",
          "lr",
          "optim"
         ]
        }
       ],
       "layout": {
        "template": {
         "data": {
          "bar": [
           {
            "error_x": {
             "color": "#2a3f5f"
            },
            "error_y": {
             "color": "#2a3f5f"
            },
            "marker": {
             "line": {
              "color": "#E5ECF6",
              "width": 0.5
             },
             "pattern": {
              "fillmode": "overlay",
              "size": 10,
              "solidity": 0.2
             }
            },
            "type": "bar"
           }
          ],
          "barpolar": [
           {
            "marker": {
             "line": {
              "color": "#E5ECF6",
              "width": 0.5
             },
             "pattern": {
              "fillmode": "overlay",
              "size": 10,
              "solidity": 0.2
             }
            },
            "type": "barpolar"
           }
          ],
          "carpet": [
           {
            "aaxis": {
             "endlinecolor": "#2a3f5f",
             "gridcolor": "white",
             "linecolor": "white",
             "minorgridcolor": "white",
             "startlinecolor": "#2a3f5f"
            },
            "baxis": {
             "endlinecolor": "#2a3f5f",
             "gridcolor": "white",
             "linecolor": "white",
             "minorgridcolor": "white",
             "startlinecolor": "#2a3f5f"
            },
            "type": "carpet"
           }
          ],
          "choropleth": [
           {
            "colorbar": {
             "outlinewidth": 0,
             "ticks": ""
            },
            "type": "choropleth"
           }
          ],
          "contour": [
           {
            "colorbar": {
             "outlinewidth": 0,
             "ticks": ""
            },
            "colorscale": [
             [
              0,
              "#0d0887"
             ],
             [
              0.1111111111111111,
              "#46039f"
             ],
             [
              0.2222222222222222,
              "#7201a8"
             ],
             [
              0.3333333333333333,
              "#9c179e"
             ],
             [
              0.4444444444444444,
              "#bd3786"
             ],
             [
              0.5555555555555556,
              "#d8576b"
             ],
             [
              0.6666666666666666,
              "#ed7953"
             ],
             [
              0.7777777777777778,
              "#fb9f3a"
             ],
             [
              0.8888888888888888,
              "#fdca26"
             ],
             [
              1,
              "#f0f921"
             ]
            ],
            "type": "contour"
           }
          ],
          "contourcarpet": [
           {
            "colorbar": {
             "outlinewidth": 0,
             "ticks": ""
            },
            "type": "contourcarpet"
           }
          ],
          "heatmap": [
           {
            "colorbar": {
             "outlinewidth": 0,
             "ticks": ""
            },
            "colorscale": [
             [
              0,
              "#0d0887"
             ],
             [
              0.1111111111111111,
              "#46039f"
             ],
             [
              0.2222222222222222,
              "#7201a8"
             ],
             [
              0.3333333333333333,
              "#9c179e"
             ],
             [
              0.4444444444444444,
              "#bd3786"
             ],
             [
              0.5555555555555556,
              "#d8576b"
             ],
             [
              0.6666666666666666,
              "#ed7953"
             ],
             [
              0.7777777777777778,
              "#fb9f3a"
             ],
             [
              0.8888888888888888,
              "#fdca26"
             ],
             [
              1,
              "#f0f921"
             ]
            ],
            "type": "heatmap"
           }
          ],
          "histogram": [
           {
            "marker": {
             "pattern": {
              "fillmode": "overlay",
              "size": 10,
              "solidity": 0.2
             }
            },
            "type": "histogram"
           }
          ],
          "histogram2d": [
           {
            "colorbar": {
             "outlinewidth": 0,
             "ticks": ""
            },
            "colorscale": [
             [
              0,
              "#0d0887"
             ],
             [
              0.1111111111111111,
              "#46039f"
             ],
             [
              0.2222222222222222,
              "#7201a8"
             ],
             [
              0.3333333333333333,
              "#9c179e"
             ],
             [
              0.4444444444444444,
              "#bd3786"
             ],
             [
              0.5555555555555556,
              "#d8576b"
             ],
             [
              0.6666666666666666,
              "#ed7953"
             ],
             [
              0.7777777777777778,
              "#fb9f3a"
             ],
             [
              0.8888888888888888,
              "#fdca26"
             ],
             [
              1,
              "#f0f921"
             ]
            ],
            "type": "histogram2d"
           }
          ],
          "histogram2dcontour": [
           {
            "colorbar": {
             "outlinewidth": 0,
             "ticks": ""
            },
            "colorscale": [
             [
              0,
              "#0d0887"
             ],
             [
              0.1111111111111111,
              "#46039f"
             ],
             [
              0.2222222222222222,
              "#7201a8"
             ],
             [
              0.3333333333333333,
              "#9c179e"
             ],
             [
              0.4444444444444444,
              "#bd3786"
             ],
             [
              0.5555555555555556,
              "#d8576b"
             ],
             [
              0.6666666666666666,
              "#ed7953"
             ],
             [
              0.7777777777777778,
              "#fb9f3a"
             ],
             [
              0.8888888888888888,
              "#fdca26"
             ],
             [
              1,
              "#f0f921"
             ]
            ],
            "type": "histogram2dcontour"
           }
          ],
          "mesh3d": [
           {
            "colorbar": {
             "outlinewidth": 0,
             "ticks": ""
            },
            "type": "mesh3d"
           }
          ],
          "parcoords": [
           {
            "line": {
             "colorbar": {
              "outlinewidth": 0,
              "ticks": ""
             }
            },
            "type": "parcoords"
           }
          ],
          "pie": [
           {
            "automargin": true,
            "type": "pie"
           }
          ],
          "scatter": [
           {
            "fillpattern": {
             "fillmode": "overlay",
             "size": 10,
             "solidity": 0.2
            },
            "type": "scatter"
           }
          ],
          "scatter3d": [
           {
            "line": {
             "colorbar": {
              "outlinewidth": 0,
              "ticks": ""
             }
            },
            "marker": {
             "colorbar": {
              "outlinewidth": 0,
              "ticks": ""
             }
            },
            "type": "scatter3d"
           }
          ],
          "scattercarpet": [
           {
            "marker": {
             "colorbar": {
              "outlinewidth": 0,
              "ticks": ""
             }
            },
            "type": "scattercarpet"
           }
          ],
          "scattergeo": [
           {
            "marker": {
             "colorbar": {
              "outlinewidth": 0,
              "ticks": ""
             }
            },
            "type": "scattergeo"
           }
          ],
          "scattergl": [
           {
            "marker": {
             "colorbar": {
              "outlinewidth": 0,
              "ticks": ""
             }
            },
            "type": "scattergl"
           }
          ],
          "scattermap": [
           {
            "marker": {
             "colorbar": {
              "outlinewidth": 0,
              "ticks": ""
             }
            },
            "type": "scattermap"
           }
          ],
          "scattermapbox": [
           {
            "marker": {
             "colorbar": {
              "outlinewidth": 0,
              "ticks": ""
             }
            },
            "type": "scattermapbox"
           }
          ],
          "scatterpolar": [
           {
            "marker": {
             "colorbar": {
              "outlinewidth": 0,
              "ticks": ""
             }
            },
            "type": "scatterpolar"
           }
          ],
          "scatterpolargl": [
           {
            "marker": {
             "colorbar": {
              "outlinewidth": 0,
              "ticks": ""
             }
            },
            "type": "scatterpolargl"
           }
          ],
          "scatterternary": [
           {
            "marker": {
             "colorbar": {
              "outlinewidth": 0,
              "ticks": ""
             }
            },
            "type": "scatterternary"
           }
          ],
          "surface": [
           {
            "colorbar": {
             "outlinewidth": 0,
             "ticks": ""
            },
            "colorscale": [
             [
              0,
              "#0d0887"
             ],
             [
              0.1111111111111111,
              "#46039f"
             ],
             [
              0.2222222222222222,
              "#7201a8"
             ],
             [
              0.3333333333333333,
              "#9c179e"
             ],
             [
              0.4444444444444444,
              "#bd3786"
             ],
             [
              0.5555555555555556,
              "#d8576b"
             ],
             [
              0.6666666666666666,
              "#ed7953"
             ],
             [
              0.7777777777777778,
              "#fb9f3a"
             ],
             [
              0.8888888888888888,
              "#fdca26"
             ],
             [
              1,
              "#f0f921"
             ]
            ],
            "type": "surface"
           }
          ],
          "table": [
           {
            "cells": {
             "fill": {
              "color": "#EBF0F8"
             },
             "line": {
              "color": "white"
             }
            },
            "header": {
             "fill": {
              "color": "#C8D4E3"
             },
             "line": {
              "color": "white"
             }
            },
            "type": "table"
           }
          ]
         },
         "layout": {
          "annotationdefaults": {
           "arrowcolor": "#2a3f5f",
           "arrowhead": 0,
           "arrowwidth": 1
          },
          "autotypenumbers": "strict",
          "coloraxis": {
           "colorbar": {
            "outlinewidth": 0,
            "ticks": ""
           }
          },
          "colorscale": {
           "diverging": [
            [
             0,
             "#8e0152"
            ],
            [
             0.1,
             "#c51b7d"
            ],
            [
             0.2,
             "#de77ae"
            ],
            [
             0.3,
             "#f1b6da"
            ],
            [
             0.4,
             "#fde0ef"
            ],
            [
             0.5,
             "#f7f7f7"
            ],
            [
             0.6,
             "#e6f5d0"
            ],
            [
             0.7,
             "#b8e186"
            ],
            [
             0.8,
             "#7fbc41"
            ],
            [
             0.9,
             "#4d9221"
            ],
            [
             1,
             "#276419"
            ]
           ],
           "sequential": [
            [
             0,
             "#0d0887"
            ],
            [
             0.1111111111111111,
             "#46039f"
            ],
            [
             0.2222222222222222,
             "#7201a8"
            ],
            [
             0.3333333333333333,
             "#9c179e"
            ],
            [
             0.4444444444444444,
             "#bd3786"
            ],
            [
             0.5555555555555556,
             "#d8576b"
            ],
            [
             0.6666666666666666,
             "#ed7953"
            ],
            [
             0.7777777777777778,
             "#fb9f3a"
            ],
            [
             0.8888888888888888,
             "#fdca26"
            ],
            [
             1,
             "#f0f921"
            ]
           ],
           "sequentialminus": [
            [
             0,
             "#0d0887"
            ],
            [
             0.1111111111111111,
             "#46039f"
            ],
            [
             0.2222222222222222,
             "#7201a8"
            ],
            [
             0.3333333333333333,
             "#9c179e"
            ],
            [
             0.4444444444444444,
             "#bd3786"
            ],
            [
             0.5555555555555556,
             "#d8576b"
            ],
            [
             0.6666666666666666,
             "#ed7953"
            ],
            [
             0.7777777777777778,
             "#fb9f3a"
            ],
            [
             0.8888888888888888,
             "#fdca26"
            ],
            [
             1,
             "#f0f921"
            ]
           ]
          },
          "colorway": [
           "#636efa",
           "#EF553B",
           "#00cc96",
           "#ab63fa",
           "#FFA15A",
           "#19d3f3",
           "#FF6692",
           "#B6E880",
           "#FF97FF",
           "#FECB52"
          ],
          "font": {
           "color": "#2a3f5f"
          },
          "geo": {
           "bgcolor": "white",
           "lakecolor": "white",
           "landcolor": "#E5ECF6",
           "showlakes": true,
           "showland": true,
           "subunitcolor": "white"
          },
          "hoverlabel": {
           "align": "left"
          },
          "hovermode": "closest",
          "mapbox": {
           "style": "light"
          },
          "paper_bgcolor": "white",
          "plot_bgcolor": "#E5ECF6",
          "polar": {
           "angularaxis": {
            "gridcolor": "white",
            "linecolor": "white",
            "ticks": ""
           },
           "bgcolor": "#E5ECF6",
           "radialaxis": {
            "gridcolor": "white",
            "linecolor": "white",
            "ticks": ""
           }
          },
          "scene": {
           "xaxis": {
            "backgroundcolor": "#E5ECF6",
            "gridcolor": "white",
            "gridwidth": 2,
            "linecolor": "white",
            "showbackground": true,
            "ticks": "",
            "zerolinecolor": "white"
           },
           "yaxis": {
            "backgroundcolor": "#E5ECF6",
            "gridcolor": "white",
            "gridwidth": 2,
            "linecolor": "white",
            "showbackground": true,
            "ticks": "",
            "zerolinecolor": "white"
           },
           "zaxis": {
            "backgroundcolor": "#E5ECF6",
            "gridcolor": "white",
            "gridwidth": 2,
            "linecolor": "white",
            "showbackground": true,
            "ticks": "",
            "zerolinecolor": "white"
           }
          },
          "shapedefaults": {
           "line": {
            "color": "#2a3f5f"
           }
          },
          "ternary": {
           "aaxis": {
            "gridcolor": "white",
            "linecolor": "white",
            "ticks": ""
           },
           "baxis": {
            "gridcolor": "white",
            "linecolor": "white",
            "ticks": ""
           },
           "bgcolor": "#E5ECF6",
           "caxis": {
            "gridcolor": "white",
            "linecolor": "white",
            "ticks": ""
           }
          },
          "title": {
           "x": 0.05
          },
          "xaxis": {
           "automargin": true,
           "gridcolor": "white",
           "linecolor": "white",
           "ticks": "",
           "title": {
            "standoff": 15
           },
           "zerolinecolor": "white",
           "zerolinewidth": 2
          },
          "yaxis": {
           "automargin": true,
           "gridcolor": "white",
           "linecolor": "white",
           "ticks": "",
           "title": {
            "standoff": 15
           },
           "zerolinecolor": "white",
           "zerolinewidth": 2
          }
         }
        },
        "title": {
         "text": "Hyperparameter Importances"
        },
        "xaxis": {
         "title": {
          "text": "Hyperparameter Importance"
         }
        },
        "yaxis": {
         "title": {
          "text": "Hyperparameter"
         }
        }
       }
      },
      "image/png": "[encoded data removed]"
     },
     "metadata": {},
     "output_type": "display_data"
    }
   ],
   "source": [
    "fig = plot_param_importances(study)\n",
    "fig.show()"
   ]
  },
  {
   "cell_type": "code",
   "execution_count": 6,
   "id": "699c362b-18d1-4b5e-b215-a6bac5513240",
   "metadata": {},
   "outputs": [
    {
     "data": {
      "application/vnd.plotly.v1+json": {
       "config": {
        "plotlyServerURL": "https://plot.ly"
       },
       "data": [
        {
         "colorbar": {
          "title": {
           "text": "Objective Value"
          }
         },
         "colorscale": [
          [
           0,
           "rgb(247,251,255)"
          ],
          [
           0.125,
           "rgb(222,235,247)"
          ],
          [
           0.25,
           "rgb(198,219,239)"
          ],
          [
           0.375,
           "rgb(158,202,225)"
          ],
          [
           0.5,
           "rgb(107,174,214)"
          ],
          [
           0.625,
           "rgb(66,146,198)"
          ],
          [
           0.75,
           "rgb(33,113,181)"
          ],
          [
           0.875,
           "rgb(8,81,156)"
          ],
          [
           1,
           "rgb(8,48,107)"
          ]
         ],
         "connectgaps": true,
         "contours": {
          "coloring": "heatmap"
         },
         "hoverinfo": "none",
         "line": {
          "smoothing": 1.3
         },
         "reversescale": true,
         "type": "contour",
         "x": [
          5.5e-05,
          0.0001,
          0.00033,
          0.001,
          0.001045
         ],
         "y": [
          "SGD",
          "adam",
          "adamw"
         ],
         "z": {
          "bdata": "AAAAAAAA+H8AAABghFbEPwAAAOBqUcE/AAAAAKY6vz8AAAAAAAD4fwAAAAAAAPh/AAAAQDzMuz8AAAAAV/m6PwAAAGA+NLo/AAAAAAAA+H8AAAAAAAD4fwAAAAAtN7s/AAAAAGKKuj8AAABAmS26PwAAAAAAAPh/",
          "dtype": "f8",
          "shape": "3, 5"
         }
        },
        {
         "marker": {
          "color": "black",
          "line": {
           "color": "Gray",
           "width": 2
          }
         },
         "mode": "markers",
         "name": "Feasible Trial",
         "showlegend": false,
         "type": "scatter",
         "x": [
          0.00033,
          0.00033,
          0.00033,
          0.001,
          0.0001,
          0.001,
          0.001,
          0.0001,
          0.00033,
          0.00033,
          0.001,
          0.001,
          0.0001,
          0.0001,
          0.00033,
          0.001,
          0.00033,
          0.00033,
          0.00033,
          0.00033,
          0.001,
          0.00033,
          0.00033,
          0.001,
          0.001,
          0.001,
          0.001,
          0.001,
          0.00033,
          0.0001,
          0.0001,
          0.001,
          0.001,
          0.0001,
          0.001,
          0.001
         ],
         "y": [
          "adam",
          "SGD",
          "SGD",
          "adamw",
          "SGD",
          "adamw",
          "SGD",
          "SGD",
          "adamw",
          "adamw",
          "adam",
          "adamw",
          "adamw",
          "adamw",
          "adamw",
          "adamw",
          "adamw",
          "SGD",
          "adamw",
          "adam",
          "adamw",
          "adam",
          "adamw",
          "adam",
          "adam",
          "SGD",
          "adam",
          "SGD",
          "adam",
          "adam",
          "adam",
          "adam",
          "adam",
          "adam",
          "adam",
          "adamw"
         ]
        },
        {
         "marker": {
          "color": "#cccccc",
          "line": {
           "color": "Gray",
           "width": 2
          }
         },
         "mode": "markers",
         "name": "Infeasible Trial",
         "showlegend": false,
         "type": "scatter",
         "x": [],
         "y": []
        }
       ],
       "layout": {
        "template": {
         "data": {
          "bar": [
           {
            "error_x": {
             "color": "#2a3f5f"
            },
            "error_y": {
             "color": "#2a3f5f"
            },
            "marker": {
             "line": {
              "color": "#E5ECF6",
              "width": 0.5
             },
             "pattern": {
              "fillmode": "overlay",
              "size": 10,
              "solidity": 0.2
             }
            },
            "type": "bar"
           }
          ],
          "barpolar": [
           {
            "marker": {
             "line": {
              "color": "#E5ECF6",
              "width": 0.5
             },
             "pattern": {
              "fillmode": "overlay",
              "size": 10,
              "solidity": 0.2
             }
            },
            "type": "barpolar"
           }
          ],
          "carpet": [
           {
            "aaxis": {
             "endlinecolor": "#2a3f5f",
             "gridcolor": "white",
             "linecolor": "white",
             "minorgridcolor": "white",
             "startlinecolor": "#2a3f5f"
            },
            "baxis": {
             "endlinecolor": "#2a3f5f",
             "gridcolor": "white",
             "linecolor": "white",
             "minorgridcolor": "white",
             "startlinecolor": "#2a3f5f"
            },
            "type": "carpet"
           }
          ],
          "choropleth": [
           {
            "colorbar": {
             "outlinewidth": 0,
             "ticks": ""
            },
            "type": "choropleth"
           }
          ],
          "contour": [
           {
            "colorbar": {
             "outlinewidth": 0,
             "ticks": ""
            },
            "colorscale": [
             [
              0,
              "#0d0887"
             ],
             [
              0.1111111111111111,
              "#46039f"
             ],
             [
              0.2222222222222222,
              "#7201a8"
             ],
             [
              0.3333333333333333,
              "#9c179e"
             ],
             [
              0.4444444444444444,
              "#bd3786"
             ],
             [
              0.5555555555555556,
              "#d8576b"
             ],
             [
              0.6666666666666666,
              "#ed7953"
             ],
             [
              0.7777777777777778,
              "#fb9f3a"
             ],
             [
              0.8888888888888888,
              "#fdca26"
             ],
             [
              1,
              "#f0f921"
             ]
            ],
            "type": "contour"
           }
          ],
          "contourcarpet": [
           {
            "colorbar": {
             "outlinewidth": 0,
             "ticks": ""
            },
            "type": "contourcarpet"
           }
          ],
          "heatmap": [
           {
            "colorbar": {
             "outlinewidth": 0,
             "ticks": ""
            },
            "colorscale": [
             [
              0,
              "#0d0887"
             ],
             [
              0.1111111111111111,
              "#46039f"
             ],
             [
              0.2222222222222222,
              "#7201a8"
             ],
             [
              0.3333333333333333,
              "#9c179e"
             ],
             [
              0.4444444444444444,
              "#bd3786"
             ],
             [
              0.5555555555555556,
              "#d8576b"
             ],
             [
              0.6666666666666666,
              "#ed7953"
             ],
             [
              0.7777777777777778,
              "#fb9f3a"
             ],
             [
              0.8888888888888888,
              "#fdca26"
             ],
             [
              1,
              "#f0f921"
             ]
            ],
            "type": "heatmap"
           }
          ],
          "histogram": [
           {
            "marker": {
             "pattern": {
              "fillmode": "overlay",
              "size": 10,
              "solidity": 0.2
             }
            },
            "type": "histogram"
           }
          ],
          "histogram2d": [
           {
            "colorbar": {
             "outlinewidth": 0,
             "ticks": ""
            },
            "colorscale": [
             [
              0,
              "#0d0887"
             ],
             [
              0.1111111111111111,
              "#46039f"
             ],
             [
              0.2222222222222222,
              "#7201a8"
             ],
             [
              0.3333333333333333,
              "#9c179e"
             ],
             [
              0.4444444444444444,
              "#bd3786"
             ],
             [
              0.5555555555555556,
              "#d8576b"
             ],
             [
              0.6666666666666666,
              "#ed7953"
             ],
             [
              0.7777777777777778,
              "#fb9f3a"
             ],
             [
              0.8888888888888888,
              "#fdca26"
             ],
             [
              1,
              "#f0f921"
             ]
            ],
            "type": "histogram2d"
           }
          ],
          "histogram2dcontour": [
           {
            "colorbar": {
             "outlinewidth": 0,
             "ticks": ""
            },
            "colorscale": [
             [
              0,
              "#0d0887"
             ],
             [
              0.1111111111111111,
              "#46039f"
             ],
             [
              0.2222222222222222,
              "#7201a8"
             ],
             [
              0.3333333333333333,
              "#9c179e"
             ],
             [
              0.4444444444444444,
              "#bd3786"
             ],
             [
              0.5555555555555556,
              "#d8576b"
             ],
             [
              0.6666666666666666,
              "#ed7953"
             ],
             [
              0.7777777777777778,
              "#fb9f3a"
             ],
             [
              0.8888888888888888,
              "#fdca26"
             ],
             [
              1,
              "#f0f921"
             ]
            ],
            "type": "histogram2dcontour"
           }
          ],
          "mesh3d": [
           {
            "colorbar": {
             "outlinewidth": 0,
             "ticks": ""
            },
            "type": "mesh3d"
           }
          ],
          "parcoords": [
           {
            "line": {
             "colorbar": {
              "outlinewidth": 0,
              "ticks": ""
             }
            },
            "type": "parcoords"
           }
          ],
          "pie": [
           {
            "automargin": true,
            "type": "pie"
           }
          ],
          "scatter": [
           {
            "fillpattern": {
             "fillmode": "overlay",
             "size": 10,
             "solidity": 0.2
            },
            "type": "scatter"
           }
          ],
          "scatter3d": [
           {
            "line": {
             "colorbar": {
              "outlinewidth": 0,
              "ticks": ""
             }
            },
            "marker": {
             "colorbar": {
              "outlinewidth": 0,
              "ticks": ""
             }
            },
            "type": "scatter3d"
           }
          ],
          "scattercarpet": [
           {
            "marker": {
             "colorbar": {
              "outlinewidth": 0,
              "ticks": ""
             }
            },
            "type": "scattercarpet"
           }
          ],
          "scattergeo": [
           {
            "marker": {
             "colorbar": {
              "outlinewidth": 0,
              "ticks": ""
             }
            },
            "type": "scattergeo"
           }
          ],
          "scattergl": [
           {
            "marker": {
             "colorbar": {
              "outlinewidth": 0,
              "ticks": ""
             }
            },
            "type": "scattergl"
           }
          ],
          "scattermap": [
           {
            "marker": {
             "colorbar": {
              "outlinewidth": 0,
              "ticks": ""
             }
            },
            "type": "scattermap"
           }
          ],
          "scattermapbox": [
           {
            "marker": {
             "colorbar": {
              "outlinewidth": 0,
              "ticks": ""
             }
            },
            "type": "scattermapbox"
           }
          ],
          "scatterpolar": [
           {
            "marker": {
             "colorbar": {
              "outlinewidth": 0,
              "ticks": ""
             }
            },
            "type": "scatterpolar"
           }
          ],
          "scatterpolargl": [
           {
            "marker": {
             "colorbar": {
              "outlinewidth": 0,
              "ticks": ""
             }
            },
            "type": "scatterpolargl"
           }
          ],
          "scatterternary": [
           {
            "marker": {
             "colorbar": {
              "outlinewidth": 0,
              "ticks": ""
             }
            },
            "type": "scatterternary"
           }
          ],
          "surface": [
           {
            "colorbar": {
             "outlinewidth": 0,
             "ticks": ""
            },
            "colorscale": [
             [
              0,
              "#0d0887"
             ],
             [
              0.1111111111111111,
              "#46039f"
             ],
             [
              0.2222222222222222,
              "#7201a8"
             ],
             [
              0.3333333333333333,
              "#9c179e"
             ],
             [
              0.4444444444444444,
              "#bd3786"
             ],
             [
              0.5555555555555556,
              "#d8576b"
             ],
             [
              0.6666666666666666,
              "#ed7953"
             ],
             [
              0.7777777777777778,
              "#fb9f3a"
             ],
             [
              0.8888888888888888,
              "#fdca26"
             ],
             [
              1,
              "#f0f921"
             ]
            ],
            "type": "surface"
           }
          ],
          "table": [
           {
            "cells": {
             "fill": {
              "color": "#EBF0F8"
             },
             "line": {
              "color": "white"
             }
            },
            "header": {
             "fill": {
              "color": "#C8D4E3"
             },
             "line": {
              "color": "white"
             }
            },
            "type": "table"
           }
          ]
         },
         "layout": {
          "annotationdefaults": {
           "arrowcolor": "#2a3f5f",
           "arrowhead": 0,
           "arrowwidth": 1
          },
          "autotypenumbers": "strict",
          "coloraxis": {
           "colorbar": {
            "outlinewidth": 0,
            "ticks": ""
           }
          },
          "colorscale": {
           "diverging": [
            [
             0,
             "#8e0152"
            ],
            [
             0.1,
             "#c51b7d"
            ],
            [
             0.2,
             "#de77ae"
            ],
            [
             0.3,
             "#f1b6da"
            ],
            [
             0.4,
             "#fde0ef"
            ],
            [
             0.5,
             "#f7f7f7"
            ],
            [
             0.6,
             "#e6f5d0"
            ],
            [
             0.7,
             "#b8e186"
            ],
            [
             0.8,
             "#7fbc41"
            ],
            [
             0.9,
             "#4d9221"
            ],
            [
             1,
             "#276419"
            ]
           ],
           "sequential": [
            [
             0,
             "#0d0887"
            ],
            [
             0.1111111111111111,
             "#46039f"
            ],
            [
             0.2222222222222222,
             "#7201a8"
            ],
            [
             0.3333333333333333,
             "#9c179e"
            ],
            [
             0.4444444444444444,
             "#bd3786"
            ],
            [
             0.5555555555555556,
             "#d8576b"
            ],
            [
             0.6666666666666666,
             "#ed7953"
            ],
            [
             0.7777777777777778,
             "#fb9f3a"
            ],
            [
             0.8888888888888888,
             "#fdca26"
            ],
            [
             1,
             "#f0f921"
            ]
           ],
           "sequentialminus": [
            [
             0,
             "#0d0887"
            ],
            [
             0.1111111111111111,
             "#46039f"
            ],
            [
             0.2222222222222222,
             "#7201a8"
            ],
            [
             0.3333333333333333,
             "#9c179e"
            ],
            [
             0.4444444444444444,
             "#bd3786"
            ],
            [
             0.5555555555555556,
             "#d8576b"
            ],
            [
             0.6666666666666666,
             "#ed7953"
            ],
            [
             0.7777777777777778,
             "#fb9f3a"
            ],
            [
             0.8888888888888888,
             "#fdca26"
            ],
            [
             1,
             "#f0f921"
            ]
           ]
          },
          "colorway": [
           "#636efa",
           "#EF553B",
           "#00cc96",
           "#ab63fa",
           "#FFA15A",
           "#19d3f3",
           "#FF6692",
           "#B6E880",
           "#FF97FF",
           "#FECB52"
          ],
          "font": {
           "color": "#2a3f5f"
          },
          "geo": {
           "bgcolor": "white",
           "lakecolor": "white",
           "landcolor": "#E5ECF6",
           "showlakes": true,
           "showland": true,
           "subunitcolor": "white"
          },
          "hoverlabel": {
           "align": "left"
          },
          "hovermode": "closest",
          "mapbox": {
           "style": "light"
          },
          "paper_bgcolor": "white",
          "plot_bgcolor": "#E5ECF6",
          "polar": {
           "angularaxis": {
            "gridcolor": "white",
            "linecolor": "white",
            "ticks": ""
           },
           "bgcolor": "#E5ECF6",
           "radialaxis": {
            "gridcolor": "white",
            "linecolor": "white",
            "ticks": ""
           }
          },
          "scene": {
           "xaxis": {
            "backgroundcolor": "#E5ECF6",
            "gridcolor": "white",
            "gridwidth": 2,
            "linecolor": "white",
            "showbackground": true,
            "ticks": "",
            "zerolinecolor": "white"
           },
           "yaxis": {
            "backgroundcolor": "#E5ECF6",
            "gridcolor": "white",
            "gridwidth": 2,
            "linecolor": "white",
            "showbackground": true,
            "ticks": "",
            "zerolinecolor": "white"
           },
           "zaxis": {
            "backgroundcolor": "#E5ECF6",
            "gridcolor": "white",
            "gridwidth": 2,
            "linecolor": "white",
            "showbackground": true,
            "ticks": "",
            "zerolinecolor": "white"
           }
          },
          "shapedefaults": {
           "line": {
            "color": "#2a3f5f"
           }
          },
          "ternary": {
           "aaxis": {
            "gridcolor": "white",
            "linecolor": "white",
            "ticks": ""
           },
           "baxis": {
            "gridcolor": "white",
            "linecolor": "white",
            "ticks": ""
           },
           "bgcolor": "#E5ECF6",
           "caxis": {
            "gridcolor": "white",
            "linecolor": "white",
            "ticks": ""
           }
          },
          "title": {
           "x": 0.05
          },
          "xaxis": {
           "automargin": true,
           "gridcolor": "white",
           "linecolor": "white",
           "ticks": "",
           "title": {
            "standoff": 15
           },
           "zerolinecolor": "white",
           "zerolinewidth": 2
          },
          "yaxis": {
           "automargin": true,
           "gridcolor": "white",
           "linecolor": "white",
           "ticks": "",
           "title": {
            "standoff": 15
           },
           "zerolinecolor": "white",
           "zerolinewidth": 2
          }
         }
        },
        "title": {
         "text": "Contour Plot"
        },
        "xaxis": {
         "range": [
          5.5e-05,
          0.001045
         ],
         "title": {
          "text": "lr"
         }
        },
        "yaxis": {
         "range": [
          -0.1,
          2.1
         ],
         "title": {
          "text": "optim"
         },
         "type": "category"
        }
       }
      },
      "image/png": "[encoded data removed]"
     },
     "metadata": {},
     "output_type": "display_data"
    }
   ],
   "source": [
    "fig = plot_contour(study, params=['optim', 'lr'])\n",
    "fig.show()"
   ]
  },
  {
   "cell_type": "code",
   "execution_count": 7,
   "id": "cdafc995-b12f-4f3c-ae44-0519939fd187",
   "metadata": {},
   "outputs": [
    {
     "data": {
      "application/vnd.plotly.v1+json": {
       "config": {
        "plotlyServerURL": "https://plot.ly"
       },
       "data": [
        {
         "marker": {
          "color": [
           0,
           1,
           2,
           3,
           4,
           5,
           6,
           7,
           8,
           9,
           10,
           11,
           12,
           13,
           14,
           15,
           16,
           17,
           18,
           19,
           20,
           21,
           22,
           23,
           24,
           25,
           26,
           27,
           28,
           29,
           30,
           31,
           32,
           33,
           34,
           35
          ],
          "colorbar": {
           "title": {
            "text": "Trial"
           },
           "x": 1,
           "xpad": 40
          },
          "colorscale": [
           [
            0,
            "rgb(247,251,255)"
           ],
           [
            0.125,
            "rgb(222,235,247)"
           ],
           [
            0.25,
            "rgb(198,219,239)"
           ],
           [
            0.375,
            "rgb(158,202,225)"
           ],
           [
            0.5,
            "rgb(107,174,214)"
           ],
           [
            0.625,
            "rgb(66,146,198)"
           ],
           [
            0.75,
            "rgb(33,113,181)"
           ],
           [
            0.875,
            "rgb(8,81,156)"
           ],
           [
            1,
            "rgb(8,48,107)"
           ]
          ],
          "line": {
           "color": "Grey",
           "width": 0.5
          },
          "showscale": true
         },
         "mode": "markers",
         "name": "Feasible Trial",
         "showlegend": false,
         "type": "scatter",
         "x": [
          0.00033,
          0.00033,
          0.00033,
          0.001,
          0.0001,
          0.001,
          0.001,
          0.0001,
          0.00033,
          0.00033,
          0.001,
          0.001,
          0.0001,
          0.0001,
          0.00033,
          0.001,
          0.00033,
          0.00033,
          0.00033,
          0.00033,
          0.001,
          0.00033,
          0.00033,
          0.001,
          0.001,
          0.001,
          0.001,
          0.001,
          0.00033,
          0.0001,
          0.0001,
          0.001,
          0.001,
          0.0001,
          0.001,
          0.001
         ],
         "xaxis": "x",
         "y": [
          0.10849607735872269,
          0.14147961139678955,
          0.14841584861278534,
          0.10225827991962433,
          0.15889029204845428,
          0.10981424152851105,
          0.12198865413665771,
          0.174366295337677,
          0.10367405414581299,
          0.1056150421500206,
          0.10922171920537949,
          0.11171307414770126,
          0.10631066560745239,
          0.11012180149555206,
          0.11006674915552139,
          0.10705174505710602,
          0.10657066106796265,
          0.13529716432094574,
          0.11190564185380936,
          0.10544633865356445,
          0.10710615664720535,
          0.10597499459981918,
          0.10582134872674942,
          0.10235967487096786,
          0.1065652072429657,
          0.13272850215435028,
          0.10662908852100372,
          0.12727271020412445,
          0.10536712408065796,
          0.10999231785535812,
          0.11141107231378555,
          0.10816462337970734,
          0.11024318635463715,
          0.10858513414859772,
          0.11073146015405655,
          0.10251719504594803
         ],
         "yaxis": "y"
        },
        {
         "marker": {
          "color": [
           0,
           1,
           2,
           3,
           4,
           5,
           6,
           7,
           8,
           9,
           10,
           11,
           12,
           13,
           14,
           15,
           16,
           17,
           18,
           19,
           20,
           21,
           22,
           23,
           24,
           25,
           26,
           27,
           28,
           29,
           30,
           31,
           32,
           33,
           34,
           35
          ],
          "colorbar": {
           "title": {
            "text": "Trial"
           },
           "x": 1,
           "xpad": 40
          },
          "colorscale": [
           [
            0,
            "rgb(247,251,255)"
           ],
           [
            0.125,
            "rgb(222,235,247)"
           ],
           [
            0.25,
            "rgb(198,219,239)"
           ],
           [
            0.375,
            "rgb(158,202,225)"
           ],
           [
            0.5,
            "rgb(107,174,214)"
           ],
           [
            0.625,
            "rgb(66,146,198)"
           ],
           [
            0.75,
            "rgb(33,113,181)"
           ],
           [
            0.875,
            "rgb(8,81,156)"
           ],
           [
            1,
            "rgb(8,48,107)"
           ]
          ],
          "line": {
           "color": "Grey",
           "width": 0.5
          },
          "showscale": false
         },
         "mode": "markers",
         "name": "Feasible Trial",
         "showlegend": false,
         "type": "scatter",
         "x": [
          "adam",
          "SGD",
          "SGD",
          "adamw",
          "SGD",
          "adamw",
          "SGD",
          "SGD",
          "adamw",
          "adamw",
          "adam",
          "adamw",
          "adamw",
          "adamw",
          "adamw",
          "adamw",
          "adamw",
          "SGD",
          "adamw",
          "adam",
          "adamw",
          "adam",
          "adamw",
          "adam",
          "adam",
          "SGD",
          "adam",
          "SGD",
          "adam",
          "adam",
          "adam",
          "adam",
          "adam",
          "adam",
          "adam",
          "adamw"
         ],
         "xaxis": "x2",
         "y": [
          0.10849607735872269,
          0.14147961139678955,
          0.14841584861278534,
          0.10225827991962433,
          0.15889029204845428,
          0.10981424152851105,
          0.12198865413665771,
          0.174366295337677,
          0.10367405414581299,
          0.1056150421500206,
          0.10922171920537949,
          0.11171307414770126,
          0.10631066560745239,
          0.11012180149555206,
          0.11006674915552139,
          0.10705174505710602,
          0.10657066106796265,
          0.13529716432094574,
          0.11190564185380936,
          0.10544633865356445,
          0.10710615664720535,
          0.10597499459981918,
          0.10582134872674942,
          0.10235967487096786,
          0.1065652072429657,
          0.13272850215435028,
          0.10662908852100372,
          0.12727271020412445,
          0.10536712408065796,
          0.10999231785535812,
          0.11141107231378555,
          0.10816462337970734,
          0.11024318635463715,
          0.10858513414859772,
          0.11073146015405655,
          0.10251719504594803
         ],
         "yaxis": "y2"
        }
       ],
       "layout": {
        "height": 400,
        "template": {
         "data": {
          "bar": [
           {
            "error_x": {
             "color": "#2a3f5f"
            },
            "error_y": {
             "color": "#2a3f5f"
            },
            "marker": {
             "line": {
              "color": "#E5ECF6",
              "width": 0.5
             },
             "pattern": {
              "fillmode": "overlay",
              "size": 10,
              "solidity": 0.2
             }
            },
            "type": "bar"
           }
          ],
          "barpolar": [
           {
            "marker": {
             "line": {
              "color": "#E5ECF6",
              "width": 0.5
             },
             "pattern": {
              "fillmode": "overlay",
              "size": 10,
              "solidity": 0.2
             }
            },
            "type": "barpolar"
           }
          ],
          "carpet": [
           {
            "aaxis": {
             "endlinecolor": "#2a3f5f",
             "gridcolor": "white",
             "linecolor": "white",
             "minorgridcolor": "white",
             "startlinecolor": "#2a3f5f"
            },
            "baxis": {
             "endlinecolor": "#2a3f5f",
             "gridcolor": "white",
             "linecolor": "white",
             "minorgridcolor": "white",
             "startlinecolor": "#2a3f5f"
            },
            "type": "carpet"
           }
          ],
          "choropleth": [
           {
            "colorbar": {
             "outlinewidth": 0,
             "ticks": ""
            },
            "type": "choropleth"
           }
          ],
          "contour": [
           {
            "colorbar": {
             "outlinewidth": 0,
             "ticks": ""
            },
            "colorscale": [
             [
              0,
              "#0d0887"
             ],
             [
              0.1111111111111111,
              "#46039f"
             ],
             [
              0.2222222222222222,
              "#7201a8"
             ],
             [
              0.3333333333333333,
              "#9c179e"
             ],
             [
              0.4444444444444444,
              "#bd3786"
             ],
             [
              0.5555555555555556,
              "#d8576b"
             ],
             [
              0.6666666666666666,
              "#ed7953"
             ],
             [
              0.7777777777777778,
              "#fb9f3a"
             ],
             [
              0.8888888888888888,
              "#fdca26"
             ],
             [
              1,
              "#f0f921"
             ]
            ],
            "type": "contour"
           }
          ],
          "contourcarpet": [
           {
            "colorbar": {
             "outlinewidth": 0,
             "ticks": ""
            },
            "type": "contourcarpet"
           }
          ],
          "heatmap": [
           {
            "colorbar": {
             "outlinewidth": 0,
             "ticks": ""
            },
            "colorscale": [
             [
              0,
              "#0d0887"
             ],
             [
              0.1111111111111111,
              "#46039f"
             ],
             [
              0.2222222222222222,
              "#7201a8"
             ],
             [
              0.3333333333333333,
              "#9c179e"
             ],
             [
              0.4444444444444444,
              "#bd3786"
             ],
             [
              0.5555555555555556,
              "#d8576b"
             ],
             [
              0.6666666666666666,
              "#ed7953"
             ],
             [
              0.7777777777777778,
              "#fb9f3a"
             ],
             [
              0.8888888888888888,
              "#fdca26"
             ],
             [
              1,
              "#f0f921"
             ]
            ],
            "type": "heatmap"
           }
          ],
          "histogram": [
           {
            "marker": {
             "pattern": {
              "fillmode": "overlay",
              "size": 10,
              "solidity": 0.2
             }
            },
            "type": "histogram"
           }
          ],
          "histogram2d": [
           {
            "colorbar": {
             "outlinewidth": 0,
             "ticks": ""
            },
            "colorscale": [
             [
              0,
              "#0d0887"
             ],
             [
              0.1111111111111111,
              "#46039f"
             ],
             [
              0.2222222222222222,
              "#7201a8"
             ],
             [
              0.3333333333333333,
              "#9c179e"
             ],
             [
              0.4444444444444444,
              "#bd3786"
             ],
             [
              0.5555555555555556,
              "#d8576b"
             ],
             [
              0.6666666666666666,
              "#ed7953"
             ],
             [
              0.7777777777777778,
              "#fb9f3a"
             ],
             [
              0.8888888888888888,
              "#fdca26"
             ],
             [
              1,
              "#f0f921"
             ]
            ],
            "type": "histogram2d"
           }
          ],
          "histogram2dcontour": [
           {
            "colorbar": {
             "outlinewidth": 0,
             "ticks": ""
            },
            "colorscale": [
             [
              0,
              "#0d0887"
             ],
             [
              0.1111111111111111,
              "#46039f"
             ],
             [
              0.2222222222222222,
              "#7201a8"
             ],
             [
              0.3333333333333333,
              "#9c179e"
             ],
             [
              0.4444444444444444,
              "#bd3786"
             ],
             [
              0.5555555555555556,
              "#d8576b"
             ],
             [
              0.6666666666666666,
              "#ed7953"
             ],
             [
              0.7777777777777778,
              "#fb9f3a"
             ],
             [
              0.8888888888888888,
              "#fdca26"
             ],
             [
              1,
              "#f0f921"
             ]
            ],
            "type": "histogram2dcontour"
           }
          ],
          "mesh3d": [
           {
            "colorbar": {
             "outlinewidth": 0,
             "ticks": ""
            },
            "type": "mesh3d"
           }
          ],
          "parcoords": [
           {
            "line": {
             "colorbar": {
              "outlinewidth": 0,
              "ticks": ""
             }
            },
            "type": "parcoords"
           }
          ],
          "pie": [
           {
            "automargin": true,
            "type": "pie"
           }
          ],
          "scatter": [
           {
            "fillpattern": {
             "fillmode": "overlay",
             "size": 10,
             "solidity": 0.2
            },
            "type": "scatter"
           }
          ],
          "scatter3d": [
           {
            "line": {
             "colorbar": {
              "outlinewidth": 0,
              "ticks": ""
             }
            },
            "marker": {
             "colorbar": {
              "outlinewidth": 0,
              "ticks": ""
             }
            },
            "type": "scatter3d"
           }
          ],
          "scattercarpet": [
           {
            "marker": {
             "colorbar": {
              "outlinewidth": 0,
              "ticks": ""
             }
            },
            "type": "scattercarpet"
           }
          ],
          "scattergeo": [
           {
            "marker": {
             "colorbar": {
              "outlinewidth": 0,
              "ticks": ""
             }
            },
            "type": "scattergeo"
           }
          ],
          "scattergl": [
           {
            "marker": {
             "colorbar": {
              "outlinewidth": 0,
              "ticks": ""
             }
            },
            "type": "scattergl"
           }
          ],
          "scattermap": [
           {
            "marker": {
             "colorbar": {
              "outlinewidth": 0,
              "ticks": ""
             }
            },
            "type": "scattermap"
           }
          ],
          "scattermapbox": [
           {
            "marker": {
             "colorbar": {
              "outlinewidth": 0,
              "ticks": ""
             }
            },
            "type": "scattermapbox"
           }
          ],
          "scatterpolar": [
           {
            "marker": {
             "colorbar": {
              "outlinewidth": 0,
              "ticks": ""
             }
            },
            "type": "scatterpolar"
           }
          ],
          "scatterpolargl": [
           {
            "marker": {
             "colorbar": {
              "outlinewidth": 0,
              "ticks": ""
             }
            },
            "type": "scatterpolargl"
           }
          ],
          "scatterternary": [
           {
            "marker": {
             "colorbar": {
              "outlinewidth": 0,
              "ticks": ""
             }
            },
            "type": "scatterternary"
           }
          ],
          "surface": [
           {
            "colorbar": {
             "outlinewidth": 0,
             "ticks": ""
            },
            "colorscale": [
             [
              0,
              "#0d0887"
             ],
             [
              0.1111111111111111,
              "#46039f"
             ],
             [
              0.2222222222222222,
              "#7201a8"
             ],
             [
              0.3333333333333333,
              "#9c179e"
             ],
             [
              0.4444444444444444,
              "#bd3786"
             ],
             [
              0.5555555555555556,
              "#d8576b"
             ],
             [
              0.6666666666666666,
              "#ed7953"
             ],
             [
              0.7777777777777778,
              "#fb9f3a"
             ],
             [
              0.8888888888888888,
              "#fdca26"
             ],
             [
              1,
              "#f0f921"
             ]
            ],
            "type": "surface"
           }
          ],
          "table": [
           {
            "cells": {
             "fill": {
              "color": "#EBF0F8"
             },
             "line": {
              "color": "white"
             }
            },
            "header": {
             "fill": {
              "color": "#C8D4E3"
             },
             "line": {
              "color": "white"
             }
            },
            "type": "table"
           }
          ]
         },
         "layout": {
          "annotationdefaults": {
           "arrowcolor": "#2a3f5f",
           "arrowhead": 0,
           "arrowwidth": 1
          },
          "autotypenumbers": "strict",
          "coloraxis": {
           "colorbar": {
            "outlinewidth": 0,
            "ticks": ""
           }
          },
          "colorscale": {
           "diverging": [
            [
             0,
             "#8e0152"
            ],
            [
             0.1,
             "#c51b7d"
            ],
            [
             0.2,
             "#de77ae"
            ],
            [
             0.3,
             "#f1b6da"
            ],
            [
             0.4,
             "#fde0ef"
            ],
            [
             0.5,
             "#f7f7f7"
            ],
            [
             0.6,
             "#e6f5d0"
            ],
            [
             0.7,
             "#b8e186"
            ],
            [
             0.8,
             "#7fbc41"
            ],
            [
             0.9,
             "#4d9221"
            ],
            [
             1,
             "#276419"
            ]
           ],
           "sequential": [
            [
             0,
             "#0d0887"
            ],
            [
             0.1111111111111111,
             "#46039f"
            ],
            [
             0.2222222222222222,
             "#7201a8"
            ],
            [
             0.3333333333333333,
             "#9c179e"
            ],
            [
             0.4444444444444444,
             "#bd3786"
            ],
            [
             0.5555555555555556,
             "#d8576b"
            ],
            [
             0.6666666666666666,
             "#ed7953"
            ],
            [
             0.7777777777777778,
             "#fb9f3a"
            ],
            [
             0.8888888888888888,
             "#fdca26"
            ],
            [
             1,
             "#f0f921"
            ]
           ],
           "sequentialminus": [
            [
             0,
             "#0d0887"
            ],
            [
             0.1111111111111111,
             "#46039f"
            ],
            [
             0.2222222222222222,
             "#7201a8"
            ],
            [
             0.3333333333333333,
             "#9c179e"
            ],
            [
             0.4444444444444444,
             "#bd3786"
            ],
            [
             0.5555555555555556,
             "#d8576b"
            ],
            [
             0.6666666666666666,
             "#ed7953"
            ],
            [
             0.7777777777777778,
             "#fb9f3a"
            ],
            [
             0.8888888888888888,
             "#fdca26"
            ],
            [
             1,
             "#f0f921"
            ]
           ]
          },
          "colorway": [
           "#636efa",
           "#EF553B",
           "#00cc96",
           "#ab63fa",
           "#FFA15A",
           "#19d3f3",
           "#FF6692",
           "#B6E880",
           "#FF97FF",
           "#FECB52"
          ],
          "font": {
           "color": "#2a3f5f"
          },
          "geo": {
           "bgcolor": "white",
           "lakecolor": "white",
           "landcolor": "#E5ECF6",
           "showlakes": true,
           "showland": true,
           "subunitcolor": "white"
          },
          "hoverlabel": {
           "align": "left"
          },
          "hovermode": "closest",
          "mapbox": {
           "style": "light"
          },
          "paper_bgcolor": "white",
          "plot_bgcolor": "#E5ECF6",
          "polar": {
           "angularaxis": {
            "gridcolor": "white",
            "linecolor": "white",
            "ticks": ""
           },
           "bgcolor": "#E5ECF6",
           "radialaxis": {
            "gridcolor": "white",
            "linecolor": "white",
            "ticks": ""
           }
          },
          "scene": {
           "xaxis": {
            "backgroundcolor": "#E5ECF6",
            "gridcolor": "white",
            "gridwidth": 2,
            "linecolor": "white",
            "showbackground": true,
            "ticks": "",
            "zerolinecolor": "white"
           },
           "yaxis": {
            "backgroundcolor": "#E5ECF6",
            "gridcolor": "white",
            "gridwidth": 2,
            "linecolor": "white",
            "showbackground": true,
            "ticks": "",
            "zerolinecolor": "white"
           },
           "zaxis": {
            "backgroundcolor": "#E5ECF6",
            "gridcolor": "white",
            "gridwidth": 2,
            "linecolor": "white",
            "showbackground": true,
            "ticks": "",
            "zerolinecolor": "white"
           }
          },
          "shapedefaults": {
           "line": {
            "color": "#2a3f5f"
           }
          },
          "ternary": {
           "aaxis": {
            "gridcolor": "white",
            "linecolor": "white",
            "ticks": ""
           },
           "baxis": {
            "gridcolor": "white",
            "linecolor": "white",
            "ticks": ""
           },
           "bgcolor": "#E5ECF6",
           "caxis": {
            "gridcolor": "white",
            "linecolor": "white",
            "ticks": ""
           }
          },
          "title": {
           "x": 0.05
          },
          "xaxis": {
           "automargin": true,
           "gridcolor": "white",
           "linecolor": "white",
           "ticks": "",
           "title": {
            "standoff": 15
           },
           "zerolinecolor": "white",
           "zerolinewidth": 2
          },
          "yaxis": {
           "automargin": true,
           "gridcolor": "white",
           "linecolor": "white",
           "ticks": "",
           "title": {
            "standoff": 15
           },
           "zerolinecolor": "white",
           "zerolinewidth": 2
          }
         }
        },
        "title": {
         "text": ""
        },
        "width": 800,
        "xaxis": {
         "anchor": "y",
         "categoryarray": [
          0.0001,
          0.00033,
          0.001
         ],
         "categoryorder": "array",
         "domain": [
          0,
          0.45
         ],
         "title": {
          "text": "lr"
         },
         "type": "category"
        },
        "xaxis2": {
         "anchor": "y2",
         "categoryarray": [
          "adam",
          "adamw",
          "SGD"
         ],
         "categoryorder": "array",
         "domain": [
          0.55,
          1
         ],
         "title": {
          "text": "optim"
         },
         "type": "category"
        },
        "yaxis": {
         "anchor": "x",
         "domain": [
          0,
          1
         ],
         "title": {
          "text": "Objective Value"
         }
        },
        "yaxis2": {
         "anchor": "x2",
         "domain": [
          0,
          1
         ],
         "matches": "y",
         "showticklabels": false
        }
       }
      },
      "image/png": "[encoded data removed]"
     },
     "metadata": {},
     "output_type": "display_data"
    },
    {
     "data": {
      "application/vnd.plotly.v1+json": {
       "config": {
        "plotlyServerURL": "https://plot.ly"
       },
       "data": [
        {
         "marker": {
          "color": [
           0,
           1,
           2,
           3,
           4,
           5,
           6,
           7,
           8,
           9,
           10,
           11,
           12,
           13,
           14,
           15,
           16,
           17,
           18,
           19,
           20,
           21,
           22,
           23,
           24,
           25,
           26,
           27,
           28,
           29,
           30,
           31,
           32,
           33,
           34,
           35
          ],
          "colorbar": {
           "title": {
            "text": "Trial"
           },
           "x": 1,
           "xpad": 40
          },
          "colorscale": [
           [
            0,
            "rgb(247,251,255)"
           ],
           [
            0.125,
            "rgb(222,235,247)"
           ],
           [
            0.25,
            "rgb(198,219,239)"
           ],
           [
            0.375,
            "rgb(158,202,225)"
           ],
           [
            0.5,
            "rgb(107,174,214)"
           ],
           [
            0.625,
            "rgb(66,146,198)"
           ],
           [
            0.75,
            "rgb(33,113,181)"
           ],
           [
            0.875,
            "rgb(8,81,156)"
           ],
           [
            1,
            "rgb(8,48,107)"
           ]
          ],
          "line": {
           "color": "Grey",
           "width": 0.5
          },
          "showscale": true
         },
         "mode": "markers",
         "name": "Feasible Trial",
         "showlegend": false,
         "type": "scatter",
         "x": [
          0.3,
          0.3,
          0.3,
          0,
          0.1,
          0.3,
          0.1,
          0.1,
          0,
          0,
          0,
          0,
          0,
          0,
          0,
          0.1,
          0,
          0,
          0.3,
          0,
          0,
          0,
          0,
          0,
          0,
          0,
          0.3,
          0.1,
          0,
          0,
          0,
          0,
          0.1,
          0,
          0,
          0
         ],
         "xaxis": "x",
         "y": [
          0.10849607735872269,
          0.14147961139678955,
          0.14841584861278534,
          0.10225827991962433,
          0.15889029204845428,
          0.10981424152851105,
          0.12198865413665771,
          0.174366295337677,
          0.10367405414581299,
          0.1056150421500206,
          0.10922171920537949,
          0.11171307414770126,
          0.10631066560745239,
          0.11012180149555206,
          0.11006674915552139,
          0.10705174505710602,
          0.10657066106796265,
          0.13529716432094574,
          0.11190564185380936,
          0.10544633865356445,
          0.10710615664720535,
          0.10597499459981918,
          0.10582134872674942,
          0.10235967487096786,
          0.1065652072429657,
          0.13272850215435028,
          0.10662908852100372,
          0.12727271020412445,
          0.10536712408065796,
          0.10999231785535812,
          0.11141107231378555,
          0.10816462337970734,
          0.11024318635463715,
          0.10858513414859772,
          0.11073146015405655,
          0.10251719504594803
         ],
         "yaxis": "y"
        },
        {
         "marker": {
          "color": [
           0,
           1,
           2,
           3,
           4,
           5,
           6,
           7,
           8,
           9,
           10,
           11,
           12,
           13,
           14,
           15,
           16,
           17,
           18,
           19,
           20,
           21,
           22,
           23,
           24,
           25,
           26,
           27,
           28,
           29,
           30,
           31,
           32,
           33,
           34,
           35
          ],
          "colorbar": {
           "title": {
            "text": "Trial"
           },
           "x": 1,
           "xpad": 40
          },
          "colorscale": [
           [
            0,
            "rgb(247,251,255)"
           ],
           [
            0.125,
            "rgb(222,235,247)"
           ],
           [
            0.25,
            "rgb(198,219,239)"
           ],
           [
            0.375,
            "rgb(158,202,225)"
           ],
           [
            0.5,
            "rgb(107,174,214)"
           ],
           [
            0.625,
            "rgb(66,146,198)"
           ],
           [
            0.75,
            "rgb(33,113,181)"
           ],
           [
            0.875,
            "rgb(8,81,156)"
           ],
           [
            1,
            "rgb(8,48,107)"
           ]
          ],
          "line": {
           "color": "Grey",
           "width": 0.5
          },
          "showscale": false
         },
         "mode": "markers",
         "name": "Feasible Trial",
         "showlegend": false,
         "type": "scatter",
         "x": [
          "warmup",
          "warmup_decay_cos",
          "warmup_decay_cos",
          "none",
          "warmup",
          "none",
          "none",
          "warmup",
          "none",
          "none",
          "none",
          "none",
          "none",
          "warmup_decay_cos",
          "warmup_decay_cos",
          "warmup",
          "none",
          "none",
          "none",
          "none",
          "none",
          "none",
          "none",
          "none",
          "none",
          "warmup_decay_cos",
          "none",
          "none",
          "warmup",
          "warmup_decay_cos",
          "warmup_decay_cos",
          "none",
          "none",
          "none",
          "warmup",
          "warmup"
         ],
         "xaxis": "x2",
         "y": [
          0.10849607735872269,
          0.14147961139678955,
          0.14841584861278534,
          0.10225827991962433,
          0.15889029204845428,
          0.10981424152851105,
          0.12198865413665771,
          0.174366295337677,
          0.10367405414581299,
          0.1056150421500206,
          0.10922171920537949,
          0.11171307414770126,
          0.10631066560745239,
          0.11012180149555206,
          0.11006674915552139,
          0.10705174505710602,
          0.10657066106796265,
          0.13529716432094574,
          0.11190564185380936,
          0.10544633865356445,
          0.10710615664720535,
          0.10597499459981918,
          0.10582134872674942,
          0.10235967487096786,
          0.1065652072429657,
          0.13272850215435028,
          0.10662908852100372,
          0.12727271020412445,
          0.10536712408065796,
          0.10999231785535812,
          0.11141107231378555,
          0.10816462337970734,
          0.11024318635463715,
          0.10858513414859772,
          0.11073146015405655,
          0.10251719504594803
         ],
         "yaxis": "y2"
        }
       ],
       "layout": {
        "height": 400,
        "template": {
         "data": {
          "bar": [
           {
            "error_x": {
             "color": "#2a3f5f"
            },
            "error_y": {
             "color": "#2a3f5f"
            },
            "marker": {
             "line": {
              "color": "#E5ECF6",
              "width": 0.5
             },
             "pattern": {
              "fillmode": "overlay",
              "size": 10,
              "solidity": 0.2
             }
            },
            "type": "bar"
           }
          ],
          "barpolar": [
           {
            "marker": {
             "line": {
              "color": "#E5ECF6",
              "width": 0.5
             },
             "pattern": {
              "fillmode": "overlay",
              "size": 10,
              "solidity": 0.2
             }
            },
            "type": "barpolar"
           }
          ],
          "carpet": [
           {
            "aaxis": {
             "endlinecolor": "#2a3f5f",
             "gridcolor": "white",
             "linecolor": "white",
             "minorgridcolor": "white",
             "startlinecolor": "#2a3f5f"
            },
            "baxis": {
             "endlinecolor": "#2a3f5f",
             "gridcolor": "white",
             "linecolor": "white",
             "minorgridcolor": "white",
             "startlinecolor": "#2a3f5f"
            },
            "type": "carpet"
           }
          ],
          "choropleth": [
           {
            "colorbar": {
             "outlinewidth": 0,
             "ticks": ""
            },
            "type": "choropleth"
           }
          ],
          "contour": [
           {
            "colorbar": {
             "outlinewidth": 0,
             "ticks": ""
            },
            "colorscale": [
             [
              0,
              "#0d0887"
             ],
             [
              0.1111111111111111,
              "#46039f"
             ],
             [
              0.2222222222222222,
              "#7201a8"
             ],
             [
              0.3333333333333333,
              "#9c179e"
             ],
             [
              0.4444444444444444,
              "#bd3786"
             ],
             [
              0.5555555555555556,
              "#d8576b"
             ],
             [
              0.6666666666666666,
              "#ed7953"
             ],
             [
              0.7777777777777778,
              "#fb9f3a"
             ],
             [
              0.8888888888888888,
              "#fdca26"
             ],
             [
              1,
              "#f0f921"
             ]
            ],
            "type": "contour"
           }
          ],
          "contourcarpet": [
           {
            "colorbar": {
             "outlinewidth": 0,
             "ticks": ""
            },
            "type": "contourcarpet"
           }
          ],
          "heatmap": [
           {
            "colorbar": {
             "outlinewidth": 0,
             "ticks": ""
            },
            "colorscale": [
             [
              0,
              "#0d0887"
             ],
             [
              0.1111111111111111,
              "#46039f"
             ],
             [
              0.2222222222222222,
              "#7201a8"
             ],
             [
              0.3333333333333333,
              "#9c179e"
             ],
             [
              0.4444444444444444,
              "#bd3786"
             ],
             [
              0.5555555555555556,
              "#d8576b"
             ],
             [
              0.6666666666666666,
              "#ed7953"
             ],
             [
              0.7777777777777778,
              "#fb9f3a"
             ],
             [
              0.8888888888888888,
              "#fdca26"
             ],
             [
              1,
              "#f0f921"
             ]
            ],
            "type": "heatmap"
           }
          ],
          "histogram": [
           {
            "marker": {
             "pattern": {
              "fillmode": "overlay",
              "size": 10,
              "solidity": 0.2
             }
            },
            "type": "histogram"
           }
          ],
          "histogram2d": [
           {
            "colorbar": {
             "outlinewidth": 0,
             "ticks": ""
            },
            "colorscale": [
             [
              0,
              "#0d0887"
             ],
             [
              0.1111111111111111,
              "#46039f"
             ],
             [
              0.2222222222222222,
              "#7201a8"
             ],
             [
              0.3333333333333333,
              "#9c179e"
             ],
             [
              0.4444444444444444,
              "#bd3786"
             ],
             [
              0.5555555555555556,
              "#d8576b"
             ],
             [
              0.6666666666666666,
              "#ed7953"
             ],
             [
              0.7777777777777778,
              "#fb9f3a"
             ],
             [
              0.8888888888888888,
              "#fdca26"
             ],
             [
              1,
              "#f0f921"
             ]
            ],
            "type": "histogram2d"
           }
          ],
          "histogram2dcontour": [
           {
            "colorbar": {
             "outlinewidth": 0,
             "ticks": ""
            },
            "colorscale": [
             [
              0,
              "#0d0887"
             ],
             [
              0.1111111111111111,
              "#46039f"
             ],
             [
              0.2222222222222222,
              "#7201a8"
             ],
             [
              0.3333333333333333,
              "#9c179e"
             ],
             [
              0.4444444444444444,
              "#bd3786"
             ],
             [
              0.5555555555555556,
              "#d8576b"
             ],
             [
              0.6666666666666666,
              "#ed7953"
             ],
             [
              0.7777777777777778,
              "#fb9f3a"
             ],
             [
              0.8888888888888888,
              "#fdca26"
             ],
             [
              1,
              "#f0f921"
             ]
            ],
            "type": "histogram2dcontour"
           }
          ],
          "mesh3d": [
           {
            "colorbar": {
             "outlinewidth": 0,
             "ticks": ""
            },
            "type": "mesh3d"
           }
          ],
          "parcoords": [
           {
            "line": {
             "colorbar": {
              "outlinewidth": 0,
              "ticks": ""
             }
            },
            "type": "parcoords"
           }
          ],
          "pie": [
           {
            "automargin": true,
            "type": "pie"
           }
          ],
          "scatter": [
           {
            "fillpattern": {
             "fillmode": "overlay",
             "size": 10,
             "solidity": 0.2
            },
            "type": "scatter"
           }
          ],
          "scatter3d": [
           {
            "line": {
             "colorbar": {
              "outlinewidth": 0,
              "ticks": ""
             }
            },
            "marker": {
             "colorbar": {
              "outlinewidth": 0,
              "ticks": ""
             }
            },
            "type": "scatter3d"
           }
          ],
          "scattercarpet": [
           {
            "marker": {
             "colorbar": {
              "outlinewidth": 0,
              "ticks": ""
             }
            },
            "type": "scattercarpet"
           }
          ],
          "scattergeo": [
           {
            "marker": {
             "colorbar": {
              "outlinewidth": 0,
              "ticks": ""
             }
            },
            "type": "scattergeo"
           }
          ],
          "scattergl": [
           {
            "marker": {
             "colorbar": {
              "outlinewidth": 0,
              "ticks": ""
             }
            },
            "type": "scattergl"
           }
          ],
          "scattermap": [
           {
            "marker": {
             "colorbar": {
              "outlinewidth": 0,
              "ticks": ""
             }
            },
            "type": "scattermap"
           }
          ],
          "scattermapbox": [
           {
            "marker": {
             "colorbar": {
              "outlinewidth": 0,
              "ticks": ""
             }
            },
            "type": "scattermapbox"
           }
          ],
          "scatterpolar": [
           {
            "marker": {
             "colorbar": {
              "outlinewidth": 0,
              "ticks": ""
             }
            },
            "type": "scatterpolar"
           }
          ],
          "scatterpolargl": [
           {
            "marker": {
             "colorbar": {
              "outlinewidth": 0,
              "ticks": ""
             }
            },
            "type": "scatterpolargl"
           }
          ],
          "scatterternary": [
           {
            "marker": {
             "colorbar": {
              "outlinewidth": 0,
              "ticks": ""
             }
            },
            "type": "scatterternary"
           }
          ],
          "surface": [
           {
            "colorbar": {
             "outlinewidth": 0,
             "ticks": ""
            },
            "colorscale": [
             [
              0,
              "#0d0887"
             ],
             [
              0.1111111111111111,
              "#46039f"
             ],
             [
              0.2222222222222222,
              "#7201a8"
             ],
             [
              0.3333333333333333,
              "#9c179e"
             ],
             [
              0.4444444444444444,
              "#bd3786"
             ],
             [
              0.5555555555555556,
              "#d8576b"
             ],
             [
              0.6666666666666666,
              "#ed7953"
             ],
             [
              0.7777777777777778,
              "#fb9f3a"
             ],
             [
              0.8888888888888888,
              "#fdca26"
             ],
             [
              1,
              "#f0f921"
             ]
            ],
            "type": "surface"
           }
          ],
          "table": [
           {
            "cells": {
             "fill": {
              "color": "#EBF0F8"
             },
             "line": {
              "color": "white"
             }
            },
            "header": {
             "fill": {
              "color": "#C8D4E3"
             },
             "line": {
              "color": "white"
             }
            },
            "type": "table"
           }
          ]
         },
         "layout": {
          "annotationdefaults": {
           "arrowcolor": "#2a3f5f",
           "arrowhead": 0,
           "arrowwidth": 1
          },
          "autotypenumbers": "strict",
          "coloraxis": {
           "colorbar": {
            "outlinewidth": 0,
            "ticks": ""
           }
          },
          "colorscale": {
           "diverging": [
            [
             0,
             "#8e0152"
            ],
            [
             0.1,
             "#c51b7d"
            ],
            [
             0.2,
             "#de77ae"
            ],
            [
             0.3,
             "#f1b6da"
            ],
            [
             0.4,
             "#fde0ef"
            ],
            [
             0.5,
             "#f7f7f7"
            ],
            [
             0.6,
             "#e6f5d0"
            ],
            [
             0.7,
             "#b8e186"
            ],
            [
             0.8,
             "#7fbc41"
            ],
            [
             0.9,
             "#4d9221"
            ],
            [
             1,
             "#276419"
            ]
           ],
           "sequential": [
            [
             0,
             "#0d0887"
            ],
            [
             0.1111111111111111,
             "#46039f"
            ],
            [
             0.2222222222222222,
             "#7201a8"
            ],
            [
             0.3333333333333333,
             "#9c179e"
            ],
            [
             0.4444444444444444,
             "#bd3786"
            ],
            [
             0.5555555555555556,
             "#d8576b"
            ],
            [
             0.6666666666666666,
             "#ed7953"
            ],
            [
             0.7777777777777778,
             "#fb9f3a"
            ],
            [
             0.8888888888888888,
             "#fdca26"
            ],
            [
             1,
             "#f0f921"
            ]
           ],
           "sequentialminus": [
            [
             0,
             "#0d0887"
            ],
            [
             0.1111111111111111,
             "#46039f"
            ],
            [
             0.2222222222222222,
             "#7201a8"
            ],
            [
             0.3333333333333333,
             "#9c179e"
            ],
            [
             0.4444444444444444,
             "#bd3786"
            ],
            [
             0.5555555555555556,
             "#d8576b"
            ],
            [
             0.6666666666666666,
             "#ed7953"
            ],
            [
             0.7777777777777778,
             "#fb9f3a"
            ],
            [
             0.8888888888888888,
             "#fdca26"
            ],
            [
             1,
             "#f0f921"
            ]
           ]
          },
          "colorway": [
           "#636efa",
           "#EF553B",
           "#00cc96",
           "#ab63fa",
           "#FFA15A",
           "#19d3f3",
           "#FF6692",
           "#B6E880",
           "#FF97FF",
           "#FECB52"
          ],
          "font": {
           "color": "#2a3f5f"
          },
          "geo": {
           "bgcolor": "white",
           "lakecolor": "white",
           "landcolor": "#E5ECF6",
           "showlakes": true,
           "showland": true,
           "subunitcolor": "white"
          },
          "hoverlabel": {
           "align": "left"
          },
          "hovermode": "closest",
          "mapbox": {
           "style": "light"
          },
          "paper_bgcolor": "white",
          "plot_bgcolor": "#E5ECF6",
          "polar": {
           "angularaxis": {
            "gridcolor": "white",
            "linecolor": "white",
            "ticks": ""
           },
           "bgcolor": "#E5ECF6",
           "radialaxis": {
            "gridcolor": "white",
            "linecolor": "white",
            "ticks": ""
           }
          },
          "scene": {
           "xaxis": {
            "backgroundcolor": "#E5ECF6",
            "gridcolor": "white",
            "gridwidth": 2,
            "linecolor": "white",
            "showbackground": true,
            "ticks": "",
            "zerolinecolor": "white"
           },
           "yaxis": {
            "backgroundcolor": "#E5ECF6",
            "gridcolor": "white",
            "gridwidth": 2,
            "linecolor": "white",
            "showbackground": true,
            "ticks": "",
            "zerolinecolor": "white"
           },
           "zaxis": {
            "backgroundcolor": "#E5ECF6",
            "gridcolor": "white",
            "gridwidth": 2,
            "linecolor": "white",
            "showbackground": true,
            "ticks": "",
            "zerolinecolor": "white"
           }
          },
          "shapedefaults": {
           "line": {
            "color": "#2a3f5f"
           }
          },
          "ternary": {
           "aaxis": {
            "gridcolor": "white",
            "linecolor": "white",
            "ticks": ""
           },
           "baxis": {
            "gridcolor": "white",
            "linecolor": "white",
            "ticks": ""
           },
           "bgcolor": "#E5ECF6",
           "caxis": {
            "gridcolor": "white",
            "linecolor": "white",
            "ticks": ""
           }
          },
          "title": {
           "x": 0.05
          },
          "xaxis": {
           "automargin": true,
           "gridcolor": "white",
           "linecolor": "white",
           "ticks": "",
           "title": {
            "standoff": 15
           },
           "zerolinecolor": "white",
           "zerolinewidth": 2
          },
          "yaxis": {
           "automargin": true,
           "gridcolor": "white",
           "linecolor": "white",
           "ticks": "",
           "title": {
            "standoff": 15
           },
           "zerolinecolor": "white",
           "zerolinewidth": 2
          }
         }
        },
        "title": {
         "text": ""
        },
        "width": 800,
        "xaxis": {
         "anchor": "y",
         "categoryarray": [
          0,
          0.1,
          0.3
         ],
         "categoryorder": "array",
         "domain": [
          0,
          0.45
         ],
         "title": {
          "text": "dropout_mlp"
         },
         "type": "category"
        },
        "xaxis2": {
         "anchor": "y2",
         "categoryarray": [
          "warmup_decay_cos",
          "warmup",
          "none"
         ],
         "categoryorder": "array",
         "domain": [
          0.55,
          1
         ],
         "title": {
          "text": "scheduler"
         },
         "type": "category"
        },
        "yaxis": {
         "anchor": "x",
         "domain": [
          0,
          1
         ],
         "title": {
          "text": "Objective Value"
         }
        },
        "yaxis2": {
         "anchor": "x2",
         "domain": [
          0,
          1
         ],
         "matches": "y",
         "showticklabels": false
        }
       }
      },
      "image/png": "[encoded data removed]"
     },
     "metadata": {},
     "output_type": "display_data"
    },
    {
     "data": {
      "application/vnd.plotly.v1+json": {
       "config": {
        "plotlyServerURL": "https://plot.ly"
       },
       "data": [
        {
         "marker": {
          "color": [
           0,
           1,
           2,
           3,
           4,
           5,
           6,
           7,
           8,
           9,
           10,
           11,
           12,
           13,
           14,
           15,
           16,
           17,
           18,
           19,
           20,
           21,
           22,
           23,
           24,
           25,
           26,
           27,
           28,
           29,
           30,
           31,
           32,
           33,
           34,
           35
          ],
          "colorbar": {
           "title": {
            "text": "Trial"
           },
           "x": 1,
           "xpad": 40
          },
          "colorscale": [
           [
            0,
            "rgb(247,251,255)"
           ],
           [
            0.125,
            "rgb(222,235,247)"
           ],
           [
            0.25,
            "rgb(198,219,239)"
           ],
           [
            0.375,
            "rgb(158,202,225)"
           ],
           [
            0.5,
            "rgb(107,174,214)"
           ],
           [
            0.625,
            "rgb(66,146,198)"
           ],
           [
            0.75,
            "rgb(33,113,181)"
           ],
           [
            0.875,
            "rgb(8,81,156)"
           ],
           [
            1,
            "rgb(8,48,107)"
           ]
          ],
          "line": {
           "color": "Grey",
           "width": 0.5
          },
          "showscale": true
         },
         "mode": "markers",
         "name": "Feasible Trial",
         "showlegend": false,
         "type": "scatter",
         "x": [
          "tanh",
          "relu",
          "relu",
          "tanh",
          "tanh",
          "relu",
          "relu",
          "relu",
          "tanh",
          "tanh",
          "sigmoid",
          "sigmoid",
          "tanh",
          "tanh",
          "tanh",
          "tanh",
          "tanh",
          "tanh",
          "tanh",
          "relu",
          "tanh",
          "relu",
          "relu",
          "tanh",
          "tanh",
          "tanh",
          "tanh",
          "tanh",
          "tanh",
          "tanh",
          "sigmoid",
          "relu",
          "tanh",
          "tanh",
          "sigmoid",
          "tanh"
         ],
         "xaxis": "x",
         "y": [
          0.10849607735872269,
          0.14147961139678955,
          0.14841584861278534,
          0.10225827991962433,
          0.15889029204845428,
          0.10981424152851105,
          0.12198865413665771,
          0.174366295337677,
          0.10367405414581299,
          0.1056150421500206,
          0.10922171920537949,
          0.11171307414770126,
          0.10631066560745239,
          0.11012180149555206,
          0.11006674915552139,
          0.10705174505710602,
          0.10657066106796265,
          0.13529716432094574,
          0.11190564185380936,
          0.10544633865356445,
          0.10710615664720535,
          0.10597499459981918,
          0.10582134872674942,
          0.10235967487096786,
          0.1065652072429657,
          0.13272850215435028,
          0.10662908852100372,
          0.12727271020412445,
          0.10536712408065796,
          0.10999231785535812,
          0.11141107231378555,
          0.10816462337970734,
          0.11024318635463715,
          0.10858513414859772,
          0.11073146015405655,
          0.10251719504594803
         ],
         "yaxis": "y"
        },
        {
         "marker": {
          "color": [
           0,
           1,
           2,
           3,
           4,
           5,
           6,
           7,
           8,
           9,
           10,
           11,
           12,
           13,
           14,
           15,
           16,
           17,
           18,
           19,
           20,
           21,
           22,
           23,
           24,
           25,
           26,
           27,
           28,
           29,
           30,
           31,
           32,
           33,
           34,
           35
          ],
          "colorbar": {
           "title": {
            "text": "Trial"
           },
           "x": 1,
           "xpad": 40
          },
          "colorscale": [
           [
            0,
            "rgb(247,251,255)"
           ],
           [
            0.125,
            "rgb(222,235,247)"
           ],
           [
            0.25,
            "rgb(198,219,239)"
           ],
           [
            0.375,
            "rgb(158,202,225)"
           ],
           [
            0.5,
            "rgb(107,174,214)"
           ],
           [
            0.625,
            "rgb(66,146,198)"
           ],
           [
            0.75,
            "rgb(33,113,181)"
           ],
           [
            0.875,
            "rgb(8,81,156)"
           ],
           [
            1,
            "rgb(8,48,107)"
           ]
          ],
          "line": {
           "color": "Grey",
           "width": 0.5
          },
          "showscale": false
         },
         "mode": "markers",
         "name": "Feasible Trial",
         "showlegend": false,
         "type": "scatter",
         "x": [
          "512-256-128",
          "128",
          "128-64-32",
          "128-64-32",
          "512-256-128",
          "512-256-128",
          "512-256-128",
          "128-64-32",
          "128-64-32",
          "512-256-128",
          "256-128",
          "128-64-32",
          "128-64-32",
          "128",
          "128",
          "128-64-32",
          "256-128",
          "128-64-32",
          "128-64-32",
          "128",
          "128",
          "128-64-32",
          "128-64-32",
          "128-64-32",
          "512-256-128",
          "128-64-32",
          "128-64-32",
          "128-64-32",
          "128-64-32",
          "128-64-32",
          "128-64-32",
          "128-64-32",
          "128",
          "128",
          "128-64-32",
          "512-256-128"
         ],
         "xaxis": "x2",
         "y": [
          0.10849607735872269,
          0.14147961139678955,
          0.14841584861278534,
          0.10225827991962433,
          0.15889029204845428,
          0.10981424152851105,
          0.12198865413665771,
          0.174366295337677,
          0.10367405414581299,
          0.1056150421500206,
          0.10922171920537949,
          0.11171307414770126,
          0.10631066560745239,
          0.11012180149555206,
          0.11006674915552139,
          0.10705174505710602,
          0.10657066106796265,
          0.13529716432094574,
          0.11190564185380936,
          0.10544633865356445,
          0.10710615664720535,
          0.10597499459981918,
          0.10582134872674942,
          0.10235967487096786,
          0.1065652072429657,
          0.13272850215435028,
          0.10662908852100372,
          0.12727271020412445,
          0.10536712408065796,
          0.10999231785535812,
          0.11141107231378555,
          0.10816462337970734,
          0.11024318635463715,
          0.10858513414859772,
          0.11073146015405655,
          0.10251719504594803
         ],
         "yaxis": "y2"
        }
       ],
       "layout": {
        "height": 400,
        "template": {
         "data": {
          "bar": [
           {
            "error_x": {
             "color": "#2a3f5f"
            },
            "error_y": {
             "color": "#2a3f5f"
            },
            "marker": {
             "line": {
              "color": "#E5ECF6",
              "width": 0.5
             },
             "pattern": {
              "fillmode": "overlay",
              "size": 10,
              "solidity": 0.2
             }
            },
            "type": "bar"
           }
          ],
          "barpolar": [
           {
            "marker": {
             "line": {
              "color": "#E5ECF6",
              "width": 0.5
             },
             "pattern": {
              "fillmode": "overlay",
              "size": 10,
              "solidity": 0.2
             }
            },
            "type": "barpolar"
           }
          ],
          "carpet": [
           {
            "aaxis": {
             "endlinecolor": "#2a3f5f",
             "gridcolor": "white",
             "linecolor": "white",
             "minorgridcolor": "white",
             "startlinecolor": "#2a3f5f"
            },
            "baxis": {
             "endlinecolor": "#2a3f5f",
             "gridcolor": "white",
             "linecolor": "white",
             "minorgridcolor": "white",
             "startlinecolor": "#2a3f5f"
            },
            "type": "carpet"
           }
          ],
          "choropleth": [
           {
            "colorbar": {
             "outlinewidth": 0,
             "ticks": ""
            },
            "type": "choropleth"
           }
          ],
          "contour": [
           {
            "colorbar": {
             "outlinewidth": 0,
             "ticks": ""
            },
            "colorscale": [
             [
              0,
              "#0d0887"
             ],
             [
              0.1111111111111111,
              "#46039f"
             ],
             [
              0.2222222222222222,
              "#7201a8"
             ],
             [
              0.3333333333333333,
              "#9c179e"
             ],
             [
              0.4444444444444444,
              "#bd3786"
             ],
             [
              0.5555555555555556,
              "#d8576b"
             ],
             [
              0.6666666666666666,
              "#ed7953"
             ],
             [
              0.7777777777777778,
              "#fb9f3a"
             ],
             [
              0.8888888888888888,
              "#fdca26"
             ],
             [
              1,
              "#f0f921"
             ]
            ],
            "type": "contour"
           }
          ],
          "contourcarpet": [
           {
            "colorbar": {
             "outlinewidth": 0,
             "ticks": ""
            },
            "type": "contourcarpet"
           }
          ],
          "heatmap": [
           {
            "colorbar": {
             "outlinewidth": 0,
             "ticks": ""
            },
            "colorscale": [
             [
              0,
              "#0d0887"
             ],
             [
              0.1111111111111111,
              "#46039f"
             ],
             [
              0.2222222222222222,
              "#7201a8"
             ],
             [
              0.3333333333333333,
              "#9c179e"
             ],
             [
              0.4444444444444444,
              "#bd3786"
             ],
             [
              0.5555555555555556,
              "#d8576b"
             ],
             [
              0.6666666666666666,
              "#ed7953"
             ],
             [
              0.7777777777777778,
              "#fb9f3a"
             ],
             [
              0.8888888888888888,
              "#fdca26"
             ],
             [
              1,
              "#f0f921"
             ]
            ],
            "type": "heatmap"
           }
          ],
          "histogram": [
           {
            "marker": {
             "pattern": {
              "fillmode": "overlay",
              "size": 10,
              "solidity": 0.2
             }
            },
            "type": "histogram"
           }
          ],
          "histogram2d": [
           {
            "colorbar": {
             "outlinewidth": 0,
             "ticks": ""
            },
            "colorscale": [
             [
              0,
              "#0d0887"
             ],
             [
              0.1111111111111111,
              "#46039f"
             ],
             [
              0.2222222222222222,
              "#7201a8"
             ],
             [
              0.3333333333333333,
              "#9c179e"
             ],
             [
              0.4444444444444444,
              "#bd3786"
             ],
             [
              0.5555555555555556,
              "#d8576b"
             ],
             [
              0.6666666666666666,
              "#ed7953"
             ],
             [
              0.7777777777777778,
              "#fb9f3a"
             ],
             [
              0.8888888888888888,
              "#fdca26"
             ],
             [
              1,
              "#f0f921"
             ]
            ],
            "type": "histogram2d"
           }
          ],
          "histogram2dcontour": [
           {
            "colorbar": {
             "outlinewidth": 0,
             "ticks": ""
            },
            "colorscale": [
             [
              0,
              "#0d0887"
             ],
             [
              0.1111111111111111,
              "#46039f"
             ],
             [
              0.2222222222222222,
              "#7201a8"
             ],
             [
              0.3333333333333333,
              "#9c179e"
             ],
             [
              0.4444444444444444,
              "#bd3786"
             ],
             [
              0.5555555555555556,
              "#d8576b"
             ],
             [
              0.6666666666666666,
              "#ed7953"
             ],
             [
              0.7777777777777778,
              "#fb9f3a"
             ],
             [
              0.8888888888888888,
              "#fdca26"
             ],
             [
              1,
              "#f0f921"
             ]
            ],
            "type": "histogram2dcontour"
           }
          ],
          "mesh3d": [
           {
            "colorbar": {
             "outlinewidth": 0,
             "ticks": ""
            },
            "type": "mesh3d"
           }
          ],
          "parcoords": [
           {
            "line": {
             "colorbar": {
              "outlinewidth": 0,
              "ticks": ""
             }
            },
            "type": "parcoords"
           }
          ],
          "pie": [
           {
            "automargin": true,
            "type": "pie"
           }
          ],
          "scatter": [
           {
            "fillpattern": {
             "fillmode": "overlay",
             "size": 10,
             "solidity": 0.2
            },
            "type": "scatter"
           }
          ],
          "scatter3d": [
           {
            "line": {
             "colorbar": {
              "outlinewidth": 0,
              "ticks": ""
             }
            },
            "marker": {
             "colorbar": {
              "outlinewidth": 0,
              "ticks": ""
             }
            },
            "type": "scatter3d"
           }
          ],
          "scattercarpet": [
           {
            "marker": {
             "colorbar": {
              "outlinewidth": 0,
              "ticks": ""
             }
            },
            "type": "scattercarpet"
           }
          ],
          "scattergeo": [
           {
            "marker": {
             "colorbar": {
              "outlinewidth": 0,
              "ticks": ""
             }
            },
            "type": "scattergeo"
           }
          ],
          "scattergl": [
           {
            "marker": {
             "colorbar": {
              "outlinewidth": 0,
              "ticks": ""
             }
            },
            "type": "scattergl"
           }
          ],
          "scattermap": [
           {
            "marker": {
             "colorbar": {
              "outlinewidth": 0,
              "ticks": ""
             }
            },
            "type": "scattermap"
           }
          ],
          "scattermapbox": [
           {
            "marker": {
             "colorbar": {
              "outlinewidth": 0,
              "ticks": ""
             }
            },
            "type": "scattermapbox"
           }
          ],
          "scatterpolar": [
           {
            "marker": {
             "colorbar": {
              "outlinewidth": 0,
              "ticks": ""
             }
            },
            "type": "scatterpolar"
           }
          ],
          "scatterpolargl": [
           {
            "marker": {
             "colorbar": {
              "outlinewidth": 0,
              "ticks": ""
             }
            },
            "type": "scatterpolargl"
           }
          ],
          "scatterternary": [
           {
            "marker": {
             "colorbar": {
              "outlinewidth": 0,
              "ticks": ""
             }
            },
            "type": "scatterternary"
           }
          ],
          "surface": [
           {
            "colorbar": {
             "outlinewidth": 0,
             "ticks": ""
            },
            "colorscale": [
             [
              0,
              "#0d0887"
             ],
             [
              0.1111111111111111,
              "#46039f"
             ],
             [
              0.2222222222222222,
              "#7201a8"
             ],
             [
              0.3333333333333333,
              "#9c179e"
             ],
             [
              0.4444444444444444,
              "#bd3786"
             ],
             [
              0.5555555555555556,
              "#d8576b"
             ],
             [
              0.6666666666666666,
              "#ed7953"
             ],
             [
              0.7777777777777778,
              "#fb9f3a"
             ],
             [
              0.8888888888888888,
              "#fdca26"
             ],
             [
              1,
              "#f0f921"
             ]
            ],
            "type": "surface"
           }
          ],
          "table": [
           {
            "cells": {
             "fill": {
              "color": "#EBF0F8"
             },
             "line": {
              "color": "white"
             }
            },
            "header": {
             "fill": {
              "color": "#C8D4E3"
             },
             "line": {
              "color": "white"
             }
            },
            "type": "table"
           }
          ]
         },
         "layout": {
          "annotationdefaults": {
           "arrowcolor": "#2a3f5f",
           "arrowhead": 0,
           "arrowwidth": 1
          },
          "autotypenumbers": "strict",
          "coloraxis": {
           "colorbar": {
            "outlinewidth": 0,
            "ticks": ""
           }
          },
          "colorscale": {
           "diverging": [
            [
             0,
             "#8e0152"
            ],
            [
             0.1,
             "#c51b7d"
            ],
            [
             0.2,
             "#de77ae"
            ],
            [
             0.3,
             "#f1b6da"
            ],
            [
             0.4,
             "#fde0ef"
            ],
            [
             0.5,
             "#f7f7f7"
            ],
            [
             0.6,
             "#e6f5d0"
            ],
            [
             0.7,
             "#b8e186"
            ],
            [
             0.8,
             "#7fbc41"
            ],
            [
             0.9,
             "#4d9221"
            ],
            [
             1,
             "#276419"
            ]
           ],
           "sequential": [
            [
             0,
             "#0d0887"
            ],
            [
             0.1111111111111111,
             "#46039f"
            ],
            [
             0.2222222222222222,
             "#7201a8"
            ],
            [
             0.3333333333333333,
             "#9c179e"
            ],
            [
             0.4444444444444444,
             "#bd3786"
            ],
            [
             0.5555555555555556,
             "#d8576b"
            ],
            [
             0.6666666666666666,
             "#ed7953"
            ],
            [
             0.7777777777777778,
             "#fb9f3a"
            ],
            [
             0.8888888888888888,
             "#fdca26"
            ],
            [
             1,
             "#f0f921"
            ]
           ],
           "sequentialminus": [
            [
             0,
             "#0d0887"
            ],
            [
             0.1111111111111111,
             "#46039f"
            ],
            [
             0.2222222222222222,
             "#7201a8"
            ],
            [
             0.3333333333333333,
             "#9c179e"
            ],
            [
             0.4444444444444444,
             "#bd3786"
            ],
            [
             0.5555555555555556,
             "#d8576b"
            ],
            [
             0.6666666666666666,
             "#ed7953"
            ],
            [
             0.7777777777777778,
             "#fb9f3a"
            ],
            [
             0.8888888888888888,
             "#fdca26"
            ],
            [
             1,
             "#f0f921"
            ]
           ]
          },
          "colorway": [
           "#636efa",
           "#EF553B",
           "#00cc96",
           "#ab63fa",
           "#FFA15A",
           "#19d3f3",
           "#FF6692",
           "#B6E880",
           "#FF97FF",
           "#FECB52"
          ],
          "font": {
           "color": "#2a3f5f"
          },
          "geo": {
           "bgcolor": "white",
           "lakecolor": "white",
           "landcolor": "#E5ECF6",
           "showlakes": true,
           "showland": true,
           "subunitcolor": "white"
          },
          "hoverlabel": {
           "align": "left"
          },
          "hovermode": "closest",
          "mapbox": {
           "style": "light"
          },
          "paper_bgcolor": "white",
          "plot_bgcolor": "#E5ECF6",
          "polar": {
           "angularaxis": {
            "gridcolor": "white",
            "linecolor": "white",
            "ticks": ""
           },
           "bgcolor": "#E5ECF6",
           "radialaxis": {
            "gridcolor": "white",
            "linecolor": "white",
            "ticks": ""
           }
          },
          "scene": {
           "xaxis": {
            "backgroundcolor": "#E5ECF6",
            "gridcolor": "white",
            "gridwidth": 2,
            "linecolor": "white",
            "showbackground": true,
            "ticks": "",
            "zerolinecolor": "white"
           },
           "yaxis": {
            "backgroundcolor": "#E5ECF6",
            "gridcolor": "white",
            "gridwidth": 2,
            "linecolor": "white",
            "showbackground": true,
            "ticks": "",
            "zerolinecolor": "white"
           },
           "zaxis": {
            "backgroundcolor": "#E5ECF6",
            "gridcolor": "white",
            "gridwidth": 2,
            "linecolor": "white",
            "showbackground": true,
            "ticks": "",
            "zerolinecolor": "white"
           }
          },
          "shapedefaults": {
           "line": {
            "color": "#2a3f5f"
           }
          },
          "ternary": {
           "aaxis": {
            "gridcolor": "white",
            "linecolor": "white",
            "ticks": ""
           },
           "baxis": {
            "gridcolor": "white",
            "linecolor": "white",
            "ticks": ""
           },
           "bgcolor": "#E5ECF6",
           "caxis": {
            "gridcolor": "white",
            "linecolor": "white",
            "ticks": ""
           }
          },
          "title": {
           "x": 0.05
          },
          "xaxis": {
           "automargin": true,
           "gridcolor": "white",
           "linecolor": "white",
           "ticks": "",
           "title": {
            "standoff": 15
           },
           "zerolinecolor": "white",
           "zerolinewidth": 2
          },
          "yaxis": {
           "automargin": true,
           "gridcolor": "white",
           "linecolor": "white",
           "ticks": "",
           "title": {
            "standoff": 15
           },
           "zerolinecolor": "white",
           "zerolinewidth": 2
          }
         }
        },
        "title": {
         "text": ""
        },
        "width": 800,
        "xaxis": {
         "anchor": "y",
         "categoryarray": [
          "relu",
          "tanh",
          "sigmoid"
         ],
         "categoryorder": "array",
         "domain": [
          0,
          0.45
         ],
         "title": {
          "text": "activation_mlp"
         },
         "type": "category"
        },
        "xaxis2": {
         "anchor": "y2",
         "categoryarray": [
          "512-256-128",
          "256-128",
          "128",
          "128-64-32"
         ],
         "categoryorder": "array",
         "domain": [
          0.55,
          1
         ],
         "title": {
          "text": "hidden_size_mlp"
         },
         "type": "category"
        },
        "yaxis": {
         "anchor": "x",
         "domain": [
          0,
          1
         ],
         "title": {
          "text": "Objective Value"
         }
        },
        "yaxis2": {
         "anchor": "x2",
         "domain": [
          0,
          1
         ],
         "matches": "y",
         "showticklabels": false
        }
       }
      },
      "image/png": "[encoded data removed]"
     },
     "metadata": {},
     "output_type": "display_data"
    }
   ],
   "source": [
    "import optuna\n",
    "\n",
    "param_names = list(study.best_params.keys())\n",
    "\n",
    "for i in range(0, len(param_names), 2):\n",
    "    param_chunk = param_names[i:i+2]\n",
    "    fig = optuna.visualization.plot_slice(study, params=param_chunk)\n",
    "    fig.update_layout(\n",
    "        title='',\n",
    "        width=800,\n",
    "        height=400\n",
    "    )\n",
    "    fig.show()"
   ]
  },
  {
   "cell_type": "code",
   "execution_count": 8,
   "id": "09c6b45d-be17-4b44-b0e9-bd97e5c8f9e7",
   "metadata": {},
   "outputs": [
    {
     "data": {
      "application/vnd.plotly.v1+json": {
       "config": {
        "plotlyServerURL": "https://plot.ly"
       },
       "data": [
        {
         "dimensions": [
          {
           "label": "Objective Value",
           "range": [
            0.10225827991962433,
            0.174366295337677
           ],
           "values": [
            0.10631066560745239,
            0.11012180149555206,
            0.10999231785535812,
            0.11141107231378555,
            0.10858513414859772,
            0.10367405414581299,
            0.1056150421500206,
            0.11006674915552139,
            0.10657066106796265,
            0.13529716432094574,
            0.10544633865356445,
            0.10597499459981918,
            0.10582134872674942,
            0.10536712408065796,
            0.10225827991962433,
            0.10922171920537949,
            0.11171307414770126,
            0.10710615664720535,
            0.10235967487096786,
            0.1065652072429657,
            0.13272850215435028,
            0.10816462337970734,
            0.11073146015405655,
            0.10251719504594803,
            0.15889029204845428,
            0.174366295337677,
            0.12198865413665771,
            0.10705174505710602,
            0.12727271020412445,
            0.11024318635463715,
            0.10849607735872269,
            0.14147961139678955,
            0.14841584861278534,
            0.11190564185380936,
            0.10981424152851105,
            0.10662908852100372
           ]
          },
          {
           "label": "activation_mlp",
           "range": [
            0,
            2
           ],
           "ticktext": [
            "tanh",
            "relu",
            "sigmoid"
           ],
           "tickvals": [
            0,
            1,
            2
           ],
           "values": [
            0,
            0,
            0,
            2,
            0,
            0,
            0,
            0,
            0,
            0,
            1,
            1,
            1,
            0,
            0,
            2,
            2,
            0,
            0,
            0,
            0,
            1,
            2,
            0,
            0,
            1,
            1,
            0,
            0,
            0,
            0,
            1,
            1,
            0,
            1,
            0
           ]
          },
          {
           "label": "dropout_mlp",
           "range": [
            0,
            2
           ],
           "ticktext": [
            "0",
            "0.1",
            "0.3"
           ],
           "tickvals": [
            0,
            1,
            2
           ],
           "values": [
            0,
            0,
            0,
            0,
            0,
            0,
            0,
            0,
            0,
            0,
            0,
            0,
            0,
            0,
            0,
            0,
            0,
            0,
            0,
            0,
            0,
            0,
            0,
            0,
            1,
            1,
            1,
            1,
            1,
            1,
            2,
            2,
            2,
            2,
            2,
            2
           ]
          },
          {
           "label": "hidden_size_mlp",
           "range": [
            0,
            3
           ],
           "ticktext": [
            "512-256-128",
            "128",
            "128-64-32",
            "256-128"
           ],
           "tickvals": [
            0,
            1,
            2,
            3
           ],
           "values": [
            2,
            1,
            2,
            2,
            1,
            2,
            0,
            1,
            3,
            2,
            1,
            2,
            2,
            2,
            2,
            3,
            2,
            1,
            2,
            0,
            2,
            2,
            2,
            0,
            0,
            2,
            0,
            2,
            2,
            1,
            0,
            1,
            2,
            2,
            0,
            2
           ]
          },
          {
           "label": "lr",
           "range": [
            0,
            2
           ],
           "ticktext": [
            "0.0001",
            "0.00033",
            "0.001"
           ],
           "tickvals": [
            0,
            1,
            2
           ],
           "values": [
            0,
            0,
            0,
            0,
            0,
            1,
            1,
            1,
            1,
            1,
            1,
            1,
            1,
            1,
            2,
            2,
            2,
            2,
            2,
            2,
            2,
            2,
            2,
            2,
            0,
            0,
            2,
            2,
            2,
            2,
            1,
            1,
            1,
            1,
            2,
            2
           ]
          },
          {
           "label": "optim",
           "range": [
            0,
            2
           ],
           "ticktext": [
            "adam",
            "SGD",
            "adamw"
           ],
           "tickvals": [
            0,
            1,
            2
           ],
           "values": [
            2,
            2,
            0,
            0,
            0,
            2,
            2,
            2,
            2,
            1,
            0,
            0,
            2,
            0,
            2,
            0,
            2,
            2,
            0,
            0,
            1,
            0,
            0,
            2,
            1,
            1,
            1,
            2,
            1,
            0,
            0,
            1,
            1,
            2,
            2,
            0
           ]
          },
          {
           "label": "scheduler",
           "range": [
            0,
            2
           ],
           "ticktext": [
            "warmup",
            "warmup_decay_cos",
            "none"
           ],
           "tickvals": [
            0,
            1,
            2
           ],
           "values": [
            2,
            1,
            1,
            1,
            2,
            2,
            2,
            1,
            2,
            2,
            2,
            2,
            2,
            0,
            2,
            2,
            2,
            2,
            2,
            2,
            1,
            2,
            0,
            0,
            0,
            0,
            2,
            0,
            2,
            2,
            0,
            1,
            1,
            2,
            2,
            2
           ]
          }
         ],
         "labelangle": 30,
         "labelside": "bottom",
         "line": {
          "color": [
           0.10631066560745239,
           0.11012180149555206,
           0.10999231785535812,
           0.11141107231378555,
           0.10858513414859772,
           0.10367405414581299,
           0.1056150421500206,
           0.11006674915552139,
           0.10657066106796265,
           0.13529716432094574,
           0.10544633865356445,
           0.10597499459981918,
           0.10582134872674942,
           0.10536712408065796,
           0.10225827991962433,
           0.10922171920537949,
           0.11171307414770126,
           0.10710615664720535,
           0.10235967487096786,
           0.1065652072429657,
           0.13272850215435028,
           0.10816462337970734,
           0.11073146015405655,
           0.10251719504594803,
           0.15889029204845428,
           0.174366295337677,
           0.12198865413665771,
           0.10705174505710602,
           0.12727271020412445,
           0.11024318635463715,
           0.10849607735872269,
           0.14147961139678955,
           0.14841584861278534,
           0.11190564185380936,
           0.10981424152851105,
           0.10662908852100372
          ],
          "colorbar": {
           "title": {
            "text": "Objective Value"
           }
          },
          "colorscale": [
           [
            0,
            "rgb(247,251,255)"
           ],
           [
            0.125,
            "rgb(222,235,247)"
           ],
           [
            0.25,
            "rgb(198,219,239)"
           ],
           [
            0.375,
            "rgb(158,202,225)"
           ],
           [
            0.5,
            "rgb(107,174,214)"
           ],
           [
            0.625,
            "rgb(66,146,198)"
           ],
           [
            0.75,
            "rgb(33,113,181)"
           ],
           [
            0.875,
            "rgb(8,81,156)"
           ],
           [
            1,
            "rgb(8,48,107)"
           ]
          ],
          "reversescale": true,
          "showscale": true
         },
         "type": "parcoords"
        }
       ],
       "layout": {
        "template": {
         "data": {
          "bar": [
           {
            "error_x": {
             "color": "#2a3f5f"
            },
            "error_y": {
             "color": "#2a3f5f"
            },
            "marker": {
             "line": {
              "color": "#E5ECF6",
              "width": 0.5
             },
             "pattern": {
              "fillmode": "overlay",
              "size": 10,
              "solidity": 0.2
             }
            },
            "type": "bar"
           }
          ],
          "barpolar": [
           {
            "marker": {
             "line": {
              "color": "#E5ECF6",
              "width": 0.5
             },
             "pattern": {
              "fillmode": "overlay",
              "size": 10,
              "solidity": 0.2
             }
            },
            "type": "barpolar"
           }
          ],
          "carpet": [
           {
            "aaxis": {
             "endlinecolor": "#2a3f5f",
             "gridcolor": "white",
             "linecolor": "white",
             "minorgridcolor": "white",
             "startlinecolor": "#2a3f5f"
            },
            "baxis": {
             "endlinecolor": "#2a3f5f",
             "gridcolor": "white",
             "linecolor": "white",
             "minorgridcolor": "white",
             "startlinecolor": "#2a3f5f"
            },
            "type": "carpet"
           }
          ],
          "choropleth": [
           {
            "colorbar": {
             "outlinewidth": 0,
             "ticks": ""
            },
            "type": "choropleth"
           }
          ],
          "contour": [
           {
            "colorbar": {
             "outlinewidth": 0,
             "ticks": ""
            },
            "colorscale": [
             [
              0,
              "#0d0887"
             ],
             [
              0.1111111111111111,
              "#46039f"
             ],
             [
              0.2222222222222222,
              "#7201a8"
             ],
             [
              0.3333333333333333,
              "#9c179e"
             ],
             [
              0.4444444444444444,
              "#bd3786"
             ],
             [
              0.5555555555555556,
              "#d8576b"
             ],
             [
              0.6666666666666666,
              "#ed7953"
             ],
             [
              0.7777777777777778,
              "#fb9f3a"
             ],
             [
              0.8888888888888888,
              "#fdca26"
             ],
             [
              1,
              "#f0f921"
             ]
            ],
            "type": "contour"
           }
          ],
          "contourcarpet": [
           {
            "colorbar": {
             "outlinewidth": 0,
             "ticks": ""
            },
            "type": "contourcarpet"
           }
          ],
          "heatmap": [
           {
            "colorbar": {
             "outlinewidth": 0,
             "ticks": ""
            },
            "colorscale": [
             [
              0,
              "#0d0887"
             ],
             [
              0.1111111111111111,
              "#46039f"
             ],
             [
              0.2222222222222222,
              "#7201a8"
             ],
             [
              0.3333333333333333,
              "#9c179e"
             ],
             [
              0.4444444444444444,
              "#bd3786"
             ],
             [
              0.5555555555555556,
              "#d8576b"
             ],
             [
              0.6666666666666666,
              "#ed7953"
             ],
             [
              0.7777777777777778,
              "#fb9f3a"
             ],
             [
              0.8888888888888888,
              "#fdca26"
             ],
             [
              1,
              "#f0f921"
             ]
            ],
            "type": "heatmap"
           }
          ],
          "histogram": [
           {
            "marker": {
             "pattern": {
              "fillmode": "overlay",
              "size": 10,
              "solidity": 0.2
             }
            },
            "type": "histogram"
           }
          ],
          "histogram2d": [
           {
            "colorbar": {
             "outlinewidth": 0,
             "ticks": ""
            },
            "colorscale": [
             [
              0,
              "#0d0887"
             ],
             [
              0.1111111111111111,
              "#46039f"
             ],
             [
              0.2222222222222222,
              "#7201a8"
             ],
             [
              0.3333333333333333,
              "#9c179e"
             ],
             [
              0.4444444444444444,
              "#bd3786"
             ],
             [
              0.5555555555555556,
              "#d8576b"
             ],
             [
              0.6666666666666666,
              "#ed7953"
             ],
             [
              0.7777777777777778,
              "#fb9f3a"
             ],
             [
              0.8888888888888888,
              "#fdca26"
             ],
             [
              1,
              "#f0f921"
             ]
            ],
            "type": "histogram2d"
           }
          ],
          "histogram2dcontour": [
           {
            "colorbar": {
             "outlinewidth": 0,
             "ticks": ""
            },
            "colorscale": [
             [
              0,
              "#0d0887"
             ],
             [
              0.1111111111111111,
              "#46039f"
             ],
             [
              0.2222222222222222,
              "#7201a8"
             ],
             [
              0.3333333333333333,
              "#9c179e"
             ],
             [
              0.4444444444444444,
              "#bd3786"
             ],
             [
              0.5555555555555556,
              "#d8576b"
             ],
             [
              0.6666666666666666,
              "#ed7953"
             ],
             [
              0.7777777777777778,
              "#fb9f3a"
             ],
             [
              0.8888888888888888,
              "#fdca26"
             ],
             [
              1,
              "#f0f921"
             ]
            ],
            "type": "histogram2dcontour"
           }
          ],
          "mesh3d": [
           {
            "colorbar": {
             "outlinewidth": 0,
             "ticks": ""
            },
            "type": "mesh3d"
           }
          ],
          "parcoords": [
           {
            "line": {
             "colorbar": {
              "outlinewidth": 0,
              "ticks": ""
             }
            },
            "type": "parcoords"
           }
          ],
          "pie": [
           {
            "automargin": true,
            "type": "pie"
           }
          ],
          "scatter": [
           {
            "fillpattern": {
             "fillmode": "overlay",
             "size": 10,
             "solidity": 0.2
            },
            "type": "scatter"
           }
          ],
          "scatter3d": [
           {
            "line": {
             "colorbar": {
              "outlinewidth": 0,
              "ticks": ""
             }
            },
            "marker": {
             "colorbar": {
              "outlinewidth": 0,
              "ticks": ""
             }
            },
            "type": "scatter3d"
           }
          ],
          "scattercarpet": [
           {
            "marker": {
             "colorbar": {
              "outlinewidth": 0,
              "ticks": ""
             }
            },
            "type": "scattercarpet"
           }
          ],
          "scattergeo": [
           {
            "marker": {
             "colorbar": {
              "outlinewidth": 0,
              "ticks": ""
             }
            },
            "type": "scattergeo"
           }
          ],
          "scattergl": [
           {
            "marker": {
             "colorbar": {
              "outlinewidth": 0,
              "ticks": ""
             }
            },
            "type": "scattergl"
           }
          ],
          "scattermap": [
           {
            "marker": {
             "colorbar": {
              "outlinewidth": 0,
              "ticks": ""
             }
            },
            "type": "scattermap"
           }
          ],
          "scattermapbox": [
           {
            "marker": {
             "colorbar": {
              "outlinewidth": 0,
              "ticks": ""
             }
            },
            "type": "scattermapbox"
           }
          ],
          "scatterpolar": [
           {
            "marker": {
             "colorbar": {
              "outlinewidth": 0,
              "ticks": ""
             }
            },
            "type": "scatterpolar"
           }
          ],
          "scatterpolargl": [
           {
            "marker": {
             "colorbar": {
              "outlinewidth": 0,
              "ticks": ""
             }
            },
            "type": "scatterpolargl"
           }
          ],
          "scatterternary": [
           {
            "marker": {
             "colorbar": {
              "outlinewidth": 0,
              "ticks": ""
             }
            },
            "type": "scatterternary"
           }
          ],
          "surface": [
           {
            "colorbar": {
             "outlinewidth": 0,
             "ticks": ""
            },
            "colorscale": [
             [
              0,
              "#0d0887"
             ],
             [
              0.1111111111111111,
              "#46039f"
             ],
             [
              0.2222222222222222,
              "#7201a8"
             ],
             [
              0.3333333333333333,
              "#9c179e"
             ],
             [
              0.4444444444444444,
              "#bd3786"
             ],
             [
              0.5555555555555556,
              "#d8576b"
             ],
             [
              0.6666666666666666,
              "#ed7953"
             ],
             [
              0.7777777777777778,
              "#fb9f3a"
             ],
             [
              0.8888888888888888,
              "#fdca26"
             ],
             [
              1,
              "#f0f921"
             ]
            ],
            "type": "surface"
           }
          ],
          "table": [
           {
            "cells": {
             "fill": {
              "color": "#EBF0F8"
             },
             "line": {
              "color": "white"
             }
            },
            "header": {
             "fill": {
              "color": "#C8D4E3"
             },
             "line": {
              "color": "white"
             }
            },
            "type": "table"
           }
          ]
         },
         "layout": {
          "annotationdefaults": {
           "arrowcolor": "#2a3f5f",
           "arrowhead": 0,
           "arrowwidth": 1
          },
          "autotypenumbers": "strict",
          "coloraxis": {
           "colorbar": {
            "outlinewidth": 0,
            "ticks": ""
           }
          },
          "colorscale": {
           "diverging": [
            [
             0,
             "#8e0152"
            ],
            [
             0.1,
             "#c51b7d"
            ],
            [
             0.2,
             "#de77ae"
            ],
            [
             0.3,
             "#f1b6da"
            ],
            [
             0.4,
             "#fde0ef"
            ],
            [
             0.5,
             "#f7f7f7"
            ],
            [
             0.6,
             "#e6f5d0"
            ],
            [
             0.7,
             "#b8e186"
            ],
            [
             0.8,
             "#7fbc41"
            ],
            [
             0.9,
             "#4d9221"
            ],
            [
             1,
             "#276419"
            ]
           ],
           "sequential": [
            [
             0,
             "#0d0887"
            ],
            [
             0.1111111111111111,
             "#46039f"
            ],
            [
             0.2222222222222222,
             "#7201a8"
            ],
            [
             0.3333333333333333,
             "#9c179e"
            ],
            [
             0.4444444444444444,
             "#bd3786"
            ],
            [
             0.5555555555555556,
             "#d8576b"
            ],
            [
             0.6666666666666666,
             "#ed7953"
            ],
            [
             0.7777777777777778,
             "#fb9f3a"
            ],
            [
             0.8888888888888888,
             "#fdca26"
            ],
            [
             1,
             "#f0f921"
            ]
           ],
           "sequentialminus": [
            [
             0,
             "#0d0887"
            ],
            [
             0.1111111111111111,
             "#46039f"
            ],
            [
             0.2222222222222222,
             "#7201a8"
            ],
            [
             0.3333333333333333,
             "#9c179e"
            ],
            [
             0.4444444444444444,
             "#bd3786"
            ],
            [
             0.5555555555555556,
             "#d8576b"
            ],
            [
             0.6666666666666666,
             "#ed7953"
            ],
            [
             0.7777777777777778,
             "#fb9f3a"
            ],
            [
             0.8888888888888888,
             "#fdca26"
            ],
            [
             1,
             "#f0f921"
            ]
           ]
          },
          "colorway": [
           "#636efa",
           "#EF553B",
           "#00cc96",
           "#ab63fa",
           "#FFA15A",
           "#19d3f3",
           "#FF6692",
           "#B6E880",
           "#FF97FF",
           "#FECB52"
          ],
          "font": {
           "color": "#2a3f5f"
          },
          "geo": {
           "bgcolor": "white",
           "lakecolor": "white",
           "landcolor": "#E5ECF6",
           "showlakes": true,
           "showland": true,
           "subunitcolor": "white"
          },
          "hoverlabel": {
           "align": "left"
          },
          "hovermode": "closest",
          "mapbox": {
           "style": "light"
          },
          "paper_bgcolor": "white",
          "plot_bgcolor": "#E5ECF6",
          "polar": {
           "angularaxis": {
            "gridcolor": "white",
            "linecolor": "white",
            "ticks": ""
           },
           "bgcolor": "#E5ECF6",
           "radialaxis": {
            "gridcolor": "white",
            "linecolor": "white",
            "ticks": ""
           }
          },
          "scene": {
           "xaxis": {
            "backgroundcolor": "#E5ECF6",
            "gridcolor": "white",
            "gridwidth": 2,
            "linecolor": "white",
            "showbackground": true,
            "ticks": "",
            "zerolinecolor": "white"
           },
           "yaxis": {
            "backgroundcolor": "#E5ECF6",
            "gridcolor": "white",
            "gridwidth": 2,
            "linecolor": "white",
            "showbackground": true,
            "ticks": "",
            "zerolinecolor": "white"
           },
           "zaxis": {
            "backgroundcolor": "#E5ECF6",
            "gridcolor": "white",
            "gridwidth": 2,
            "linecolor": "white",
            "showbackground": true,
            "ticks": "",
            "zerolinecolor": "white"
           }
          },
          "shapedefaults": {
           "line": {
            "color": "#2a3f5f"
           }
          },
          "ternary": {
           "aaxis": {
            "gridcolor": "white",
            "linecolor": "white",
            "ticks": ""
           },
           "baxis": {
            "gridcolor": "white",
            "linecolor": "white",
            "ticks": ""
           },
           "bgcolor": "#E5ECF6",
           "caxis": {
            "gridcolor": "white",
            "linecolor": "white",
            "ticks": ""
           }
          },
          "title": {
           "x": 0.05
          },
          "xaxis": {
           "automargin": true,
           "gridcolor": "white",
           "linecolor": "white",
           "ticks": "",
           "title": {
            "standoff": 15
           },
           "zerolinecolor": "white",
           "zerolinewidth": 2
          },
          "yaxis": {
           "automargin": true,
           "gridcolor": "white",
           "linecolor": "white",
           "ticks": "",
           "title": {
            "standoff": 15
           },
           "zerolinecolor": "white",
           "zerolinewidth": 2
          }
         }
        },
        "title": {
         "text": "Parallel Coordinate Plot"
        }
       }
      },
      "image/png": "[encoded data removed]"
     },
     "metadata": {},
     "output_type": "display_data"
    }
   ],
   "source": [
    "fig = plot_parallel_coordinate(study)\n",
    "fig.show()"
   ]
  },
  {
   "cell_type": "code",
   "execution_count": 9,
   "id": "fd932427-75d2-4363-9317-8627af2c0c2a",
   "metadata": {},
   "outputs": [
    {
     "data": {
      "application/vnd.plotly.v1+json": {
       "config": {
        "plotlyServerURL": "https://plot.ly"
       },
       "data": [
        {
         "mode": "lines",
         "name": "pool_HPC",
         "type": "scatter",
         "x": {
          "bdata": "AAAAQJktuj+rqqoqVV26P1VVVRURjbo/AAAAAM28uj+rqqrqiOy6P1VVVdVEHLs/AAAAwABMuz+rqqqqvHu7P1VVVZV4q7s/AAAAgDTbuz+rqqpq8Aq8P1VVVVWsOrw/AAAAQGhqvD+rqqoqJJq8P1VVVRXgybw/AAAAAJz5vD+rqqrqVym9P1VVVdUTWb0/AAAAwM+IvT+rqqqqi7i9P1VVVZVH6L0/AAAAgAMYvj+qqqpqv0e+P1VVVVV7d74/AAAAQDenvj+qqqoq89a+P1VVVRWvBr8/AAAAAGs2vz+qqqrqJma/P1VVVdXilb8/AAAAwJ7Fvz+qqqqqWvW/P6uqqkqLEsA/AAAAQGkqwD9VVVU1R0LAP6uqqiolWsA/AAAAIANywD9VVVUV4YnAP6uqqgq/ocA/AAAAAJ25wD9VVVX1etHAP6uqqupY6cA/AAAA4DYBwT9VVVXVFBnBP6qqqsryMME/AAAAwNBIwT9VVVW1rmDBP6qqqqqMeME/AAAAoGqQwT9VVVWVSKjBP6qqqoomwME/AAAAgATYwT9VVVV14u/BP6qqqmrAB8I/AAAAYJ4fwj9VVVVVfDfCP6qqqkpaT8I/AAAAQDhnwj9VVVU1Fn/CP6qqqir0lsI/AAAAINKuwj9VVVUVsMbCP6qqqgqO3sI/AAAAAGz2wj9VVVX1SQ7DP6qqquonJsM/AAAA4AU+wz9VVVXV41XDP6qqqsrBbcM/AAAAwJ+Fwz9VVVW1fZ3DP6qqqqpbtcM/AAAAoDnNwz9VVVWVF+XDP6qqqor1/MM/AAAAgNMUxD9VVVV1sSzEP6qqqmqPRMQ/AAAAYG1cxD9VVVVVS3TEP6qqqkopjMQ/AAAAQAekxD9VVVU15bvEP6qqqirD08Q/AAAAIKHrxD9VVVUVfwPFP6qqqgpdG8U/AAAAADszxT9VVVX1GEvFP6qqqur2YsU/AAAA4NR6xT9VVVXVspLFP6qqqsqQqsU/AAAAwG7CxT9VVVW1TNrFP6qqqqoq8sU/AAAAoAgKxj9VVVWV5iHGP6qqqorEOcY/AAAAgKJRxj8=",
          "dtype": "f8"
         },
         "y": {
          "bdata": "HMdxHMdxnD9VVVVVVVW1PxzHcRzHcbw/HMdxHMdxvD8cx3Ecx3G8PxzHcRzHccw/VVVVVVVV1T+rqqqqqqraP6uqqqqqqto/AAAAAAAA4D85juM4juPgP1VVVVVVVeU/juM4juM45j8AAAAAAADoPzmO4ziO4+g/OY7jOI7j6D85juM4juPoPzmO4ziO4+g/OY7jOI7j6D85juM4juPoPzmO4ziO4+g/OY7jOI7j6D85juM4juPoPzmO4ziO4+g/OY7jOI7j6D85juM4juPoPzmO4ziO4+g/OY7jOI7j6D9yHMdxHMfpP3Icx3Ecx+k/chzHcRzH6T9yHMdxHMfpP3Icx3Ecx+k/chzHcRzH6T9yHMdxHMfpP6uqqqqqquo/q6qqqqqq6j+rqqqqqqrqP6uqqqqqquo/q6qqqqqq6j+rqqqqqqrqP6uqqqqqquo/5DiO4ziO6z/kOI7jOI7rP+Q4juM4jus/5DiO4ziO6z8cx3Ecx3HsPxzHcRzHcew/HMdxHMdx7D8cx3Ecx3HsPxzHcRzHcew/HMdxHMdx7D8cx3Ecx3HsPxzHcRzHcew/VVVVVVVV7T9VVVVVVVXtP1VVVVVVVe0/VVVVVVVV7T9VVVVVVVXtP1VVVVVVVe0/VVVVVVVV7T9VVVVVVVXtP1VVVVVVVe0/VVVVVVVV7T+O4ziO4zjuP47jOI7jOO4/juM4juM47j+O4ziO4zjuP47jOI7jOO4/juM4juM47j+O4ziO4zjuP47jOI7jOO4/juM4juM47j+O4ziO4zjuP47jOI7jOO4/juM4juM47j+O4ziO4zjuP47jOI7jOO4/x3Ecx3Ec7z/HcRzHcRzvP8dxHMdxHO8/x3Ecx3Ec7z/HcRzHcRzvP8dxHMdxHO8/x3Ecx3Ec7z/HcRzHcRzvP8dxHMdxHO8/x3Ecx3Ec7z/HcRzHcRzvP8dxHMdxHO8/x3Ecx3Ec7z/HcRzHcRzvP8dxHMdxHO8/x3Ecx3Ec7z/HcRzHcRzvP8dxHMdxHO8/x3Ecx3Ec7z/HcRzHcRzvP8dxHMdxHO8/AAAAAAAA8D8=",
          "dtype": "f8"
         }
        }
       ],
       "layout": {
        "template": {
         "data": {
          "bar": [
           {
            "error_x": {
             "color": "#2a3f5f"
            },
            "error_y": {
             "color": "#2a3f5f"
            },
            "marker": {
             "line": {
              "color": "#E5ECF6",
              "width": 0.5
             },
             "pattern": {
              "fillmode": "overlay",
              "size": 10,
              "solidity": 0.2
             }
            },
            "type": "bar"
           }
          ],
          "barpolar": [
           {
            "marker": {
             "line": {
              "color": "#E5ECF6",
              "width": 0.5
             },
             "pattern": {
              "fillmode": "overlay",
              "size": 10,
              "solidity": 0.2
             }
            },
            "type": "barpolar"
           }
          ],
          "carpet": [
           {
            "aaxis": {
             "endlinecolor": "#2a3f5f",
             "gridcolor": "white",
             "linecolor": "white",
             "minorgridcolor": "white",
             "startlinecolor": "#2a3f5f"
            },
            "baxis": {
             "endlinecolor": "#2a3f5f",
             "gridcolor": "white",
             "linecolor": "white",
             "minorgridcolor": "white",
             "startlinecolor": "#2a3f5f"
            },
            "type": "carpet"
           }
          ],
          "choropleth": [
           {
            "colorbar": {
             "outlinewidth": 0,
             "ticks": ""
            },
            "type": "choropleth"
           }
          ],
          "contour": [
           {
            "colorbar": {
             "outlinewidth": 0,
             "ticks": ""
            },
            "colorscale": [
             [
              0,
              "#0d0887"
             ],
             [
              0.1111111111111111,
              "#46039f"
             ],
             [
              0.2222222222222222,
              "#7201a8"
             ],
             [
              0.3333333333333333,
              "#9c179e"
             ],
             [
              0.4444444444444444,
              "#bd3786"
             ],
             [
              0.5555555555555556,
              "#d8576b"
             ],
             [
              0.6666666666666666,
              "#ed7953"
             ],
             [
              0.7777777777777778,
              "#fb9f3a"
             ],
             [
              0.8888888888888888,
              "#fdca26"
             ],
             [
              1,
              "#f0f921"
             ]
            ],
            "type": "contour"
           }
          ],
          "contourcarpet": [
           {
            "colorbar": {
             "outlinewidth": 0,
             "ticks": ""
            },
            "type": "contourcarpet"
           }
          ],
          "heatmap": [
           {
            "colorbar": {
             "outlinewidth": 0,
             "ticks": ""
            },
            "colorscale": [
             [
              0,
              "#0d0887"
             ],
             [
              0.1111111111111111,
              "#46039f"
             ],
             [
              0.2222222222222222,
              "#7201a8"
             ],
             [
              0.3333333333333333,
              "#9c179e"
             ],
             [
              0.4444444444444444,
              "#bd3786"
             ],
             [
              0.5555555555555556,
              "#d8576b"
             ],
             [
              0.6666666666666666,
              "#ed7953"
             ],
             [
              0.7777777777777778,
              "#fb9f3a"
             ],
             [
              0.8888888888888888,
              "#fdca26"
             ],
             [
              1,
              "#f0f921"
             ]
            ],
            "type": "heatmap"
           }
          ],
          "histogram": [
           {
            "marker": {
             "pattern": {
              "fillmode": "overlay",
              "size": 10,
              "solidity": 0.2
             }
            },
            "type": "histogram"
           }
          ],
          "histogram2d": [
           {
            "colorbar": {
             "outlinewidth": 0,
             "ticks": ""
            },
            "colorscale": [
             [
              0,
              "#0d0887"
             ],
             [
              0.1111111111111111,
              "#46039f"
             ],
             [
              0.2222222222222222,
              "#7201a8"
             ],
             [
              0.3333333333333333,
              "#9c179e"
             ],
             [
              0.4444444444444444,
              "#bd3786"
             ],
             [
              0.5555555555555556,
              "#d8576b"
             ],
             [
              0.6666666666666666,
              "#ed7953"
             ],
             [
              0.7777777777777778,
              "#fb9f3a"
             ],
             [
              0.8888888888888888,
              "#fdca26"
             ],
             [
              1,
              "#f0f921"
             ]
            ],
            "type": "histogram2d"
           }
          ],
          "histogram2dcontour": [
           {
            "colorbar": {
             "outlinewidth": 0,
             "ticks": ""
            },
            "colorscale": [
             [
              0,
              "#0d0887"
             ],
             [
              0.1111111111111111,
              "#46039f"
             ],
             [
              0.2222222222222222,
              "#7201a8"
             ],
             [
              0.3333333333333333,
              "#9c179e"
             ],
             [
              0.4444444444444444,
              "#bd3786"
             ],
             [
              0.5555555555555556,
              "#d8576b"
             ],
             [
              0.6666666666666666,
              "#ed7953"
             ],
             [
              0.7777777777777778,
              "#fb9f3a"
             ],
             [
              0.8888888888888888,
              "#fdca26"
             ],
             [
              1,
              "#f0f921"
             ]
            ],
            "type": "histogram2dcontour"
           }
          ],
          "mesh3d": [
           {
            "colorbar": {
             "outlinewidth": 0,
             "ticks": ""
            },
            "type": "mesh3d"
           }
          ],
          "parcoords": [
           {
            "line": {
             "colorbar": {
              "outlinewidth": 0,
              "ticks": ""
             }
            },
            "type": "parcoords"
           }
          ],
          "pie": [
           {
            "automargin": true,
            "type": "pie"
           }
          ],
          "scatter": [
           {
            "fillpattern": {
             "fillmode": "overlay",
             "size": 10,
             "solidity": 0.2
            },
            "type": "scatter"
           }
          ],
          "scatter3d": [
           {
            "line": {
             "colorbar": {
              "outlinewidth": 0,
              "ticks": ""
             }
            },
            "marker": {
             "colorbar": {
              "outlinewidth": 0,
              "ticks": ""
             }
            },
            "type": "scatter3d"
           }
          ],
          "scattercarpet": [
           {
            "marker": {
             "colorbar": {
              "outlinewidth": 0,
              "ticks": ""
             }
            },
            "type": "scattercarpet"
           }
          ],
          "scattergeo": [
           {
            "marker": {
             "colorbar": {
              "outlinewidth": 0,
              "ticks": ""
             }
            },
            "type": "scattergeo"
           }
          ],
          "scattergl": [
           {
            "marker": {
             "colorbar": {
              "outlinewidth": 0,
              "ticks": ""
             }
            },
            "type": "scattergl"
           }
          ],
          "scattermap": [
           {
            "marker": {
             "colorbar": {
              "outlinewidth": 0,
              "ticks": ""
             }
            },
            "type": "scattermap"
           }
          ],
          "scattermapbox": [
           {
            "marker": {
             "colorbar": {
              "outlinewidth": 0,
              "ticks": ""
             }
            },
            "type": "scattermapbox"
           }
          ],
          "scatterpolar": [
           {
            "marker": {
             "colorbar": {
              "outlinewidth": 0,
              "ticks": ""
             }
            },
            "type": "scatterpolar"
           }
          ],
          "scatterpolargl": [
           {
            "marker": {
             "colorbar": {
              "outlinewidth": 0,
              "ticks": ""
             }
            },
            "type": "scatterpolargl"
           }
          ],
          "scatterternary": [
           {
            "marker": {
             "colorbar": {
              "outlinewidth": 0,
              "ticks": ""
             }
            },
            "type": "scatterternary"
           }
          ],
          "surface": [
           {
            "colorbar": {
             "outlinewidth": 0,
             "ticks": ""
            },
            "colorscale": [
             [
              0,
              "#0d0887"
             ],
             [
              0.1111111111111111,
              "#46039f"
             ],
             [
              0.2222222222222222,
              "#7201a8"
             ],
             [
              0.3333333333333333,
              "#9c179e"
             ],
             [
              0.4444444444444444,
              "#bd3786"
             ],
             [
              0.5555555555555556,
              "#d8576b"
             ],
             [
              0.6666666666666666,
              "#ed7953"
             ],
             [
              0.7777777777777778,
              "#fb9f3a"
             ],
             [
              0.8888888888888888,
              "#fdca26"
             ],
             [
              1,
              "#f0f921"
             ]
            ],
            "type": "surface"
           }
          ],
          "table": [
           {
            "cells": {
             "fill": {
              "color": "#EBF0F8"
             },
             "line": {
              "color": "white"
             }
            },
            "header": {
             "fill": {
              "color": "#C8D4E3"
             },
             "line": {
              "color": "white"
             }
            },
            "type": "table"
           }
          ]
         },
         "layout": {
          "annotationdefaults": {
           "arrowcolor": "#2a3f5f",
           "arrowhead": 0,
           "arrowwidth": 1
          },
          "autotypenumbers": "strict",
          "coloraxis": {
           "colorbar": {
            "outlinewidth": 0,
            "ticks": ""
           }
          },
          "colorscale": {
           "diverging": [
            [
             0,
             "#8e0152"
            ],
            [
             0.1,
             "#c51b7d"
            ],
            [
             0.2,
             "#de77ae"
            ],
            [
             0.3,
             "#f1b6da"
            ],
            [
             0.4,
             "#fde0ef"
            ],
            [
             0.5,
             "#f7f7f7"
            ],
            [
             0.6,
             "#e6f5d0"
            ],
            [
             0.7,
             "#b8e186"
            ],
            [
             0.8,
             "#7fbc41"
            ],
            [
             0.9,
             "#4d9221"
            ],
            [
             1,
             "#276419"
            ]
           ],
           "sequential": [
            [
             0,
             "#0d0887"
            ],
            [
             0.1111111111111111,
             "#46039f"
            ],
            [
             0.2222222222222222,
             "#7201a8"
            ],
            [
             0.3333333333333333,
             "#9c179e"
            ],
            [
             0.4444444444444444,
             "#bd3786"
            ],
            [
             0.5555555555555556,
             "#d8576b"
            ],
            [
             0.6666666666666666,
             "#ed7953"
            ],
            [
             0.7777777777777778,
             "#fb9f3a"
            ],
            [
             0.8888888888888888,
             "#fdca26"
            ],
            [
             1,
             "#f0f921"
            ]
           ],
           "sequentialminus": [
            [
             0,
             "#0d0887"
            ],
            [
             0.1111111111111111,
             "#46039f"
            ],
            [
             0.2222222222222222,
             "#7201a8"
            ],
            [
             0.3333333333333333,
             "#9c179e"
            ],
            [
             0.4444444444444444,
             "#bd3786"
            ],
            [
             0.5555555555555556,
             "#d8576b"
            ],
            [
             0.6666666666666666,
             "#ed7953"
            ],
            [
             0.7777777777777778,
             "#fb9f3a"
            ],
            [
             0.8888888888888888,
             "#fdca26"
            ],
            [
             1,
             "#f0f921"
            ]
           ]
          },
          "colorway": [
           "#636efa",
           "#EF553B",
           "#00cc96",
           "#ab63fa",
           "#FFA15A",
           "#19d3f3",
           "#FF6692",
           "#B6E880",
           "#FF97FF",
           "#FECB52"
          ],
          "font": {
           "color": "#2a3f5f"
          },
          "geo": {
           "bgcolor": "white",
           "lakecolor": "white",
           "landcolor": "#E5ECF6",
           "showlakes": true,
           "showland": true,
           "subunitcolor": "white"
          },
          "hoverlabel": {
           "align": "left"
          },
          "hovermode": "closest",
          "mapbox": {
           "style": "light"
          },
          "paper_bgcolor": "white",
          "plot_bgcolor": "#E5ECF6",
          "polar": {
           "angularaxis": {
            "gridcolor": "white",
            "linecolor": "white",
            "ticks": ""
           },
           "bgcolor": "#E5ECF6",
           "radialaxis": {
            "gridcolor": "white",
            "linecolor": "white",
            "ticks": ""
           }
          },
          "scene": {
           "xaxis": {
            "backgroundcolor": "#E5ECF6",
            "gridcolor": "white",
            "gridwidth": 2,
            "linecolor": "white",
            "showbackground": true,
            "ticks": "",
            "zerolinecolor": "white"
           },
           "yaxis": {
            "backgroundcolor": "#E5ECF6",
            "gridcolor": "white",
            "gridwidth": 2,
            "linecolor": "white",
            "showbackground": true,
            "ticks": "",
            "zerolinecolor": "white"
           },
           "zaxis": {
            "backgroundcolor": "#E5ECF6",
            "gridcolor": "white",
            "gridwidth": 2,
            "linecolor": "white",
            "showbackground": true,
            "ticks": "",
            "zerolinecolor": "white"
           }
          },
          "shapedefaults": {
           "line": {
            "color": "#2a3f5f"
           }
          },
          "ternary": {
           "aaxis": {
            "gridcolor": "white",
            "linecolor": "white",
            "ticks": ""
           },
           "baxis": {
            "gridcolor": "white",
            "linecolor": "white",
            "ticks": ""
           },
           "bgcolor": "#E5ECF6",
           "caxis": {
            "gridcolor": "white",
            "linecolor": "white",
            "ticks": ""
           }
          },
          "title": {
           "x": 0.05
          },
          "xaxis": {
           "automargin": true,
           "gridcolor": "white",
           "linecolor": "white",
           "ticks": "",
           "title": {
            "standoff": 15
           },
           "zerolinecolor": "white",
           "zerolinewidth": 2
          },
          "yaxis": {
           "automargin": true,
           "gridcolor": "white",
           "linecolor": "white",
           "ticks": "",
           "title": {
            "standoff": 15
           },
           "zerolinecolor": "white",
           "zerolinewidth": 2
          }
         }
        },
        "title": {
         "text": "Empirical Distribution Function Plot"
        },
        "xaxis": {
         "title": {
          "text": "Objective Value"
         }
        },
        "yaxis": {
         "range": [
          0,
          1
         ],
         "title": {
          "text": "Cumulative Probability"
         }
        }
       }
      },
      "image/png": "[encoded data removed]"
     },
     "metadata": {},
     "output_type": "display_data"
    }
   ],
   "source": [
    "fig = plot_edf(study)\n",
    "fig.show()"
   ]
  },
  {
   "cell_type": "code",
   "execution_count": 10,
   "id": "bc6dbb46-51b8-4274-a7ad-ee0626a8e890",
   "metadata": {},
   "outputs": [
    {
     "data": {
      "application/vnd.plotly.v1+json": {
       "config": {
        "plotlyServerURL": "https://plot.ly"
       },
       "data": [
        {
         "base": [
          "2025-05-30T23:37:35.771407",
          "2025-05-31T00:20:32.714533",
          "2025-05-31T02:45:37.099479",
          "2025-05-31T03:27:18.016384",
          "2025-05-31T05:55:16.855220",
          "2025-05-31T06:35:47.758828",
          "2025-05-31T09:06:31.328732",
          "2025-05-31T09:46:53.948706",
          "2025-05-31T12:18:33.000900",
          "2025-05-31T12:57:49.239518",
          "2025-06-01T00:08:47.699777",
          "2025-06-01T00:14:13.472674",
          "2025-06-01T03:17:29.416461",
          "2025-06-01T03:23:05.281364",
          "2025-06-01T06:25:36.882825",
          "2025-06-01T09:36:34.196118",
          "2025-06-01T10:46:55.061414",
          "2025-06-01T15:13:45.981861",
          "2025-06-01T15:20:00.785119",
          "2025-06-01T18:26:30.033552",
          "2025-06-01T18:30:54.135195",
          "2025-06-01T21:38:13.655340",
          "2025-06-01T21:40:37.925466",
          "2025-06-02T00:56:37.135028",
          "2025-06-02T00:56:56.824097",
          "2025-06-02T04:21:22.538865",
          "2025-06-02T04:21:34.763108",
          "2025-06-02T10:24:30.584209",
          "2025-06-02T14:05:10.857913",
          "2025-06-02T14:58:08.939657",
          "2025-06-02T17:24:00.386080",
          "2025-06-02T18:16:59.044089",
          "2025-06-02T21:53:22.621461",
          "2025-06-03T01:37:14.618460",
          "2025-06-03T05:20:29.420749",
          "2025-06-03T09:10:21.992988"
         ],
         "hovertemplate": "%{text}<extra>COMPLETE</extra>",
         "marker": {
          "color": "blue"
         },
         "name": "COMPLETE",
         "orientation": "h",
         "text": [
          "{<br>  \"number\": 0,<br>  \"values\": [<br>    0.10849607735872269<br>  ],<br>  \"params\": {<br>    \"lr\": 0.00033,<br>    \"optim\": \"adam\",<br>    \"scheduler\": \"warmup\",<br>    \"dropout_mlp\": 0.3,<br>    \"hidden_size_mlp\": \"512-256-128\",<br>    \"activation_mlp\": \"tanh\"<br>  }<br>}",
          "{<br>  \"number\": 1,<br>  \"values\": [<br>    0.14147961139678955<br>  ],<br>  \"params\": {<br>    \"lr\": 0.00033,<br>    \"optim\": \"SGD\",<br>    \"scheduler\": \"warmup_decay_cos\",<br>    \"dropout_mlp\": 0.3,<br>    \"hidden_size_mlp\": \"128\",<br>    \"activation_mlp\": \"relu\"<br>  }<br>}",
          "{<br>  \"number\": 2,<br>  \"values\": [<br>    0.14841584861278534<br>  ],<br>  \"params\": {<br>    \"lr\": 0.00033,<br>    \"optim\": \"SGD\",<br>    \"scheduler\": \"warmup_decay_cos\",<br>    \"dropout_mlp\": 0.3,<br>    \"hidden_size_mlp\": \"128-64-32\",<br>    \"activation_mlp\": \"relu\"<br>  }<br>}",
          "{<br>  \"number\": 3,<br>  \"values\": [<br>    0.10225827991962433<br>  ],<br>  \"params\": {<br>    \"lr\": 0.001,<br>    \"optim\": \"adamw\",<br>    \"scheduler\": \"none\",<br>    \"dropout_mlp\": 0,<br>    \"hidden_size_mlp\": \"128-64-32\",<br>    \"activation_mlp\": \"tanh\"<br>  }<br>}",
          "{<br>  \"number\": 4,<br>  \"values\": [<br>    0.15889029204845428<br>  ],<br>  \"params\": {<br>    \"lr\": 0.0001,<br>    \"optim\": \"SGD\",<br>    \"scheduler\": \"warmup\",<br>    \"dropout_mlp\": 0.1,<br>    \"hidden_size_mlp\": \"512-256-128\",<br>    \"activation_mlp\": \"tanh\"<br>  }<br>}",
          "{<br>  \"number\": 5,<br>  \"values\": [<br>    0.10981424152851105<br>  ],<br>  \"params\": {<br>    \"lr\": 0.001,<br>    \"optim\": \"adamw\",<br>    \"scheduler\": \"none\",<br>    \"dropout_mlp\": 0.3,<br>    \"hidden_size_mlp\": \"512-256-128\",<br>    \"activation_mlp\": \"relu\"<br>  }<br>}",
          "{<br>  \"number\": 6,<br>  \"values\": [<br>    0.12198865413665771<br>  ],<br>  \"params\": {<br>    \"lr\": 0.001,<br>    \"optim\": \"SGD\",<br>    \"scheduler\": \"none\",<br>    \"dropout_mlp\": 0.1,<br>    \"hidden_size_mlp\": \"512-256-128\",<br>    \"activation_mlp\": \"relu\"<br>  }<br>}",
          "{<br>  \"number\": 7,<br>  \"values\": [<br>    0.174366295337677<br>  ],<br>  \"params\": {<br>    \"lr\": 0.0001,<br>    \"optim\": \"SGD\",<br>    \"scheduler\": \"warmup\",<br>    \"dropout_mlp\": 0.1,<br>    \"hidden_size_mlp\": \"128-64-32\",<br>    \"activation_mlp\": \"relu\"<br>  }<br>}",
          "{<br>  \"number\": 8,<br>  \"values\": [<br>    0.10367405414581299<br>  ],<br>  \"params\": {<br>    \"lr\": 0.00033,<br>    \"optim\": \"adamw\",<br>    \"scheduler\": \"none\",<br>    \"dropout_mlp\": 0,<br>    \"hidden_size_mlp\": \"128-64-32\",<br>    \"activation_mlp\": \"tanh\"<br>  }<br>}",
          "{<br>  \"number\": 9,<br>  \"values\": [<br>    0.1056150421500206<br>  ],<br>  \"params\": {<br>    \"lr\": 0.00033,<br>    \"optim\": \"adamw\",<br>    \"scheduler\": \"none\",<br>    \"dropout_mlp\": 0,<br>    \"hidden_size_mlp\": \"512-256-128\",<br>    \"activation_mlp\": \"tanh\"<br>  }<br>}",
          "{<br>  \"number\": 10,<br>  \"values\": [<br>    0.10922171920537949<br>  ],<br>  \"params\": {<br>    \"lr\": 0.001,<br>    \"optim\": \"adam\",<br>    \"scheduler\": \"none\",<br>    \"dropout_mlp\": 0,<br>    \"hidden_size_mlp\": \"256-128\",<br>    \"activation_mlp\": \"sigmoid\"<br>  }<br>}",
          "{<br>  \"number\": 11,<br>  \"values\": [<br>    0.11171307414770126<br>  ],<br>  \"params\": {<br>    \"lr\": 0.001,<br>    \"optim\": \"adamw\",<br>    \"scheduler\": \"none\",<br>    \"dropout_mlp\": 0,<br>    \"hidden_size_mlp\": \"128-64-32\",<br>    \"activation_mlp\": \"sigmoid\"<br>  }<br>}",
          "{<br>  \"number\": 12,<br>  \"values\": [<br>    0.10631066560745239<br>  ],<br>  \"params\": {<br>    \"lr\": 0.0001,<br>    \"optim\": \"adamw\",<br>    \"scheduler\": \"none\",<br>    \"dropout_mlp\": 0,<br>    \"hidden_size_mlp\": \"128-64-32\",<br>    \"activation_mlp\": \"tanh\"<br>  }<br>}",
          "{<br>  \"number\": 13,<br>  \"values\": [<br>    0.11012180149555206<br>  ],<br>  \"params\": {<br>    \"lr\": 0.0001,<br>    \"optim\": \"adamw\",<br>    \"scheduler\": \"warmup_decay_cos\",<br>    \"dropout_mlp\": 0,<br>    \"hidden_size_mlp\": \"128\",<br>    \"activation_mlp\": \"tanh\"<br>  }<br>}",
          "{<br>  \"number\": 14,<br>  \"values\": [<br>    0.11006674915552139<br>  ],<br>  \"params\": {<br>    \"lr\": 0.00033,<br>    \"optim\": \"adamw\",<br>    \"scheduler\": \"warmup_decay_cos\",<br>    \"dropout_mlp\": 0,<br>    \"hidden_size_mlp\": \"128\",<br>    \"activation_mlp\": \"tanh\"<br>  }<br>}",
          "{<br>  \"number\": 15,<br>  \"values\": [<br>    0.10705174505710602<br>  ],<br>  \"params\": {<br>    \"lr\": 0.001,<br>    \"optim\": \"adamw\",<br>    \"scheduler\": \"warmup\",<br>    \"dropout_mlp\": 0.1,<br>    \"hidden_size_mlp\": \"128-64-32\",<br>    \"activation_mlp\": \"tanh\"<br>  }<br>}",
          "{<br>  \"number\": 16,<br>  \"values\": [<br>    0.10657066106796265<br>  ],<br>  \"params\": {<br>    \"lr\": 0.00033,<br>    \"optim\": \"adamw\",<br>    \"scheduler\": \"none\",<br>    \"dropout_mlp\": 0,<br>    \"hidden_size_mlp\": \"256-128\",<br>    \"activation_mlp\": \"tanh\"<br>  }<br>}",
          "{<br>  \"number\": 17,<br>  \"values\": [<br>    0.13529716432094574<br>  ],<br>  \"params\": {<br>    \"lr\": 0.00033,<br>    \"optim\": \"SGD\",<br>    \"scheduler\": \"none\",<br>    \"dropout_mlp\": 0,<br>    \"hidden_size_mlp\": \"128-64-32\",<br>    \"activation_mlp\": \"tanh\"<br>  }<br>}",
          "{<br>  \"number\": 18,<br>  \"values\": [<br>    0.11190564185380936<br>  ],<br>  \"params\": {<br>    \"lr\": 0.00033,<br>    \"optim\": \"adamw\",<br>    \"scheduler\": \"none\",<br>    \"dropout_mlp\": 0.3,<br>    \"hidden_size_mlp\": \"128-64-32\",<br>    \"activation_mlp\": \"tanh\"<br>  }<br>}",
          "{<br>  \"number\": 19,<br>  \"values\": [<br>    0.10544633865356445<br>  ],<br>  \"params\": {<br>    \"lr\": 0.00033,<br>    \"optim\": \"adam\",<br>    \"scheduler\": \"none\",<br>    \"dropout_mlp\": 0,<br>    \"hidden_size_mlp\": \"128\",<br>    \"activation_mlp\": \"relu\"<br>  }<br>}",
          "{<br>  \"number\": 20,<br>  \"values\": [<br>    0.10710615664720535<br>  ],<br>  \"params\": {<br>    \"lr\": 0.001,<br>    \"optim\": \"adamw\",<br>    \"scheduler\": \"none\",<br>    \"dropout_mlp\": 0,<br>    \"hidden_size_mlp\": \"128\",<br>    \"activation_mlp\": \"tanh\"<br>  }<br>}",
          "{<br>  \"number\": 21,<br>  \"values\": [<br>    0.10597499459981918<br>  ],<br>  \"params\": {<br>    \"lr\": 0.00033,<br>    \"optim\": \"adam\",<br>    \"scheduler\": \"none\",<br>    \"dropout_mlp\": 0,<br>    \"hidden_size_mlp\": \"128-64-32\",<br>    \"activation_mlp\": \"relu\"<br>  }<br>}",
          "{<br>  \"number\": 22,<br>  \"values\": [<br>    0.10582134872674942<br>  ],<br>  \"params\": {<br>    \"lr\": 0.00033,<br>    \"optim\": \"adamw\",<br>    \"scheduler\": \"none\",<br>    \"dropout_mlp\": 0,<br>    \"hidden_size_mlp\": \"128-64-32\",<br>    \"activation_mlp\": \"relu\"<br>  }<br>}",
          "{<br>  \"number\": 23,<br>  \"values\": [<br>    0.10235967487096786<br>  ],<br>  \"params\": {<br>    \"lr\": 0.001,<br>    \"optim\": \"adam\",<br>    \"scheduler\": \"none\",<br>    \"dropout_mlp\": 0,<br>    \"hidden_size_mlp\": \"128-64-32\",<br>    \"activation_mlp\": \"tanh\"<br>  }<br>}",
          "{<br>  \"number\": 24,<br>  \"values\": [<br>    0.1065652072429657<br>  ],<br>  \"params\": {<br>    \"lr\": 0.001,<br>    \"optim\": \"adam\",<br>    \"scheduler\": \"none\",<br>    \"dropout_mlp\": 0,<br>    \"hidden_size_mlp\": \"512-256-128\",<br>    \"activation_mlp\": \"tanh\"<br>  }<br>}",
          "{<br>  \"number\": 25,<br>  \"values\": [<br>    0.13272850215435028<br>  ],<br>  \"params\": {<br>    \"lr\": 0.001,<br>    \"optim\": \"SGD\",<br>    \"scheduler\": \"warmup_decay_cos\",<br>    \"dropout_mlp\": 0,<br>    \"hidden_size_mlp\": \"128-64-32\",<br>    \"activation_mlp\": \"tanh\"<br>  }<br>}",
          "{<br>  \"number\": 26,<br>  \"values\": [<br>    0.10662908852100372<br>  ],<br>  \"params\": {<br>    \"lr\": 0.001,<br>    \"optim\": \"adam\",<br>    \"scheduler\": \"none\",<br>    \"dropout_mlp\": 0.3,<br>    \"hidden_size_mlp\": \"128-64-32\",<br>    \"activation_mlp\": \"tanh\"<br>  }<br>}",
          "{<br>  \"number\": 27,<br>  \"values\": [<br>    0.12727271020412445<br>  ],<br>  \"params\": {<br>    \"lr\": 0.001,<br>    \"optim\": \"SGD\",<br>    \"scheduler\": \"none\",<br>    \"dropout_mlp\": 0.1,<br>    \"hidden_size_mlp\": \"128-64-32\",<br>    \"activation_mlp\": \"tanh\"<br>  }<br>}",
          "{<br>  \"number\": 28,<br>  \"values\": [<br>    0.10536712408065796<br>  ],<br>  \"params\": {<br>    \"lr\": 0.00033,<br>    \"optim\": \"adam\",<br>    \"scheduler\": \"warmup\",<br>    \"dropout_mlp\": 0,<br>    \"hidden_size_mlp\": \"128-64-32\",<br>    \"activation_mlp\": \"tanh\"<br>  }<br>}",
          "{<br>  \"number\": 29,<br>  \"values\": [<br>    0.10999231785535812<br>  ],<br>  \"params\": {<br>    \"lr\": 0.0001,<br>    \"optim\": \"adam\",<br>    \"scheduler\": \"warmup_decay_cos\",<br>    \"dropout_mlp\": 0,<br>    \"hidden_size_mlp\": \"128-64-32\",<br>    \"activation_mlp\": \"tanh\"<br>  }<br>}",
          "{<br>  \"number\": 30,<br>  \"values\": [<br>    0.11141107231378555<br>  ],<br>  \"params\": {<br>    \"lr\": 0.0001,<br>    \"optim\": \"adam\",<br>    \"scheduler\": \"warmup_decay_cos\",<br>    \"dropout_mlp\": 0,<br>    \"hidden_size_mlp\": \"128-64-32\",<br>    \"activation_mlp\": \"sigmoid\"<br>  }<br>}",
          "{<br>  \"number\": 31,<br>  \"values\": [<br>    0.10816462337970734<br>  ],<br>  \"params\": {<br>    \"lr\": 0.001,<br>    \"optim\": \"adam\",<br>    \"scheduler\": \"none\",<br>    \"dropout_mlp\": 0,<br>    \"hidden_size_mlp\": \"128-64-32\",<br>    \"activation_mlp\": \"relu\"<br>  }<br>}",
          "{<br>  \"number\": 32,<br>  \"values\": [<br>    0.11024318635463715<br>  ],<br>  \"params\": {<br>    \"lr\": 0.001,<br>    \"optim\": \"adam\",<br>    \"scheduler\": \"none\",<br>    \"dropout_mlp\": 0.1,<br>    \"hidden_size_mlp\": \"128\",<br>    \"activation_mlp\": \"tanh\"<br>  }<br>}",
          "{<br>  \"number\": 33,<br>  \"values\": [<br>    0.10858513414859772<br>  ],<br>  \"params\": {<br>    \"lr\": 0.0001,<br>    \"optim\": \"adam\",<br>    \"scheduler\": \"none\",<br>    \"dropout_mlp\": 0,<br>    \"hidden_size_mlp\": \"128\",<br>    \"activation_mlp\": \"tanh\"<br>  }<br>}",
          "{<br>  \"number\": 34,<br>  \"values\": [<br>    0.11073146015405655<br>  ],<br>  \"params\": {<br>    \"lr\": 0.001,<br>    \"optim\": \"adam\",<br>    \"scheduler\": \"warmup\",<br>    \"dropout_mlp\": 0,<br>    \"hidden_size_mlp\": \"128-64-32\",<br>    \"activation_mlp\": \"sigmoid\"<br>  }<br>}",
          "{<br>  \"number\": 35,<br>  \"values\": [<br>    0.10251719504594803<br>  ],<br>  \"params\": {<br>    \"lr\": 0.001,<br>    \"optim\": \"adamw\",<br>    \"scheduler\": \"warmup\",<br>    \"dropout_mlp\": 0,<br>    \"hidden_size_mlp\": \"512-256-128\",<br>    \"activation_mlp\": \"tanh\"<br>  }<br>}"
         ],
         "textposition": "none",
         "type": "bar",
         "x": [
          11281171.431,
          11205183.832,
          11379574.508,
          11309587.86,
          11474315.865,
          11466060.689,
          11521502.99,
          11455163.570999999,
          11566875.721,
          11463450.734,
          11321503.784,
          11331630.219999999,
          11287318.648,
          11383482.908,
          11457161.985000001,
          11548544.421,
          11185164.364,
          11562865.354,
          11452743.495000001,
          11503406.332,
          11382647.124,
          11903348.894000001,
          11778760.045000002,
          12297461.706,
          12265538.167000001,
          12247875.652999999,
          12276979.574000001,
          13240072.733000001,
          11928823.925999999,
          11929205.323,
          12834786.133,
          12982763.292,
          13431092.571999999,
          13394013.963,
          13791085.247000001,
          14646933.66
         ],
         "y": [
          0,
          1,
          2,
          3,
          4,
          5,
          6,
          7,
          8,
          9,
          10,
          11,
          12,
          13,
          14,
          15,
          16,
          17,
          18,
          19,
          20,
          21,
          22,
          23,
          24,
          25,
          26,
          27,
          28,
          29,
          30,
          31,
          32,
          33,
          34,
          35
         ]
        }
       ],
       "layout": {
        "showlegend": true,
        "template": {
         "data": {
          "bar": [
           {
            "error_x": {
             "color": "#2a3f5f"
            },
            "error_y": {
             "color": "#2a3f5f"
            },
            "marker": {
             "line": {
              "color": "#E5ECF6",
              "width": 0.5
             },
             "pattern": {
              "fillmode": "overlay",
              "size": 10,
              "solidity": 0.2
             }
            },
            "type": "bar"
           }
          ],
          "barpolar": [
           {
            "marker": {
             "line": {
              "color": "#E5ECF6",
              "width": 0.5
             },
             "pattern": {
              "fillmode": "overlay",
              "size": 10,
              "solidity": 0.2
             }
            },
            "type": "barpolar"
           }
          ],
          "carpet": [
           {
            "aaxis": {
             "endlinecolor": "#2a3f5f",
             "gridcolor": "white",
             "linecolor": "white",
             "minorgridcolor": "white",
             "startlinecolor": "#2a3f5f"
            },
            "baxis": {
             "endlinecolor": "#2a3f5f",
             "gridcolor": "white",
             "linecolor": "white",
             "minorgridcolor": "white",
             "startlinecolor": "#2a3f5f"
            },
            "type": "carpet"
           }
          ],
          "choropleth": [
           {
            "colorbar": {
             "outlinewidth": 0,
             "ticks": ""
            },
            "type": "choropleth"
           }
          ],
          "contour": [
           {
            "colorbar": {
             "outlinewidth": 0,
             "ticks": ""
            },
            "colorscale": [
             [
              0,
              "#0d0887"
             ],
             [
              0.1111111111111111,
              "#46039f"
             ],
             [
              0.2222222222222222,
              "#7201a8"
             ],
             [
              0.3333333333333333,
              "#9c179e"
             ],
             [
              0.4444444444444444,
              "#bd3786"
             ],
             [
              0.5555555555555556,
              "#d8576b"
             ],
             [
              0.6666666666666666,
              "#ed7953"
             ],
             [
              0.7777777777777778,
              "#fb9f3a"
             ],
             [
              0.8888888888888888,
              "#fdca26"
             ],
             [
              1,
              "#f0f921"
             ]
            ],
            "type": "contour"
           }
          ],
          "contourcarpet": [
           {
            "colorbar": {
             "outlinewidth": 0,
             "ticks": ""
            },
            "type": "contourcarpet"
           }
          ],
          "heatmap": [
           {
            "colorbar": {
             "outlinewidth": 0,
             "ticks": ""
            },
            "colorscale": [
             [
              0,
              "#0d0887"
             ],
             [
              0.1111111111111111,
              "#46039f"
             ],
             [
              0.2222222222222222,
              "#7201a8"
             ],
             [
              0.3333333333333333,
              "#9c179e"
             ],
             [
              0.4444444444444444,
              "#bd3786"
             ],
             [
              0.5555555555555556,
              "#d8576b"
             ],
             [
              0.6666666666666666,
              "#ed7953"
             ],
             [
              0.7777777777777778,
              "#fb9f3a"
             ],
             [
              0.8888888888888888,
              "#fdca26"
             ],
             [
              1,
              "#f0f921"
             ]
            ],
            "type": "heatmap"
           }
          ],
          "histogram": [
           {
            "marker": {
             "pattern": {
              "fillmode": "overlay",
              "size": 10,
              "solidity": 0.2
             }
            },
            "type": "histogram"
           }
          ],
          "histogram2d": [
           {
            "colorbar": {
             "outlinewidth": 0,
             "ticks": ""
            },
            "colorscale": [
             [
              0,
              "#0d0887"
             ],
             [
              0.1111111111111111,
              "#46039f"
             ],
             [
              0.2222222222222222,
              "#7201a8"
             ],
             [
              0.3333333333333333,
              "#9c179e"
             ],
             [
              0.4444444444444444,
              "#bd3786"
             ],
             [
              0.5555555555555556,
              "#d8576b"
             ],
             [
              0.6666666666666666,
              "#ed7953"
             ],
             [
              0.7777777777777778,
              "#fb9f3a"
             ],
             [
              0.8888888888888888,
              "#fdca26"
             ],
             [
              1,
              "#f0f921"
             ]
            ],
            "type": "histogram2d"
           }
          ],
          "histogram2dcontour": [
           {
            "colorbar": {
             "outlinewidth": 0,
             "ticks": ""
            },
            "colorscale": [
             [
              0,
              "#0d0887"
             ],
             [
              0.1111111111111111,
              "#46039f"
             ],
             [
              0.2222222222222222,
              "#7201a8"
             ],
             [
              0.3333333333333333,
              "#9c179e"
             ],
             [
              0.4444444444444444,
              "#bd3786"
             ],
             [
              0.5555555555555556,
              "#d8576b"
             ],
             [
              0.6666666666666666,
              "#ed7953"
             ],
             [
              0.7777777777777778,
              "#fb9f3a"
             ],
             [
              0.8888888888888888,
              "#fdca26"
             ],
             [
              1,
              "#f0f921"
             ]
            ],
            "type": "histogram2dcontour"
           }
          ],
          "mesh3d": [
           {
            "colorbar": {
             "outlinewidth": 0,
             "ticks": ""
            },
            "type": "mesh3d"
           }
          ],
          "parcoords": [
           {
            "line": {
             "colorbar": {
              "outlinewidth": 0,
              "ticks": ""
             }
            },
            "type": "parcoords"
           }
          ],
          "pie": [
           {
            "automargin": true,
            "type": "pie"
           }
          ],
          "scatter": [
           {
            "fillpattern": {
             "fillmode": "overlay",
             "size": 10,
             "solidity": 0.2
            },
            "type": "scatter"
           }
          ],
          "scatter3d": [
           {
            "line": {
             "colorbar": {
              "outlinewidth": 0,
              "ticks": ""
             }
            },
            "marker": {
             "colorbar": {
              "outlinewidth": 0,
              "ticks": ""
             }
            },
            "type": "scatter3d"
           }
          ],
          "scattercarpet": [
           {
            "marker": {
             "colorbar": {
              "outlinewidth": 0,
              "ticks": ""
             }
            },
            "type": "scattercarpet"
           }
          ],
          "scattergeo": [
           {
            "marker": {
             "colorbar": {
              "outlinewidth": 0,
              "ticks": ""
             }
            },
            "type": "scattergeo"
           }
          ],
          "scattergl": [
           {
            "marker": {
             "colorbar": {
              "outlinewidth": 0,
              "ticks": ""
             }
            },
            "type": "scattergl"
           }
          ],
          "scattermap": [
           {
            "marker": {
             "colorbar": {
              "outlinewidth": 0,
              "ticks": ""
             }
            },
            "type": "scattermap"
           }
          ],
          "scattermapbox": [
           {
            "marker": {
             "colorbar": {
              "outlinewidth": 0,
              "ticks": ""
             }
            },
            "type": "scattermapbox"
           }
          ],
          "scatterpolar": [
           {
            "marker": {
             "colorbar": {
              "outlinewidth": 0,
              "ticks": ""
             }
            },
            "type": "scatterpolar"
           }
          ],
          "scatterpolargl": [
           {
            "marker": {
             "colorbar": {
              "outlinewidth": 0,
              "ticks": ""
             }
            },
            "type": "scatterpolargl"
           }
          ],
          "scatterternary": [
           {
            "marker": {
             "colorbar": {
              "outlinewidth": 0,
              "ticks": ""
             }
            },
            "type": "scatterternary"
           }
          ],
          "surface": [
           {
            "colorbar": {
             "outlinewidth": 0,
             "ticks": ""
            },
            "colorscale": [
             [
              0,
              "#0d0887"
             ],
             [
              0.1111111111111111,
              "#46039f"
             ],
             [
              0.2222222222222222,
              "#7201a8"
             ],
             [
              0.3333333333333333,
              "#9c179e"
             ],
             [
              0.4444444444444444,
              "#bd3786"
             ],
             [
              0.5555555555555556,
              "#d8576b"
             ],
             [
              0.6666666666666666,
              "#ed7953"
             ],
             [
              0.7777777777777778,
              "#fb9f3a"
             ],
             [
              0.8888888888888888,
              "#fdca26"
             ],
             [
              1,
              "#f0f921"
             ]
            ],
            "type": "surface"
           }
          ],
          "table": [
           {
            "cells": {
             "fill": {
              "color": "#EBF0F8"
             },
             "line": {
              "color": "white"
             }
            },
            "header": {
             "fill": {
              "color": "#C8D4E3"
             },
             "line": {
              "color": "white"
             }
            },
            "type": "table"
           }
          ]
         },
         "layout": {
          "annotationdefaults": {
           "arrowcolor": "#2a3f5f",
           "arrowhead": 0,
           "arrowwidth": 1
          },
          "autotypenumbers": "strict",
          "coloraxis": {
           "colorbar": {
            "outlinewidth": 0,
            "ticks": ""
           }
          },
          "colorscale": {
           "diverging": [
            [
             0,
             "#8e0152"
            ],
            [
             0.1,
             "#c51b7d"
            ],
            [
             0.2,
             "#de77ae"
            ],
            [
             0.3,
             "#f1b6da"
            ],
            [
             0.4,
             "#fde0ef"
            ],
            [
             0.5,
             "#f7f7f7"
            ],
            [
             0.6,
             "#e6f5d0"
            ],
            [
             0.7,
             "#b8e186"
            ],
            [
             0.8,
             "#7fbc41"
            ],
            [
             0.9,
             "#4d9221"
            ],
            [
             1,
             "#276419"
            ]
           ],
           "sequential": [
            [
             0,
             "#0d0887"
            ],
            [
             0.1111111111111111,
             "#46039f"
            ],
            [
             0.2222222222222222,
             "#7201a8"
            ],
            [
             0.3333333333333333,
             "#9c179e"
            ],
            [
             0.4444444444444444,
             "#bd3786"
            ],
            [
             0.5555555555555556,
             "#d8576b"
            ],
            [
             0.6666666666666666,
             "#ed7953"
            ],
            [
             0.7777777777777778,
             "#fb9f3a"
            ],
            [
             0.8888888888888888,
             "#fdca26"
            ],
            [
             1,
             "#f0f921"
            ]
           ],
           "sequentialminus": [
            [
             0,
             "#0d0887"
            ],
            [
             0.1111111111111111,
             "#46039f"
            ],
            [
             0.2222222222222222,
             "#7201a8"
            ],
            [
             0.3333333333333333,
             "#9c179e"
            ],
            [
             0.4444444444444444,
             "#bd3786"
            ],
            [
             0.5555555555555556,
             "#d8576b"
            ],
            [
             0.6666666666666666,
             "#ed7953"
            ],
            [
             0.7777777777777778,
             "#fb9f3a"
            ],
            [
             0.8888888888888888,
             "#fdca26"
            ],
            [
             1,
             "#f0f921"
            ]
           ]
          },
          "colorway": [
           "#636efa",
           "#EF553B",
           "#00cc96",
           "#ab63fa",
           "#FFA15A",
           "#19d3f3",
           "#FF6692",
           "#B6E880",
           "#FF97FF",
           "#FECB52"
          ],
          "font": {
           "color": "#2a3f5f"
          },
          "geo": {
           "bgcolor": "white",
           "lakecolor": "white",
           "landcolor": "#E5ECF6",
           "showlakes": true,
           "showland": true,
           "subunitcolor": "white"
          },
          "hoverlabel": {
           "align": "left"
          },
          "hovermode": "closest",
          "mapbox": {
           "style": "light"
          },
          "paper_bgcolor": "white",
          "plot_bgcolor": "#E5ECF6",
          "polar": {
           "angularaxis": {
            "gridcolor": "white",
            "linecolor": "white",
            "ticks": ""
           },
           "bgcolor": "#E5ECF6",
           "radialaxis": {
            "gridcolor": "white",
            "linecolor": "white",
            "ticks": ""
           }
          },
          "scene": {
           "xaxis": {
            "backgroundcolor": "#E5ECF6",
            "gridcolor": "white",
            "gridwidth": 2,
            "linecolor": "white",
            "showbackground": true,
            "ticks": "",
            "zerolinecolor": "white"
           },
           "yaxis": {
            "backgroundcolor": "#E5ECF6",
            "gridcolor": "white",
            "gridwidth": 2,
            "linecolor": "white",
            "showbackground": true,
            "ticks": "",
            "zerolinecolor": "white"
           },
           "zaxis": {
            "backgroundcolor": "#E5ECF6",
            "gridcolor": "white",
            "gridwidth": 2,
            "linecolor": "white",
            "showbackground": true,
            "ticks": "",
            "zerolinecolor": "white"
           }
          },
          "shapedefaults": {
           "line": {
            "color": "#2a3f5f"
           }
          },
          "ternary": {
           "aaxis": {
            "gridcolor": "white",
            "linecolor": "white",
            "ticks": ""
           },
           "baxis": {
            "gridcolor": "white",
            "linecolor": "white",
            "ticks": ""
           },
           "bgcolor": "#E5ECF6",
           "caxis": {
            "gridcolor": "white",
            "linecolor": "white",
            "ticks": ""
           }
          },
          "title": {
           "x": 0.05
          },
          "xaxis": {
           "automargin": true,
           "gridcolor": "white",
           "linecolor": "white",
           "ticks": "",
           "title": {
            "standoff": 15
           },
           "zerolinecolor": "white",
           "zerolinewidth": 2
          },
          "yaxis": {
           "automargin": true,
           "gridcolor": "white",
           "linecolor": "white",
           "ticks": "",
           "title": {
            "standoff": 15
           },
           "zerolinecolor": "white",
           "zerolinewidth": 2
          }
         }
        },
        "title": {
         "text": "Timeline Plot"
        },
        "xaxis": {
         "title": {
          "text": "Datetime"
         },
         "type": "date"
        },
        "yaxis": {
         "title": {
          "text": "Trial"
         }
        }
       }
      },
      "image/png": "[encoded data removed]"
     },
     "metadata": {},
     "output_type": "display_data"
    }
   ],
   "source": [
    "fig = plot_timeline(study)\n",
    "fig.show()"
   ]
  }
 ],
 "metadata": {
  "kernelspec": {
   "display_name": "Python (mtl-pep-prop)",
   "language": "python",
   "name": "mtl-pep-prop"
  },
  "language_info": {
   "codemirror_mode": {
    "name": "ipython",
    "version": 3
   },
   "file_extension": ".py",
   "mimetype": "text/x-python",
   "name": "python",
   "nbconvert_exporter": "python",
   "pygments_lexer": "ipython3",
   "version": "3.9.16"
  }
 },
 "nbformat": 4,
 "nbformat_minor": 5
}
