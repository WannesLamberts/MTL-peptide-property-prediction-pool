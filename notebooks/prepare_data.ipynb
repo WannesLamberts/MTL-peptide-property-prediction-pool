{
 "cells": [
  {
   "cell_type": "code",
   "execution_count": null,
   "id": "9adf061c-f9c5-4235-a4ef-7cd99fbafeb2",
   "metadata": {},
   "outputs": [],
   "source": []
  }
 ],
 "metadata": {
  "kernelspec": {
   "display_name": "Python [conda env:base] *",
   "language": "python",
   "name": "conda-base-py"
  },
  "language_info": {
   "codemirror_mode": {
    "name": "ipython",
    "version": 3
   },
   "file_extension": ".py",
   "mimetype": "text/x-python",
   "name": "python",
   "nbconvert_exporter": "python",
   "pygments_lexer": "ipython3",
   "version": "3.12.3"
  }
 },
 "nbformat": 4,
 "nbformat_minor": 5
}
