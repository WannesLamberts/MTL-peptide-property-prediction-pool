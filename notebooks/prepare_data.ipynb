{
 "cells": [
  {
   "cell_type": "code",
   "execution_count": 7,
   "id": "initial_id",
   "metadata": {},
   "outputs": [],
   "source": [
    "import pandas as pd\n",
    "import os"
   ]
  },
  {
   "cell_type": "code",
   "execution_count": 11,
   "id": "ff8ed3b9-9e28-4e8c-8d30-9eb34e0cf72e",
   "metadata": {},
   "outputs": [],
   "source": [
    "def convert_data_format(file, out_file):\n",
    "    df = pd.read_parquet(file, engine=\"pyarrow\")\n",
    "    # Select relevant columns\n",
    "    df = df[['sequence', 'iRT', 'filename','dataset','task_id']]\n",
    "\n",
    "    # Rename columns correctly\n",
    "    df.columns = ['modified_sequence', 'label', 'filename','dataset','task_id']\n",
    "\n",
    "    # Add missing columns\n",
    "    df['task'] = 'iRT'\n",
    "    os.makedirs(os.path.dirname(out_file), exist_ok=True)\n",
    "\n",
    "    df = df.reset_index(drop=True)\n",
    "    df.to_parquet(out_file, index=True)\n",
    "\n",
    "convert_data_format('../raw_data/76_tasks.parquet',\"../data/76_tasks.parquet\")"
   ]
  }
 ],
 "metadata": {
  "kernelspec": {
   "display_name": "Python [conda env:base] *",
   "language": "python",
   "name": "conda-base-py"
  },
  "language_info": {
   "codemirror_mode": {
    "name": "ipython",
    "version": 3
   },
   "file_extension": ".py",
   "mimetype": "text/x-python",
   "name": "python",
   "nbconvert_exporter": "python",
   "pygments_lexer": "ipython3",
   "version": "3.12.3"
  }
 },
 "nbformat": 4,
 "nbformat_minor": 5
}
